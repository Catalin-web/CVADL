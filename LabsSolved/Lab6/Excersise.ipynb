{
  "cells": [
    {
      "cell_type": "markdown",
      "metadata": {
        "id": "9hXhoiRUvnHJ"
      },
      "source": [
        "# Computer vision and deep learning - Laboratory 6\n",
        "\n",
        "In this last laboratory, we will switch our focus from implementing and training neural networks to developing a machine learning application.\n",
        "More specifically you will learn how you can convert your saved torch model into a more portable format using torch script and how you can create a simple demo application for your model.\n",
        "\n"
      ]
    },
    {
      "cell_type": "markdown",
      "metadata": {
        "id": "8spOviRwB3Uz"
      },
      "source": [
        "## Converting your model into portable TorchScript binaries\n",
        "\n",
        "\n",
        "``TorchScript`` allows you to create serializable and optimizable models from PyTorch code and then use them in a process where there is no Python dependency.\n",
        "\n",
        "\n",
        "When deploying our module in production systems, we might need to run the model using another programming language (not Python) and even on mobile or embedded devices. In addition, we need a more lightweight environment than the development one.\n",
        "\n",
        "\n",
        "Until now, when training a model we've saved checkpoints and reloaded the weights when needed into the development environment. As the name suggests, the checkpoints contain additional information (such as optimizer states) which allows you to resume the training process. However, all this information is not required during inference.\n",
        "\n",
        "\n",
        "\n",
        "\n",
        "``Torchscript`` allows you to create a lightweight and independent model artifact suitable for runtime via two different techniques: scripting and tracing. They are both used to convert a PyTorch model into a more optimized or deployable form.\n",
        "\n",
        "\n",
        "\n",
        "\n",
        "Tracing involves capturing a model's execution trace by passing example inputs through the model and recording the operations executed. This creates a TorchScript representation of the model based on the traced operations. However, tracing might not capture all dynamic aspects of the model, especially if the model's behavior changes dynamically based on input data or control flow operations. Tracing is more focused on capturing the specific operations executed with example inputs, which might be more efficient but might not cover all dynamic behaviors of complex models.\n",
        "\n",
        "\n",
        "\n",
        "\n",
        "Scripting, on the other hand, refers to converting a PyTorch model (built using PyTorch's dynamic computation graph with Python control flow, such as loops and if statements) into a TorchScript. This involves representing the model as a static computation graph that can be executed independently of Python. Scripting allows the model to be saved and run in environments where a Python interpreter might not be available. Scripting captures the entire model logic and can handle more complex models with Pythonic control flow, making it more flexible but potentially more complex.\n",
        "\n",
        "\n",
        "Both techniques aim to transform PyTorch models into TorchScript representations, making them efficient for deployment in various environments or for optimized execution, albeit with different approaches. The choice between scripting and tracing depends on the specific use case, model complexity, and deployment requirements.\n",
        "\n",
        "You can check out the [documentation](https://pytorch.org/docs/stable/jit.html) for further details on ``TorchScript``.\n",
        "\n"
      ]
    },
    {
      "cell_type": "markdown",
      "metadata": {
        "id": "26fLZ04xnXyA"
      },
      "source": [
        "Below you have an example that demonstrates the conversion of a pre-trained ResNet-18 model from torchvision into a TorchScript and then loading and using the saved TorchScript model for inference:"
      ]
    },
    {
      "cell_type": "code",
      "execution_count": 22,
      "metadata": {},
      "outputs": [],
      "source": [
        "import os\n",
        "import sys\n",
        "import cv2\n",
        "import wget\n",
        "import glob\n",
        "import wandb\n",
        "import shutil\n",
        "import numpy as np\n",
        "import numpy.testing as npt\n",
        "import torch\n",
        "import torchvision\n",
        "import matplotlib.pyplot as plt\n",
        "from torchvision.transforms import v2\n",
        "from torchvision.datasets import VisionDataset\n",
        "from torch.utils.data import Subset, DataLoader\n",
        "from torchvision.datasets.utils import check_integrity, download_and_extract_archive, download_url, verify_str_arg\n",
        "from typing import Any, Callable, Dict, List, Optional, Tuple, Union\n",
        "import shutil\n",
        "from PIL import Image,ImageFile\n",
        "import glob\n",
        "import os\n",
        "import sys\n",
        "import torch\n",
        "from torch import Tensor\n",
        "import torch.testing as torch_testing\n",
        "from torch.utils.data import Subset, DataLoader\n",
        "from torch.utils.data.sampler import SubsetRandomSampler\n",
        "import torch.nn as nn\n",
        "import torch.nn.functional as F\n",
        "import torchvision.transforms.functional as TF\n",
        "import torchvision\n",
        "import numpy as np\n",
        "import numpy.testing as npt\n",
        "from functools import reduce\n",
        "import matplotlib.pyplot as plt\n",
        "import os\n",
        "import pickle\n",
        "import cv2\n",
        "from dataclasses import dataclass\n",
        "import tqdm\n",
        "from sklearn.model_selection import train_test_split\n",
        "from torch.utils.data.dataloader import default_collate\n",
        "import pprofile\n",
        "from torchvision.models import resnet18, ResNet18_Weights\n",
        "from sklearn.metrics import confusion_matrix\n",
        "import seaborn as sn\n",
        "import pandas as pd\n",
        "import torchmetrics\n",
        "import wandb\n",
        "import dataclasses\n",
        "import torchvision.models as models\n",
        "import gradio as gr"
      ]
    },
    {
      "cell_type": "code",
      "execution_count": 23,
      "metadata": {
        "id": "P2gPwGpavl7C"
      },
      "outputs": [
        {
          "name": "stderr",
          "output_type": "stream",
          "text": [
            "/usr/local/lib/python3.10/dist-packages/torchvision/models/_utils.py:208: UserWarning: The parameter 'pretrained' is deprecated since 0.13 and may be removed in the future, please use 'weights' instead.\n",
            "  warnings.warn(\n",
            "/usr/local/lib/python3.10/dist-packages/torchvision/models/_utils.py:223: UserWarning: Arguments other than a weight enum or `None` for 'weights' are deprecated since 0.13 and may be removed in the future. The current behavior is equivalent to passing `weights=ResNet18_Weights.IMAGENET1K_V1`. You can also use `weights=ResNet18_Weights.DEFAULT` to get the most up-to-date weights.\n",
            "  warnings.warn(msg)\n"
          ]
        }
      ],
      "source": [
        "model = models.resnet18(pretrained=True)\n",
        "model.eval()\n",
        "\n",
        "# Create a sample input tensor (change according to your model's input requirements)\n",
        "example_input = torch.randn(1, 3, 224, 224)\n",
        "\n",
        "# Script the model\n",
        "scripted_model = torch.jit.script(model)\n",
        "\n",
        "# Save the scripted model to a file\n",
        "scripted_model.save(\"scripted_resnet18.pt\")\n"
      ]
    },
    {
      "cell_type": "code",
      "execution_count": 24,
      "metadata": {},
      "outputs": [],
      "source": [
        "class DoubleConvolution(nn.Module):\n",
        "    def __init__(self, in_channels: int, out_channels: int):\n",
        "        super(DoubleConvolution, self).__init__()\n",
        "        self.conv = nn.Sequential(\n",
        "            nn.Conv2d(in_channels, out_channels, kernel_size=3, padding=1, bias=False),\n",
        "            nn.BatchNorm2d(out_channels),\n",
        "            nn.ReLU(inplace=True),\n",
        "            nn.Conv2d(out_channels, out_channels, kernel_size=3, padding=1, bias=False),\n",
        "            nn.BatchNorm2d(out_channels),\n",
        "            nn.ReLU(inplace=True)\n",
        "        )\n",
        "    \n",
        "    def forward(self, x: Tensor) -> Tensor:\n",
        "        return self.conv(x)\n",
        "\n",
        "class UNET(nn.Module):\n",
        "    def __init__(self, in_channels=1, out_channels=1, features=[64,128,256,512]):\n",
        "        super(UNET, self).__init__()\n",
        "        self.downs = nn.ModuleList()\n",
        "        self.ups = nn.ModuleList()\n",
        "        self.pool = nn.MaxPool2d(kernel_size=2, stride=2)\n",
        "        \n",
        "        # Down part of UNET\n",
        "        for feature in features:\n",
        "            self.downs.append(DoubleConvolution(in_channels, feature))\n",
        "            in_channels = feature\n",
        "        \n",
        "        # Up part of UNET\n",
        "        for feature in reversed(features):\n",
        "            self.ups.append(\n",
        "                nn.ConvTranspose2d(feature*2, feature, kernel_size=2, stride=2)\n",
        "            )\n",
        "            self.ups.append(DoubleConvolution(feature*2, feature))\n",
        "        \n",
        "        self.bottleneck = DoubleConvolution(features[-1], features[-1]*2)\n",
        "        self.final_conv = nn.Conv2d(features[0], out_channels, kernel_size=1)\n",
        "    \n",
        "    def forward(self, x: Tensor) -> Tensor:\n",
        "        skip_connections = []\n",
        "        \n",
        "        for down in self.downs:\n",
        "            x = down(x)\n",
        "            skip_connections.append(x)\n",
        "            x = self.pool(x)\n",
        "        \n",
        "        x = self.bottleneck(x)\n",
        "        skip_connections = skip_connections[::-1]\n",
        "        \n",
        "        for idx,up in enumerate(self.ups):\n",
        "            if (idx%2 == 0):\n",
        "                x=up(x)\n",
        "                if x.shape != skip_connections[idx//2].shape:\n",
        "                    x = TF.resize(x, size=skip_connections[idx//2].shape[2:])\n",
        "                x=torch.cat((skip_connections[idx//2],x),dim=1)\n",
        "            else:\n",
        "                x = up(x)\n",
        "        \n",
        "        return self.final_conv(x)\n",
        "\n",
        "\n",
        "@dataclasses.dataclass\n",
        "class InputParameters:\n",
        "    model: nn.Module\n",
        "    optimizer: torch.optim.Optimizer\n",
        "    scheduler: torch.optim.lr_scheduler._LRScheduler"
      ]
    },
    {
      "cell_type": "code",
      "execution_count": 25,
      "metadata": {},
      "outputs": [
        {
          "name": "stdout",
          "output_type": "stream",
          "text": [
            "=> Loading checkpoint\n"
          ]
        }
      ],
      "source": [
        "def load_model(filename):\n",
        "    print(\"=> Loading checkpoint\")\n",
        "    input_parameters = torch.load(filename)\n",
        "    return input_parameters.model\n",
        "\n",
        "# https://github.com/pytorch/pytorch/issues/47496\n",
        "segmentation_model = load_model(\"model.pth\")\n",
        "segmentation_model = torch.jit.script(segmentation_model)\n",
        "segmentation_model.save(\"segmentation_model.pt\")"
      ]
    },
    {
      "cell_type": "code",
      "execution_count": 26,
      "metadata": {},
      "outputs": [
        {
          "name": "stderr",
          "output_type": "stream",
          "text": [
            "/usr/local/lib/python3.10/dist-packages/torchvision/transforms/v2/_deprecated.py:43: UserWarning: The transform `ToTensor()` is deprecated and will be removed in a future release. Instead, please use `v2.Compose([v2.ToImage(), v2.ToDtype(torch.float32, scale=True)])`.\n",
            "  warnings.warn(\n"
          ]
        },
        {
          "data": {
            "text/plain": [
              "Text(0.5, 1.0, 'Segmentation')"
            ]
          },
          "execution_count": 26,
          "metadata": {},
          "output_type": "execute_result"
        },
        {
          "data": {
            "image/png": "[encoded data removed]",
            "text/plain": [
              "<Figure size 432x288 with 1 Axes>"
            ]
          },
          "metadata": {
            "needs_background": "light"
          },
          "output_type": "display_data"
        }
      ],
      "source": [
        "# Example usage:\n",
        "transforms = v2.Compose([v2.Resize(128), v2.ToTensor()])\n",
        "with Image.open(\"example_1.jpg\") as image:\n",
        "    image.convert(\"RGB\")\n",
        "\n",
        "transformed_image = transforms(image).to(\"cuda\")\n",
        "transformed_image = transformed_image.unsqueeze(0)\n",
        "\n",
        "preds = segmentation_model(transformed_image).argmax(dim=1)\n",
        "computed_segmentation = F.one_hot(preds[0]).float().cpu().numpy()\n",
        "plt.imshow(computed_segmentation)\n",
        "plt.title(f\"Segmentation\")"
      ]
    },
    {
      "cell_type": "markdown",
      "metadata": {
        "id": "fBYTvmFYr9Fz"
      },
      "source": [
        "The main steps of the process are:\n",
        "- load the pre-trained model and set it to evaluation mode with model.eval().\n",
        "- create a sample input tensor (example_input) that matches the expected input shape of the model.\n",
        "- use ```torch.jit.script()``` to convert the model into a TorchScript representation.\n",
        "- save the scripted model to a file using ```scripted_model.save()``` for later use or deployment."
      ]
    },
    {
      "cell_type": "markdown",
      "metadata": {
        "id": "0eMTs3vbsV56"
      },
      "source": [
        "Now, let's see how you can use the scripted model:"
      ]
    },
    {
      "cell_type": "code",
      "execution_count": 27,
      "metadata": {
        "id": "TO58HkOtsZXx"
      },
      "outputs": [
        {
          "name": "stdout",
          "output_type": "stream",
          "text": [
            "Prediction: tabby, Probability: 0.7649\n",
            "Prediction: tiger cat, Probability: 0.1408\n",
            "Prediction: Egyptian cat, Probability: 0.0876\n",
            "Prediction: Persian cat, Probability: 0.0024\n",
            "Prediction: lynx, Probability: 0.0013\n"
          ]
        }
      ],
      "source": [
        "from io import BytesIO\n",
        "import requests\n",
        "from torchvision.models import  ResNet18_Weights\n",
        "\n",
        "# Load the saved TorchScript model\n",
        "model = torch.jit.load(\"scripted_resnet18.pt\")\n",
        "\n",
        "\n",
        "preprocess = v2.Compose([\n",
        "    v2.Resize(256),\n",
        "    v2.CenterCrop(224),\n",
        "    v2.ToTensor(),\n",
        "    v2.Normalize(mean=[0.485, 0.456, 0.406], std=[0.229, 0.224, 0.225]),\n",
        "])\n",
        "\n",
        "\n",
        "image_url = 'https://images.unsplash.com/photo-1611267254323-4db7b39c732c?q=80&w=1000&auto=format&fit=crop&ixlib=rb-4.0.3&ixid=M3wxMjA3fDB8MHxzZWFyY2h8M3x8Y3V0ZSUyMGNhdHxlbnwwfHwwfHx8MA%3D%3D'\n",
        "response = requests.get(image_url)\n",
        "image = Image.open(BytesIO(response.content)).convert('RGB')\n",
        "input_tensor = preprocess(image)\n",
        "input_batch = input_tensor.unsqueeze(0)  # Add batch dimension\n",
        "with torch.no_grad():\n",
        "    # run the scripted model\n",
        "    output_image = model(input_batch)\n",
        "weights = ResNet18_Weights.DEFAULT\n",
        "class_names = weights.meta[\"categories\"]\n",
        "# Get the top 5 predictions\n",
        "probabilities = torch.nn.functional.softmax(output_image[0], dim=0)\n",
        "top5_prob, top5_catid = torch.topk(probabilities, 5)\n",
        "\n",
        "# Display top 5 predicted classes and their probabilities\n",
        "for i in range(top5_prob.size(0)):\n",
        "    class_idx = top5_catid[i].item()\n",
        "    print(f\"Prediction: {class_names[class_idx]}, Probability: {top5_prob[i].item():.4f}\")"
      ]
    },
    {
      "cell_type": "markdown",
      "metadata": {
        "id": "oaEEfd1NOxyk"
      },
      "source": [
        "Optionally, you can also save the torchscript binary into ```wandb```. In this way, you will have a connection link between the model that is running in production and the training runs that you logged during training."
      ]
    },
    {
      "cell_type": "markdown",
      "metadata": {
        "id": "E-btbzsULYXM"
      },
      "source": [
        "# Creating a simple UI with gradio\n",
        "\n",
        "\n",
        "[Gradio](https://www.gradio.app/docs/interface) is an open-source Python library used for creating customizable UI components for machine learning models with just a few lines of code. It greatly simplifies the process of building web-based interfaces to interact with ML models without requiring extensive knowledge of web development and allows you to quickly build an MVP and get feedback from the users.\n",
        "\n",
        "\n",
        "To get an application running, you just need to specify three parameters:\n",
        "1. the function to wrap the interface around.\n",
        "2. what are the desired input components?\n",
        "3. what are the desired output components?\n",
        "\n",
        "\n",
        "This is achieved through the ``gradio.Interface`` class, the central component in gradio, responsible for creating the user interface for your machine learning model.\n",
        "\n",
        "\n",
        "```\n",
        "import gradio as gr\n",
        "demo = gr.Interface(fn=image_classifier,\n",
        "                    inputs=\"image\",\n",
        "                    outputs=\"label\")\n",
        "\n",
        "\n",
        "```\n",
        "\n",
        "\n",
        "Once you've defined the gr.Interface, the launch() method is used to start the interface, making it accessible through a web browser.\n",
        "\n",
        "\n",
        "```\n",
        "demo.launch()\n",
        "```\n",
        "\n",
        "\n",
        "When the launch method is called, ```gradio``` launches a simple web server that serves the demo. If you specify ```share=True``` when calling the launch function, ```gradio``` will create a public link Can also be used to create a public link used by anyone to access the demo from their browser.\n"
      ]
    },
    {
      "cell_type": "markdown",
      "metadata": {
        "id": "CXflaukmmWPh"
      },
      "source": [
        "## Simple UI for image classification in gradio\n",
        "\n",
        "Below you have an example of how you could use ```gradio``` to create a simple UI for an image classification problem."
      ]
    },
    {
      "cell_type": "code",
      "execution_count": 29,
      "metadata": {
        "colab": {
          "base_uri": "https://localhost:8080/",
          "height": 626
        },
        "id": "fpXMo37vMUYL",
        "outputId": "99a5b2a7-9173-42fc-96e7-ba2aba458039"
      },
      "outputs": [
        {
          "name": "stderr",
          "output_type": "stream",
          "text": [
            "/usr/local/lib/python3.10/dist-packages/torchvision/transforms/v2/_deprecated.py:43: UserWarning: The transform `ToTensor()` is deprecated and will be removed in a future release. Instead, please use `v2.Compose([v2.ToImage(), v2.ToDtype(torch.float32, scale=True)])`.\n",
            "  warnings.warn(\n"
          ]
        },
        {
          "name": "stdout",
          "output_type": "stream",
          "text": [
            "Running on local URL:  http://127.0.0.1:7860\n",
            "\n",
            "To create a public link, set `share=True` in `launch()`.\n"
          ]
        },
        {
          "data": {
            "text/html": [
              "<div><iframe src=\"http://127.0.0.1:7860/\" width=\"100%\" height=\"500\" allow=\"autoplay; camera; microphone; clipboard-read; clipboard-write;\" frameborder=\"0\" allowfullscreen></iframe></div>"
            ],
            "text/plain": [
              "<IPython.core.display.HTML object>"
            ]
          },
          "metadata": {},
          "output_type": "display_data"
        },
        {
          "data": {
            "text/plain": []
          },
          "execution_count": 29,
          "metadata": {},
          "output_type": "execute_result"
        }
      ],
      "source": [
        "CLASSES = ['airplane', 'automobile', 'bird', 'cat', 'deer', 'dog', 'frog', 'horse', 'ship', 'truck']\n",
        "\n",
        "preprocess = v2.Compose([\n",
        "    v2.Resize(256),\n",
        "    v2.CenterCrop(224),\n",
        "    v2.ToTensor(),\n",
        "    v2.Normalize(mean=[0.485, 0.456, 0.406], std=[0.229, 0.224, 0.225]),\n",
        "])\n",
        "\n",
        "def preprocess_img(img):\n",
        "    img = Image.fromarray(img.astype('uint8'), 'RGB')\n",
        "    img = preprocess(img)\n",
        "    return img\n",
        "\n",
        "def classify_image(img):\n",
        "    img = preprocess_img(img)\n",
        "    input_batch = img.unsqueeze(0)\n",
        "    with torch.no_grad():\n",
        "        output = model(input_batch)\n",
        "    probabilities = torch.nn.functional.softmax(output[0], dim=0)\n",
        "    confidences = {class_names[i]: float(probabilities[i]) for i in range(len(class_names))}\n",
        "    return confidences\n",
        "\n",
        "ui = gr.Interface(fn=classify_image,\n",
        "             inputs=gr.Image(),\n",
        "             outputs=gr.Label(num_top_classes=3),\n",
        "             examples=['Abyssinian.jpg', 'Bengal.jpg'],\n",
        "          )\n",
        "ui.launch()"
      ]
    },
    {
      "cell_type": "markdown",
      "metadata": {
        "id": "BKXtFC0_hkcm"
      },
      "source": [
        "## Accessing the webcam with gradio\n",
        "\n",
        "In the example below, you have an example in which you take the input images from your webcam.\n",
        "The function wrapped by gradio uses a mask to blur the input image outside that mask. If you plan to do background blurring, the mask could be the segmentation mask predicted by your model.\n",
        "\n"
      ]
    },
    {
      "cell_type": "code",
      "execution_count": 38,
      "metadata": {
        "colab": {
          "base_uri": "https://localhost:8080/",
          "height": 626
        },
        "id": "HzC5frqLhk1I",
        "outputId": "c1e40a6a-c49b-4a93-f914-fce4eeb17341"
      },
      "outputs": [
        {
          "name": "stderr",
          "output_type": "stream",
          "text": [
            "/usr/local/lib/python3.10/dist-packages/torchvision/transforms/v2/_deprecated.py:43: UserWarning: The transform `ToTensor()` is deprecated and will be removed in a future release. Instead, please use `v2.Compose([v2.ToImage(), v2.ToDtype(torch.float32, scale=True)])`.\n",
            "  warnings.warn(\n"
          ]
        },
        {
          "name": "stdout",
          "output_type": "stream",
          "text": [
            "Running on local URL:  http://127.0.0.1:7868\n",
            "\n",
            "To create a public link, set `share=True` in `launch()`.\n"
          ]
        },
        {
          "name": "stderr",
          "output_type": "stream",
          "text": [
            "/usr/local/lib/python3.10/dist-packages/torchvision/transforms/functional.py:1603: UserWarning: The default value of the antialias parameter of all the resizing transforms (Resize(), RandomResizedCrop(), etc.) will change from None to True in v0.17, in order to be consistent across the PIL and Tensor backends. To suppress this warning, directly pass antialias=True (recommended, future default), antialias=None (current default, which means False for Tensors and True for PIL), or antialias=False (only works on Tensors - PIL will still use antialiasing). This also applies if you are using the inference transforms from the models weights: update the call to weights.transforms(antialias=True).\n",
            "  warnings.warn(\n"
          ]
        },
        {
          "data": {
            "text/html": [
              "<div><iframe src=\"http://127.0.0.1:7868/\" width=\"100%\" height=\"500\" allow=\"autoplay; camera; microphone; clipboard-read; clipboard-write;\" frameborder=\"0\" allowfullscreen></iframe></div>"
            ],
            "text/plain": [
              "<IPython.core.display.HTML object>"
            ]
          },
          "metadata": {},
          "output_type": "display_data"
        },
        {
          "data": {
            "text/plain": []
          },
          "execution_count": 38,
          "metadata": {},
          "output_type": "execute_result"
        },
        {
          "name": "stderr",
          "output_type": "stream",
          "text": [
            "/usr/local/lib/python3.10/dist-packages/torchvision/transforms/functional.py:1603: UserWarning: The default value of the antialias parameter of all the resizing transforms (Resize(), RandomResizedCrop(), etc.) will change from None to True in v0.17, in order to be consistent across the PIL and Tensor backends. To suppress this warning, directly pass antialias=True (recommended, future default), antialias=None (current default, which means False for Tensors and True for PIL), or antialias=False (only works on Tensors - PIL will still use antialiasing). This also applies if you are using the inference transforms from the models weights: update the call to weights.transforms(antialias=True).\n",
            "  warnings.warn(\n",
            "/usr/local/lib/python3.10/dist-packages/torchvision/transforms/functional.py:1603: UserWarning: The default value of the antialias parameter of all the resizing transforms (Resize(), RandomResizedCrop(), etc.) will change from None to True in v0.17, in order to be consistent across the PIL and Tensor backends. To suppress this warning, directly pass antialias=True (recommended, future default), antialias=None (current default, which means False for Tensors and True for PIL), or antialias=False (only works on Tensors - PIL will still use antialiasing). This also applies if you are using the inference transforms from the models weights: update the call to weights.transforms(antialias=True).\n",
            "  warnings.warn(\n",
            "/usr/local/lib/python3.10/dist-packages/torchvision/transforms/functional.py:1603: UserWarning: The default value of the antialias parameter of all the resizing transforms (Resize(), RandomResizedCrop(), etc.) will change from None to True in v0.17, in order to be consistent across the PIL and Tensor backends. To suppress this warning, directly pass antialias=True (recommended, future default), antialias=None (current default, which means False for Tensors and True for PIL), or antialias=False (only works on Tensors - PIL will still use antialiasing). This also applies if you are using the inference transforms from the models weights: update the call to weights.transforms(antialias=True).\n",
            "  warnings.warn(\n",
            "/usr/local/lib/python3.10/dist-packages/torchvision/transforms/functional.py:1603: UserWarning: The default value of the antialias parameter of all the resizing transforms (Resize(), RandomResizedCrop(), etc.) will change from None to True in v0.17, in order to be consistent across the PIL and Tensor backends. To suppress this warning, directly pass antialias=True (recommended, future default), antialias=None (current default, which means False for Tensors and True for PIL), or antialias=False (only works on Tensors - PIL will still use antialiasing). This also applies if you are using the inference transforms from the models weights: update the call to weights.transforms(antialias=True).\n",
            "  warnings.warn(\n",
            "/usr/local/lib/python3.10/dist-packages/torchvision/transforms/functional.py:1603: UserWarning: The default value of the antialias parameter of all the resizing transforms (Resize(), RandomResizedCrop(), etc.) will change from None to True in v0.17, in order to be consistent across the PIL and Tensor backends. To suppress this warning, directly pass antialias=True (recommended, future default), antialias=None (current default, which means False for Tensors and True for PIL), or antialias=False (only works on Tensors - PIL will still use antialiasing). This also applies if you are using the inference transforms from the models weights: update the call to weights.transforms(antialias=True).\n",
            "  warnings.warn(\n",
            "/usr/local/lib/python3.10/dist-packages/torchvision/transforms/functional.py:1603: UserWarning: The default value of the antialias parameter of all the resizing transforms (Resize(), RandomResizedCrop(), etc.) will change from None to True in v0.17, in order to be consistent across the PIL and Tensor backends. To suppress this warning, directly pass antialias=True (recommended, future default), antialias=None (current default, which means False for Tensors and True for PIL), or antialias=False (only works on Tensors - PIL will still use antialiasing). This also applies if you are using the inference transforms from the models weights: update the call to weights.transforms(antialias=True).\n",
            "  warnings.warn(\n",
            "/usr/local/lib/python3.10/dist-packages/torchvision/transforms/functional.py:1603: UserWarning: The default value of the antialias parameter of all the resizing transforms (Resize(), RandomResizedCrop(), etc.) will change from None to True in v0.17, in order to be consistent across the PIL and Tensor backends. To suppress this warning, directly pass antialias=True (recommended, future default), antialias=None (current default, which means False for Tensors and True for PIL), or antialias=False (only works on Tensors - PIL will still use antialiasing). This also applies if you are using the inference transforms from the models weights: update the call to weights.transforms(antialias=True).\n",
            "  warnings.warn(\n",
            "/usr/local/lib/python3.10/dist-packages/torchvision/transforms/functional.py:1603: UserWarning: The default value of the antialias parameter of all the resizing transforms (Resize(), RandomResizedCrop(), etc.) will change from None to True in v0.17, in order to be consistent across the PIL and Tensor backends. To suppress this warning, directly pass antialias=True (recommended, future default), antialias=None (current default, which means False for Tensors and True for PIL), or antialias=False (only works on Tensors - PIL will still use antialiasing). This also applies if you are using the inference transforms from the models weights: update the call to weights.transforms(antialias=True).\n",
            "  warnings.warn(\n",
            "/usr/local/lib/python3.10/dist-packages/torchvision/transforms/functional.py:1603: UserWarning: The default value of the antialias parameter of all the resizing transforms (Resize(), RandomResizedCrop(), etc.) will change from None to True in v0.17, in order to be consistent across the PIL and Tensor backends. To suppress this warning, directly pass antialias=True (recommended, future default), antialias=None (current default, which means False for Tensors and True for PIL), or antialias=False (only works on Tensors - PIL will still use antialiasing). This also applies if you are using the inference transforms from the models weights: update the call to weights.transforms(antialias=True).\n",
            "  warnings.warn(\n",
            "/usr/local/lib/python3.10/dist-packages/torchvision/transforms/functional.py:1603: UserWarning: The default value of the antialias parameter of all the resizing transforms (Resize(), RandomResizedCrop(), etc.) will change from None to True in v0.17, in order to be consistent across the PIL and Tensor backends. To suppress this warning, directly pass antialias=True (recommended, future default), antialias=None (current default, which means False for Tensors and True for PIL), or antialias=False (only works on Tensors - PIL will still use antialiasing). This also applies if you are using the inference transforms from the models weights: update the call to weights.transforms(antialias=True).\n",
            "  warnings.warn(\n"
          ]
        }
      ],
      "source": [
        "import gradio as gr\n",
        "transforms = v2.Compose([v2.Resize(128), v2.ToTensor()])\n",
        "\n",
        "def get_segmentation(input_image):\n",
        "    if isinstance(input_image, str):\n",
        "        input_image = np.array(Image.open(input_image).convert(\"RGB\"))\n",
        "    else:\n",
        "        input_image = Image.fromarray(input_image.astype('uint8'), 'RGB').convert(\"RGB\")\n",
        "\n",
        "    transformed_image = transforms(input_image).to(\"cuda\")\n",
        "    transformed_image = transformed_image.unsqueeze(0)\n",
        "\n",
        "    preds = segmentation_model(transformed_image).argmax(dim=1)\n",
        "    computed_segmentation = F.one_hot(preds[0]).float().cpu().numpy()\n",
        "    # Convert to gradio:\n",
        "    return computed_segmentation\n",
        "\n",
        "\n",
        "ui = gr.Interface(\n",
        "    fn=get_segmentation,\n",
        "    live=True,\n",
        "    inputs=[gr.Image(sources=[\"webcam\"], streaming=True)],\n",
        "    outputs=[gr.Image()],\n",
        "    title=\"Image segmentation demo!\",\n",
        ")\n",
        "ui.launch()"
      ]
    },
    {
      "cell_type": "markdown",
      "metadata": {
        "id": "GhaGtNlJj1Wr"
      },
      "source": [
        "## Laboratory assignment\n",
        "\n",
        "\n",
        "Now you have all the knowledge required to build your own ML semantic segmentation application.\n",
        "\n",
        "\n",
        "1. First use ```torchscript``` to obtain a model binary.\n",
        "2. Using gradio, create a simple application that uses the semantic segmentation that you developed. Feel free to define the scope and the functional requirements of your app.\n",
        "3. __[Optional, independent work]__ Use a serverless cloud function on [AWS Lambda](https://aws.amazon.com/lambda/) (this requires an account on Amazon AWS and you need to provide the details of a credit card) to run the prediction and get the results.\n",
        "\n",
        "\n",
        "Congratulations, you've just completed all the practical work for Computer Vision and Deep Learning!\n",
        "May your data always be clean, your models accurate, and your code bug-free!\n",
        "\n",
        "\n",
        "\n"
      ]
    }
  ],
  "metadata": {
    "colab": {
      "provenance": []
    },
    "kernelspec": {
      "display_name": "Python 3",
      "name": "python3"
    },
    "language_info": {
      "codemirror_mode": {
        "name": "ipython",
        "version": 3
      },
      "file_extension": ".py",
      "mimetype": "text/x-python",
      "name": "python",
      "nbconvert_exporter": "python",
      "pygments_lexer": "ipython3",
      "version": "3.10.12"
    }
  },
  "nbformat": 4,
  "nbformat_minor": 0
}
