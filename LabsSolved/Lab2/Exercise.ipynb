{
 "cells": [
  {
   "cell_type": "code",
   "execution_count": 2,
   "metadata": {},
   "outputs": [],
   "source": [
    "import os\n",
    "import sys\n",
    "import torch\n",
    "from torch import Tensor\n",
    "import torch.testing as torch_testing\n",
    "import torch.nn as nn\n",
    "import numpy as np\n",
    "import numpy.testing as npt\n",
    "from functools import reduce\n",
    "import matplotlib.pyplot as plt\n",
    "import os\n",
    "import pickle\n",
    "import cv2\n",
    "from dataclasses import dataclass"
   ]
  },
  {
   "cell_type": "markdown",
   "metadata": {},
   "source": [
    "Let's start by implementing the softmax function. This function takes as input an array of *N* arbitrary numbers and normalizes the array such that the output is a probability distribution.\n",
    "\n",
    "\n",
    "\\begin{equation}\n",
    "softmax(x)_i = \\frac{e^{x_i}}{\\sum_{j = 0}^{j = N} e^{x_j}}\n",
    "\\end{equation}\n",
    "\n",
    "In the file *activations.py* write the implementation of the softmax function.\n",
    "\n",
    "**Short discussion about softmax numerical stability.** You can also check this [post](https://ogunlao.github.io/2020/04/26/you_dont_really_know_softmax.html).\n",
    "\n",
    "This code is found in _activations.py_ ."
   ]
  },
  {
   "cell_type": "code",
   "execution_count": 3,
   "metadata": {},
   "outputs": [],
   "source": [
    "def softmax_without_temperature(input_array):\n",
    "    return np.exp(input_array)/np.sum(np.exp(input_array))\n",
    "\n",
    "def softmax_with_temperature(input_array, temperature):\n",
    "    return np.exp(input_array/temperature)/np.sum(np.exp(input_array/temperature))\n",
    "\n",
    "input_array = np.array([np.log(1), np.log(2), np.log(3), np.log(4)])\n",
    "result_without_temperature = softmax_without_temperature(input_array)\n",
    "result_with_temperature = softmax_with_temperature(input_array, 1)\n",
    "\n",
    "# My validation of both softmax\n",
    "npt.assert_almost_equal([0.1, 0.2, 0.3, 0.4], result_without_temperature)\n",
    "npt.assert_almost_equal([0.1, 0.2, 0.3, 0.4], result_with_temperature)"
   ]
  },
  {
   "cell_type": "code",
   "execution_count": 4,
   "metadata": {},
   "outputs": [],
   "source": [
    "# Validation of softmax without temperature\n",
    "arr = np.asarray([2, 4, 10, 100, 2.0])\n",
    "assert (np.allclose(torch.nn.functional.softmax(torch.from_numpy(arr), dim=0).numpy(), softmax_without_temperature(arr)))\n",
    "arr = np.asarray([0.0, 0, 0, 1, 0])\n",
    "assert (np.allclose(torch.nn.functional.softmax(torch.from_numpy(arr), dim=0).numpy(), softmax_without_temperature(arr)))\n",
    "arr = np.asarray([-750.0, 23, 9, 10, 230])\n",
    "assert (np.allclose(torch.nn.functional.softmax(torch.from_numpy(arr), dim=0).numpy(), softmax_without_temperature(arr)))\n",
    "arr = np.ones((4, ))\n",
    "assert (np.allclose(torch.nn.functional.softmax(torch.from_numpy(arr), dim=0).numpy(), softmax_without_temperature(arr)))\n",
    "arr = np.zeros((4, ))\n",
    "# Validation of softmax with temperature\n",
    "arr = np.asarray([2, 4, 10, 100, 2.0])\n",
    "assert (np.allclose(torch.nn.functional.softmax(torch.from_numpy(arr), dim=0).numpy(), softmax_with_temperature(arr, 1)))\n",
    "arr = np.asarray([0.0, 0, 0, 1, 0])\n",
    "assert (np.allclose(torch.nn.functional.softmax(torch.from_numpy(arr), dim=0).numpy(), softmax_with_temperature(arr, 1)))\n",
    "arr = np.asarray([-750.0, 23, 9, 10, 230])\n",
    "assert (np.allclose(torch.nn.functional.softmax(torch.from_numpy(arr), dim=0).numpy(), softmax_with_temperature(arr, 1)))\n",
    "arr = np.ones((4, ))\n",
    "assert (np.allclose(torch.nn.functional.softmax(torch.from_numpy(arr), dim=0).numpy(), softmax_with_temperature(arr, 1)))\n",
    "arr = np.zeros((4, ))"
   ]
  },
  {
   "cell_type": "markdown",
   "metadata": {},
   "source": [
    "*Softmax temperature* is a concept that we'll be using later in this course.\n",
    "The *softmax temperature* is a hyper-parameter (positive number) which scales the input of the softmax function to modify the output probabilities.\n",
    "\\begin{equation}\n",
    "s(x, T)_i = \\frac{e^{x_i/T}}{\\sum_{j = 0}^{j = N} e^{x_j/T}}\n",
    "\\end{equation}"
   ]
  },
  {
   "cell_type": "markdown",
   "metadata": {},
   "source": [
    "Now modify your implementation of the softmax function such that it also takes as input the softmax temperature (a positive floating point number). If this parameter is not specified, it should default to 1.\n",
    "\n",
    "Now let's visualise what is the effect of the softmax temperature.\n",
    "Given the input vector *x = [100, 2, -150, 75, 99, 3]* , plot the original vector and the softmax with temperatures $ T \\in \\{0.25, 0.75, 1, 1.5, 2, 5, 10, 20, 30\\} $.\n",
    "\n",
    "You can use a bar plot for this. The title for each plot should be the value of the softmax temperature. Also, make sure that for all the plots the range of the *y* axis is set to (0, 1).\n",
    "\n",
    "This code is found in _activations.py_ ."
   ]
  },
  {
   "cell_type": "code",
   "execution_count": 5,
   "metadata": {},
   "outputs": [
    {
     "data": {
      "text/plain": [
       "<matplotlib.legend.Legend at 0x7fd0d41d28f0>"
      ]
     },
     "execution_count": 5,
     "metadata": {},
     "output_type": "execute_result"
    },
    {
     "data": {
      "text/plain": [
       "<Figure size 1440x720 with 0 Axes>"
      ]
     },
     "metadata": {},
     "output_type": "display_data"
    },
    {
     "data": {
      "image/png": "[encoded data removed]",
      "text/plain": [
       "<Figure size 432x288 with 1 Axes>"
      ]
     },
     "metadata": {
      "needs_background": "light"
     },
     "output_type": "display_data"
    }
   ],
   "source": [
    "initial_vector = np.array([100, 2, -150, 75, 99, 3])\n",
    "temperatures = [0.25, 0.75, 1, 1.5, 2, 5, 10, 20, 30]\n",
    "indices_in_initial_vector = np.arange(len(initial_vector))\n",
    "figure_width = 20\n",
    "figure_height = 10\n",
    "plt.figure(figsize=(figure_width, figure_height))\n",
    "bar_width = 0.1\n",
    "fig, ax = plt.subplots()\n",
    "\n",
    "for index, temperature in enumerate(temperatures):\n",
    "    ax.bar(indices_in_initial_vector+index*bar_width, softmax_with_temperature(initial_vector, temperature), bar_width, label=str(temperature))\n",
    "    npt.assert_almost_equal(np.sum(softmax_with_temperature(initial_vector, temperature)), 1.0)\n",
    "\n",
    "ax.set_xticks(indices_in_initial_vector + bar_width*len(temperatures) / 2)\n",
    "ax.set_xticklabels(initial_vector)\n",
    "plt.xlabel('index of array')\n",
    "plt.ylabel('probability')\n",
    "plt.legend()"
   ]
  },
  {
   "cell_type": "markdown",
   "metadata": {},
   "source": [
    "1. What happens when we use a large number for the softmax temperature?\n",
    "\n",
    "Answear: The probability distribution becomes more uniform.\n",
    "\n",
    "2. What happens when we use a small number (i.e. less than 1) for the softmax temperature?\n",
    "\n",
    "Answear: The probability distribution becomes less uniform.\n",
    "\n",
    "3. In the context of image classification, the predicted class is determined by taking the *argmax* of the softmax function. Does the softmax temperature change in any way this prediction?\n",
    "\n",
    "Answear: Nope, based on the last example"
   ]
  },
  {
   "cell_type": "markdown",
   "metadata": {},
   "source": [
    "In the script *cifar10.py* you will complete the function ``load_cifar10``, which load the data from the archive you just downloaded.\n",
    "\n",
    "The images of this dataset are are stored in a numpy array, one image per row, in the following order:\n",
    "\n",
    "\"_The first 1024 entries contain the red channel values, the next 1024 the green, and the final 1024 the blue. The image is stored in row-major order, so that the first 32 entries of the array are the red channel values of the first row of the image._\"\n",
    "\n",
    "Your task here is just to manipulate this array, such that each image has the shape (32, 32, 3) and uses RGB ordering."
   ]
  },
  {
   "cell_type": "code",
   "execution_count": 6,
   "metadata": {},
   "outputs": [],
   "source": [
    "labels = np.array(['airplane', 'automobile', 'bird', 'cat', 'deer', 'dog', 'frog', 'horse', 'ship', 'truck'])\n",
    "number_of_classes = len(labels)"
   ]
  },
  {
   "cell_type": "code",
   "execution_count": 7,
   "metadata": {},
   "outputs": [],
   "source": [
    "def load_file(file_path: str) -> (np.ndarray, np.ndarray):\n",
    "    \"\"\"\"\n",
    "    Load a single batch file.\n",
    "    This function only reshape the image from 1000 rows of 32(rows)*32(columns)*3(channels) to 1000 rows to a rgb format.\n",
    "    Basically each line should contain at the end 32 rows * 32 columns * 3 channels = 3072 values.\n",
    "    Initial shape: (10000, 3072)\n",
    "    Final shape: (10000, 32, 32, 3)\n",
    "    \"\"\"\n",
    "    with open(file_path, 'rb') as f:\n",
    "        data = pickle.load(f, encoding='latin1')\n",
    "        all_images = data['data']\n",
    "        number_of_images = all_images.shape[0]\n",
    "        y = data['labels']\n",
    "        reshaped_and_transpose_images = all_images.reshape(number_of_images, 3, 32, 32).transpose(0, 2, 3, 1)\n",
    "        return reshaped_and_transpose_images, np.asanyarray(y)\n",
    "reshaped_images, _ = load_file(\"batches/data_batch_1\")"
   ]
  },
  {
   "cell_type": "code",
   "execution_count": 8,
   "metadata": {},
   "outputs": [],
   "source": [
    "def load_directory(directory_path: str) -> (np.ndarray, np.ndarray, np.ndarray, np.ndarray):\n",
    "    \"\"\"\n",
    "    Load multiple batch files.\n",
    "    Train data start with: data_batch_[...].\n",
    "    Test data file is test_batch.\n",
    "    \"\"\"\n",
    "    #Train data\n",
    "    train_batches = [os.path.join(directory_path, 'data_batch_{}'.format(i)) for i in range(1, 6)]\n",
    "    all_images_directory = []\n",
    "    all_labels_directory = []\n",
    "    for batch in train_batches:\n",
    "        all_images_file, all_labels_file = load_file(batch)\n",
    "        all_images_directory.extend(all_images_file)\n",
    "        all_labels_directory.extend(all_labels_file)\n",
    "    all_images_directory = np.asarray(all_images_directory)\n",
    "    all_labels_directory = np.asarray(all_labels_directory)\n",
    "    # Test data\n",
    "    test_batches = os.path.join(directory_path, 'test_batch')\n",
    "    test_images, test_labels = load_file(test_batches)\n",
    "    assert(all_images_directory.shape[0] == 50000)\n",
    "    assert(all_images_directory[0].shape == (32, 32, 3))\n",
    "    assert(all_images_directory.shape[0] == all_labels_directory.shape[0])\n",
    "    assert (test_images.shape[0] == 10000)\n",
    "    assert (test_images[0].shape == (32, 32, 3))\n",
    "    assert (test_images.shape[0] == test_labels.shape[0])\n",
    "\n",
    "    return all_images_directory, all_labels_directory, test_images, test_labels\n",
    "\n",
    "def load_directory_and_apply_tricks(directory_path: str) -> (Tensor, Tensor, Tensor, Tensor):\n",
    "    X_train, Y_train, X_test, Y_test = load_directory(\"batches\")\n",
    "    \n",
    "    X_train = X_train.reshape(X_train.shape[0], -1)\n",
    "    X_train = np.hstack([X_train, np.ones((X_train.shape[0], 1))])\n",
    "    n_values = np.max(Y_train) + 1\n",
    "    Y_train = np.eye(n_values)[Y_train]\n",
    "    \n",
    "    X_test = X_test.reshape(X_test.shape[0], -1)\n",
    "    X_test = np.hstack([X_test, np.ones((X_test.shape[0], 1))])\n",
    "    n_values = np.max(Y_test) + 1\n",
    "    Y_test = np.eye(n_values)[Y_test]\n",
    "    \n",
    "    return torch.from_numpy(X_train), torch.from_numpy(Y_train), torch.from_numpy(X_test), torch.from_numpy(Y_test)\n",
    "X_train, Y_train, X_test, Y_test = load_directory_and_apply_tricks(\"batches\")"
   ]
  },
  {
   "cell_type": "markdown",
   "metadata": {},
   "source": [
    "Now let's visualize some of the images from the CIFAR-10 dataset."
   ]
  },
  {
   "cell_type": "code",
   "execution_count": 9,
   "metadata": {},
   "outputs": [
    {
     "data": {
      "image/png": "[encoded data removed]",
      "text/plain": [
       "<Figure size 432x288 with 15 Axes>"
      ]
     },
     "metadata": {
      "needs_background": "light"
     },
     "output_type": "display_data"
    }
   ],
   "source": [
    "X_train, Y_train, X_test, Y_test = load_directory(\"batches\")\n",
    "number_of_images = 15\n",
    "number_of_displayed_rows = 3\n",
    "number_of_displayed_collumns = number_of_images // number_of_displayed_rows\n",
    "random_image_indexes = np.random.choice(len(X_test), number_of_images)\n",
    "chosed_images, chosed_labels = X_test[random_image_indexes], Y_test[random_image_indexes]\n",
    "for image_index, (test_image, test_label) in enumerate(zip(chosed_images, chosed_labels)):\n",
    "    plt.subplot(number_of_displayed_rows, number_of_displayed_collumns, image_index + 1)\n",
    "    plt.imshow(test_image)\n",
    "    plt.title(labels[test_label])\n",
    "    plt.tight_layout()\n",
    "plt.show()"
   ]
  },
  {
   "cell_type": "markdown",
   "metadata": {},
   "source": [
    "Linear classification -> Liniar function is used to map from input data to output data using the formula:\n",
    "\n",
    "\n",
    "\\begin{equation}\n",
    "f(X_i) = X_i \\cdot W + b\n",
    "\\end{equation}\n",
    "\n",
    "W -> the weights.\n",
    "\n",
    "b -> the bias.\n",
    "\n",
    "We need a loss function to know if we are close to the answer or not. We will use this loss function to better train the model.\n",
    "\n",
    "We can get rid of the bias by extending the input metric by one and the weight metric with the byas.\n",
    "\n",
    "X from [1, 2, 3] -> [1, 2, 3, 1]\n",
    "\n",
    "W= \n",
    "[\n",
    "[1, 2]\n",
    "[3, 4]\n",
    "]\n",
    "& B= [5, 6]\n",
    "=>\n",
    "W =\n",
    "[\n",
    "[1, 2]\n",
    "[3, 4]\n",
    "[5, 6]\n",
    "]\n",
    "\n",
    "NEW FORMULA:\n",
    "\n",
    "\\begin{equation}\n",
    "f(X_i) = X_i \\cdot W\n",
    "\\end{equation}\n",
    "\n",
    "<!-- ```\n",
    "X = np.hstack([X, np.ones((X.shape[0], 1))])\n",
    "``` -->\n",
    "\n",
    "\n",
    "## Implementation\n",
    "\n",
    "[Pytorch](https://pytorch.org/) -> machine learning framework\n",
    "\n",
    "[Tensors](https://pytorch.org/docs/stable/tensors.html) -> main data abstraction from pytorch\n",
    "\n",
    "`Tensor` components:\n",
    "- Data: usefull data\n",
    "- Metadata: dtype, device that the tensors lives on\n",
    "\n",
    "We can transorm a `numpy` array into/from a tensor: _from_numpy()_, _numpy()_\n",
    "\n",
    "_item()_ -> to a scalar python value\n",
    "\n",
    "`_autograd_`\n",
    "- automatic differentiation of arbitrary scalar valued functions\n",
    "- set `_requires_grad_` to true\n",
    "- We need differential equation, so we can find a maximum point of the main function we need to optimize."
   ]
  },
  {
   "cell_type": "markdown",
   "metadata": {},
   "source": [
    "`Softmax classification`\n",
    "| Method | Description |\n",
    "| ----------- | ----------- |\n",
    "| initialize() | Randomly initialize the weights |\n",
    "| fit(X_train, y_train, **kwargs) | This will be used for training. |\n",
    "|  predict(X) | Return the predicted class |\n",
    "|  predict_proba(X) | Return the classifier predictions |\n",
    "|  save(path) | Will save the weights to a file |\n",
    "|  load(load) | Load the weigths from a file |\n",
    "|  __init__ | Take the size of input image and number of output classes |"
   ]
  },
  {
   "cell_type": "markdown",
   "metadata": {},
   "source": [
    "fill in the `_initialize()_` method. You figure out the shape of the weight matrix based on the input shape and the number of classes. Initialize the weight matrix with small random variables."
   ]
  },
  {
   "cell_type": "code",
   "execution_count": 170,
   "metadata": {},
   "outputs": [],
   "source": [
    "@dataclass\n",
    "class Parameters():\n",
    "    weight: Tensor\n",
    "    number_of_classes: int\n",
    "    input_shape: np.shape\n",
    "    loss_evolution: list\n",
    "    accuracy_evolution: list\n",
    "\n",
    "X_train, Y_train, X_test, Y_test = load_directory_and_apply_tricks(\"batches\")\n",
    "\n",
    "test_input_shape = X_train[0].shape\n",
    "test_number_of_classes = Y_train.shape[1]\n",
    "\n",
    "\n"
   ]
  },
  {
   "cell_type": "code",
   "execution_count": 123,
   "metadata": {},
   "outputs": [],
   "source": [
    "def initialize(number_of_classes: int, input_shape):\n",
    "    weight = torch.randn(input_shape[0], number_of_classes, dtype=float) * 0.001\n",
    "    weight.requires_grad_(True)\n",
    "    return Parameters(weight, number_of_classes, input_shape, [], [])\n",
    "\n",
    "parameters = initialize(number_of_classes, test_input_shape)\n",
    "\n",
    "npt.assert_equal((test_input_shape[0], test_number_of_classes), parameters.weight.shape)\n",
    "npt.assert_equal(test_number_of_classes, parameters.number_of_classes)\n",
    "npt.assert_equal(test_input_shape, parameters.input_shape)\n",
    "npt.assert_equal(True, parameters.weight.requires_grad)\n",
    "npt.assert_equal([], parameters.loss_evolution)"
   ]
  },
  {
   "cell_type": "markdown",
   "metadata": {},
   "source": [
    "fill in the `_save_` and `_load_` functions. In these functions you should just dump and restore, respectively, the weight matrix to/from the specified file."
   ]
  },
  {
   "cell_type": "code",
   "execution_count": 12,
   "metadata": {},
   "outputs": [],
   "source": [
    "def save(parameters: Parameters, file_path: str):\n",
    "    torch.save(parameters, file_path)\n",
    "    return file_path\n",
    "def load(file_path: str) -> Parameters:\n",
    "    return torch.load(file_path)\n",
    "\n",
    "parameters = initialize(test_number_of_classes, test_input_shape)\n",
    "save(parameters, \"parameters.torch\")\n",
    "parameters_loaded = load(\"parameters.torch\")\n",
    "\n",
    "npt.assert_equal(parameters.weight.shape, parameters_loaded.weight.shape)\n",
    "npt.assert_equal(parameters.number_of_classes, parameters_loaded.number_of_classes)\n",
    "npt.assert_equal(parameters.input_shape, parameters_loaded.input_shape)"
   ]
  },
  {
   "cell_type": "markdown",
   "metadata": {},
   "source": [
    "`_predict_` - this will just return the predicted class label. So you just need to compute the dot product and take the argmax of the result."
   ]
  },
  {
   "cell_type": "code",
   "execution_count": 13,
   "metadata": {},
   "outputs": [],
   "source": [
    "def predict(parameters: Parameters, input: Tensor, dim=0) -> Tensor:\n",
    "    result = input @ parameters.weight\n",
    "    return torch.argmax(result, dim=dim)\n",
    "\n",
    "parameters = initialize(test_number_of_classes, test_input_shape)\n",
    "for _ in range(1000):\n",
    "    Y_pred = predict(parameters, X_train[0])\n",
    "    npt.assert_equal(True, (Y_pred < test_number_of_classes).item())\n",
    "    \n",
    "    Y_pred = predict(parameters, X_train[0:3], dim=1)\n",
    "    npt.assert_equal(True, (torch.max(Y_pred) < test_number_of_classes).item())"
   ]
  },
  {
   "cell_type": "markdown",
   "metadata": {},
   "source": [
    "`predict_proba` - this will return the class probabilities. So after computing the dot product, you also need to apply the softmax function on the result to normalize it to a probability distribution."
   ]
  },
  {
   "cell_type": "code",
   "execution_count": 14,
   "metadata": {},
   "outputs": [],
   "source": [
    "def predict_proba(parameters: Parameters, input: Tensor, dim=0) -> Tensor:\n",
    "    result = input @ parameters.weight\n",
    "    return torch.nn.functional.softmax(result, dim=dim)\n",
    "\n",
    "parameters = initialize(test_number_of_classes, test_input_shape)\n",
    "for _ in range(1000):\n",
    "    predicted_proba = predict_proba(parameters, X_train[0])\n",
    "    npt.assert_almost_equal(1.0, np.sum(predicted_proba.detach().numpy()), decimal=5)\n",
    "\n",
    "    predicted_proba = predict_proba(parameters, X_train[0:3], dim=1)\n",
    "    npt.assert_almost_equal(1.0, torch.sum(predicted_proba, dim=1).detach().numpy(), decimal=5)"
   ]
  },
  {
   "cell_type": "markdown",
   "metadata": {},
   "source": [
    "Example of prediction using the model:"
   ]
  },
  {
   "cell_type": "code",
   "execution_count": 15,
   "metadata": {},
   "outputs": [
    {
     "name": "stdout",
     "output_type": "stream",
     "text": [
      "Predicted class  automobile tensor(1)\n",
      "Probas:  [1.53123299e-05 9.72897475e-01 2.13542065e-04 1.69116980e-03\n",
      " 5.03865130e-09 1.88539401e-02 9.13714112e-07 1.29022189e-06\n",
      " 6.20737515e-03 1.18976567e-04]\n",
      "[MULTI] Predicted class  ['automobile' 'cat' 'automobile'] tensor([1, 3, 1])\n",
      "[MULTI] Probas:  [[1.53123299e-05 9.72897475e-01 2.13542065e-04 1.69116980e-03\n",
      "  5.03865130e-09 1.88539401e-02 9.13714112e-07 1.29022189e-06\n",
      "  6.20737515e-03 1.18976567e-04]\n",
      " [4.99247224e-03 2.54397995e-01 4.32875975e-06 7.18727420e-01\n",
      "  6.63432886e-14 9.60413291e-06 1.65296955e-09 4.58150476e-06\n",
      "  2.18465029e-02 1.70939941e-05]\n",
      " [4.15286969e-07 9.99896219e-01 3.14375572e-07 4.70686424e-05\n",
      "  1.48691792e-14 4.79385757e-07 3.41897407e-11 4.05867985e-09\n",
      "  4.82698911e-05 7.22902962e-06]]\n"
     ]
    }
   ],
   "source": [
    "parameters = initialize(test_number_of_classes, test_input_shape)\n",
    "\n",
    "print('Predicted class ', labels[predict(parameters, X_test[0])], predict(parameters, X_test[0]))\n",
    "print('Probas: ', predict_proba(parameters, X_test[0]).detach().numpy())\n",
    "print('[MULTI] Predicted class ', labels[predict(parameters, X_test[0:3], dim=1)], predict(parameters, X_test[0:3], dim=1))\n",
    "print('[MULTI] Probas: ', predict_proba(parameters, X_test[0:3], dim=1).detach().numpy())"
   ]
  },
  {
   "cell_type": "markdown",
   "metadata": {},
   "source": [
    "`Training` - the _fit_ method\n",
    "\n",
    "Usefull for making accurate predictions.\n",
    "\n",
    "Pytorch provides a powerful feature, _autograd_: it allows for the rapid and easy computation of multiple partial derivatives (also referred to as gradients) over a complex computation. This operation is central to backpropagation-based neural network learning.\n",
    "\n",
    "You can follow [this](https://pytorch.org/tutorials/beginner/introyt/autogradyt_tutorial.html) post for more details about how autograd works.\n",
    "We'll cover autograd in more detail in the next labs.\n",
    "\n",
    "For now, we'll be using it to make your life easier when implementing gradient descent to train the softmax classifier. In gradient descent, the idea is to take repeated steps in the opposite direction of the gradient of the loss function at the current point. The backpropagation algorithm works by computing the gradient of the loss function with respect to each weight by the chain rule, computing the gradient one layer at a time, and iterating backward from the last layer to avoid redundant calculations of intermediate terms in the chain rule.\n",
    "\n",
    "To signal autograd that it should collect the gradients of a tensor, you need to pass the parameter _requires_grad=True_ when creating it or call the method _requires_grad_()_ on a tensor.\n",
    "\n",
    "To __start the backpropagation__ with autograd, you just need to call the _backward()_ function on the loss tensor (a scalar).  \n",
    "Autograd calculates and stores the gradients for each model parameter in the tensors' _grad_ field.\n",
    "\n",
    "Let's see how a custom training loop looks in pytorch:\n",
    "\n",
    "```python\n",
    "lr = 0.05  # learning rate: what is the size of the step that we will take in the opposite direction of the gradient\n",
    "epochs = 32  # how many epochs (passes through the traing data) we'll peform\n",
    "bs = 32 # batch size:  we'll update the parameters after seeing several examples (a batch of data)\n",
    "\n",
    "for epoch in range(epochs):    \n",
    "    for ii in range((X_train.shape[0] - 1) // bs + 1):  # in batches of size bs\n",
    "        start_idx = ii * bs  # we are ii batches in, each of size bs\n",
    "        end_idx = start_idx + bs  # get bs examples\n",
    "\n",
    "        # get the training training examples xb, and their coresponding annotations\n",
    "        xb = X_train[start_idx:end_idx]\n",
    "        yb = y_train[start_idx:end_idx]\n",
    "\n",
    "        # apply the model on the training examples\n",
    "        pred = predict_proba(xb)\n",
    "\n",
    "        # compute the loss function\n",
    "        loss = cross_entropy_loss(pred, yb)\n",
    "\n",
    "        # start backpropagation: calculate the gradients with a backwards pass\n",
    "        loss.backward()\n",
    "\n",
    "        # update the parameters\n",
    "        with torch.no_grad():  # we don't want to track gradients\n",
    "            # take a step in the negative direction of the gradient, the learning rate defines the step size\n",
    "            weights -= weights.grad * lr\n",
    "\n",
    "            # ATTENTION: you need to explictly set the gradients to 0 (let pytorch know that you are done with them).\n",
    "            weights.grad.zero_()\n",
    "            \n",
    "``\n",
    "\n",
    "\n"
   ]
  },
  {
   "cell_type": "markdown",
   "metadata": {},
   "source": [
    "Loss function definition (`cross_entropy`):\n",
    "\\begin{equation}\n",
    "L_i = - \\sum_{i=1}^{C} log(\\hat{y\\_pred}_i)\\cdot y_i.\n",
    "\\end{equation}\n",
    "\n",
    "$\\hat{y\\_pred}_i$ is always a value in the interval [0, 1]\n",
    "\n",
    "close to 0 => loss is very high (infinite)\n",
    "close to 1 => loss is very low (0)"
   ]
  },
  {
   "cell_type": "code",
   "execution_count": 16,
   "metadata": {},
   "outputs": [
    {
     "name": "stdout",
     "output_type": "stream",
     "text": [
      "My loss:\n",
      "12.503744579535192\n",
      "\n",
      "Pytorch loss:\n",
      "12.503744579535192\n",
      "\n",
      "My multiple loss:\n",
      "[1.25037446e+01 1.96036113e-03 1.96036113e-03]\n",
      "\n",
      "Pytorch multiple loss:\n",
      "[1.25037446e+01 1.96036113e-03 1.96036113e-03]\n",
      "\n"
     ]
    }
   ],
   "source": [
    "def cross_entropy_loss(Y_pred: Tensor, Y: Tensor, dim=0) -> Tensor:\n",
    "    return -torch.sum(Y * torch.log(Y_pred), dim=dim)\n",
    "\n",
    "pytorch_loss = torch.nn.CrossEntropyLoss()\n",
    "parameters = initialize(test_number_of_classes, test_input_shape)\n",
    "predicted_output = predict_proba(parameters, X_train[0])\n",
    "\n",
    "my_loss = cross_entropy_loss(predicted_output, Y_train[0]).detach().numpy()\n",
    "pytorch_loss = cross_entropy_loss(predicted_output, Y_train[0]).detach().numpy()\n",
    "my_multiple_loss = cross_entropy_loss(predicted_output, Y_train[0:3], dim=1).detach().numpy()\n",
    "pytorch_multiple_loss = cross_entropy_loss(predicted_output, Y_train[0:3], dim=1).detach().numpy()\n",
    "\n",
    "print(f\"My loss:\\n{my_loss}\\n\")\n",
    "print(f\"Pytorch loss:\\n{pytorch_loss}\\n\")\n",
    "print(f\"My multiple loss:\\n{my_multiple_loss}\\n\")\n",
    "print(f\"Pytorch multiple loss:\\n{pytorch_multiple_loss}\\n\")\n",
    "npt.assert_equal(my_loss, pytorch_loss)\n",
    "npt.assert_equal(my_multiple_loss, pytorch_multiple_loss)"
   ]
  },
  {
   "cell_type": "markdown",
   "metadata": {},
   "source": [
    "In the function `log_softmax` implement the following:\n",
    "\\begin{equation}\n",
    "log\\_softmax(x_i) =  log(\\frac{e^{x_i}}{\\sum_{j}e^{x_j}}) = x_i - log(\\sum_j e^x_j)\n",
    "\\end{equation}"
   ]
  },
  {
   "cell_type": "code",
   "execution_count": 17,
   "metadata": {},
   "outputs": [
    {
     "name": "stdout",
     "output_type": "stream",
     "text": [
      "My log softmax:\n",
      "[-196.8113879 -193.8113879 -192.8113879 ... -163.8113879 -183.8113879\n",
      " -254.8113879]\n",
      "\n",
      "Pytorch log softmax:\n",
      "[-196.8113879 -193.8113879 -192.8113879 ... -163.8113879 -183.8113879\n",
      " -254.8113879]\n",
      "\n"
     ]
    }
   ],
   "source": [
    "def log_softmax(input: Tensor) -> Tensor:\n",
    "    return input - torch.log(torch.sum(torch.exp(input)))\n",
    "\n",
    "pytorch_log_softmax = nn.LogSoftmax(dim=0)\n",
    "\n",
    "my_log_softmax = log_softmax(X_train[0]).numpy()\n",
    "pytorch_log_softmax = pytorch_log_softmax(X_train[0]).numpy()\n",
    "# my_multiple_log_softmax = log_softmax(X_train[0:3], dim=1).numpy()\n",
    "# pytorch_multiple_log_softmax = pytorch_log_softmax(X_train[0:3]).numpy()\n",
    "\n",
    "print(f\"My log softmax:\\n{my_log_softmax}\\n\")\n",
    "print(f\"Pytorch log softmax:\\n{pytorch_log_softmax}\\n\")\n",
    "# print(f\"My multiple log softmax:\\n{my_multiple_log_softmax}\\n\")\n",
    "# print(f\"Pytorch multiple log softmax:\\n{pytorch_multiple_log_softmax}\\n\")\n",
    "npt.assert_almost_equal(my_log_softmax, pytorch_log_softmax)\n",
    "# npt.assert_almost_equal(my_multiple_log_softmax, pytorch_multiple_log_softmax)"
   ]
  },
  {
   "cell_type": "markdown",
   "metadata": {},
   "source": [
    "Then, in the ``fit`` method:\n",
    "\\begin{equation}\n",
    "y\\_pred_i = f(x_i)\n",
    "\\end{equation}\n",
    "\n",
    "\\begin{equation}\n",
    "\\hat{y\\_pred_i} =  log\\_softmax(y\\_pred_i)\n",
    "\\end{equation},\n",
    "\n",
    "and take the cross entropy loss between $\\hat{y\\_pred_i}$ and $y_i$ to compute the data loss.\n",
    "\n",
    "For this we need two steps:\n",
    "1. we need to define a loss function that quantifies our\n",
    "how well is the classifier doing on the training data. The loss function that we will use is the **cross entropy loss**.\n",
    "Remember from the lecture that, in order to avoid overfitting, a regularization term is added to the loss function.\n",
    "You will implement the $L_2$ regularization, in which you also add the  sum of squares of all of the feature weights to the loss.\n",
    "\n",
    "\n",
    "2. we need an algorithm to efficiently find the\n",
    "parameters that minimize the loss function."
   ]
  },
  {
   "cell_type": "code",
   "execution_count": 153,
   "metadata": {},
   "outputs": [],
   "source": [
    "X_train, Y_train, X_test, Y_test = load_directory_and_apply_tricks(\"batches\")"
   ]
  },
  {
   "cell_type": "code",
   "execution_count": 155,
   "metadata": {},
   "outputs": [],
   "source": [
    "def compute_accuracy(parameters: Parameters, input: Tensor, reverted_Y: Tensor) -> float:\n",
    "    with torch.no_grad():\n",
    "        computed_Y = predict(parameters, input, dim=1)\n",
    "    return torch.mean((reverted_Y == computed_Y).float())"
   ]
  },
  {
   "cell_type": "code",
   "execution_count": 166,
   "metadata": {},
   "outputs": [
    {
     "data": {
      "text/plain": [
       "'model_trained.torch'"
      ]
     },
     "execution_count": 166,
     "metadata": {},
     "output_type": "execute_result"
    }
   ],
   "source": [
    "def fit(parameters: Parameters, train_data: torch.Tensor, train_result: torch.Tensor, **kwargs) -> Parameters:\n",
    "    learning_rate = kwargs.get(\"learning_rate\", 1e-7)\n",
    "    epochs = kwargs.get(\"epochs\", 10)\n",
    "    batch_size = kwargs.get(\"batch_size\", 100)\n",
    "    regularization_strength = kwargs.get(\"regularization_strength\", 1e3)\n",
    "    number_of_iteration_to_map_all_images = train_data.shape[0] // batch_size\n",
    "    \n",
    "    # Handle the update of weights\n",
    "    optimizer = torch.optim.SGD([parameters.weight], lr=learning_rate, weight_decay=regularization_strength)\n",
    "    \n",
    "    for _ in range(epochs):\n",
    "        sum_loss = 0\n",
    "        for current_image_index in range(number_of_iteration_to_map_all_images):\n",
    "            from_image = current_image_index * batch_size\n",
    "            to_image = from_image + batch_size\n",
    "            \n",
    "            current_image_data = train_data[from_image:to_image]\n",
    "            current_image_result = train_result[from_image:to_image]\n",
    "\n",
    "            predicted = predict_proba(parameters, current_image_data, dim=1)\n",
    "            loss = cross_entropy_loss(predicted, current_image_result, dim=1)\n",
    "            \n",
    "            optimizer.zero_grad()\n",
    "            loss.mean(dim=0).backward()\n",
    "            optimizer.step()\n",
    "            sum_loss += loss.mean().item()\n",
    "        parameters.loss_evolution.append(sum_loss)\n",
    "\n",
    "parameters = initialize(Y_train.shape[1], X_train[0].shape)\n",
    "fit(parameters, X_train, Y_train)\n",
    "save(parameters, \"model_trained.torch\")"
   ]
  },
  {
   "cell_type": "code",
   "execution_count": 169,
   "metadata": {},
   "outputs": [
    {
     "name": "stdout",
     "output_type": "stream",
     "text": [
      "Train accuracy: 0.3214600086212158\n",
      "Loss evolution: [1720.9150879272256, 1382.5155686672988, 1259.042463063157, 1181.4410562445655, 1126.1137341663632, 1084.0928253289585, 1050.9626636836392, 1024.2031047622909, 1002.2249604281643, 983.9530968405023]\n",
      "Reverted y shape: (50000,)\n"
     ]
    },
    {
     "data": {
      "text/plain": [
       "Text(0, 0.5, 'Loss')"
      ]
     },
     "execution_count": 169,
     "metadata": {},
     "output_type": "execute_result"
    },
    {
     "data": {
      "image/png": "[encoded data removed]",
      "text/plain": [
       "<Figure size 432x288 with 1 Axes>"
      ]
     },
     "metadata": {
      "needs_background": "light"
     },
     "output_type": "display_data"
    }
   ],
   "source": [
    "parameters = load(\"model_trained.torch\")\n",
    "reverted_Y = np.argmax(Y_train, axis=1)\n",
    "\n",
    "train_acc = compute_accuracy(parameters, X_train, reverted_Y)\n",
    "print(f\"Train accuracy: {train_acc}\")\n",
    "print(f\"Loss evolution: {parameters.loss_evolution}\")\n",
    "print(f\"Reverted y shape: {reverted_Y.numpy().shape}\")\n",
    "plt.plot(parameters.loss_evolution)\n",
    "plt.xlabel('Epoch')\n",
    "plt.ylabel('Loss')"
   ]
  },
  {
   "cell_type": "code",
   "execution_count": null,
   "metadata": {},
   "outputs": [],
   "source": []
  }
 ],
 "metadata": {
  "kernelspec": {
   "display_name": "Python 3",
   "language": "python",
   "name": "python3"
  },
  "language_info": {
   "codemirror_mode": {
    "name": "ipython",
    "version": 3
   },
   "file_extension": ".py",
   "mimetype": "text/x-python",
   "name": "python",
   "nbconvert_exporter": "python",
   "pygments_lexer": "ipython3",
   "version": "3.10.12"
  }
 },
 "nbformat": 4,
 "nbformat_minor": 2
}
