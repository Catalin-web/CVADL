{
 "cells": [
  {
   "cell_type": "code",
   "execution_count": null,
   "metadata": {},
   "outputs": [],
   "source": [
    "import cv2\n",
    "import numpy as np\n",
    "import matplotlib.pyplot as plt\n",
    "%matplotlib inline"
   ]
  },
  {
   "cell_type": "code",
   "execution_count": null,
   "metadata": {},
   "outputs": [],
   "source": [
    "a = np.array([[1, 2], [3, 4]])\n",
    "b = np.array([[11, 12], [13, 14]])\n",
    "print('a is: ', a)\n",
    "print('b is: ', b)\n",
    "print('a+b is: \\n', a + b)\n",
    "print('a+b is: \\n', np.add(a, b))\n",
    "print('a-b is: \\n', a - b)\n",
    "print('a-b is: \\n', np.subtract(a, b))\n",
    "print('The maximum element in a is :', np.amax(a))\n",
    "print('The position of this element in a is :', np.argmax(a))\n",
    "print('|a-b| is: \\n', np.abs(a - b))\n",
    "print('a*b (element wise) is: \\n', a*b)\n",
    "print('a*b (element wise) is: \\n', np.multiply(a, b))\n",
    "v = np.array([10, 20])\n",
    "w = np.array([11, 11])\n",
    "print('Dot product v x w is:\\n', v@w)\n",
    "print('Dot product v x w is:\\n', np.dot(v, w))\n",
    "print('Dot product a x v (matrix x vector) is:\\n', a.dot(v))\n",
    "print('Dot product a x b (matrix x matrix) is:\\n', a.dot(b))"
   ]
  },
  {
   "cell_type": "code",
   "execution_count": null,
   "metadata": {},
   "outputs": [],
   "source": [
    "a = np.array([[1, 2], [3, 4]])\n",
    "b = np.array([[11, 12], [13, 14]])\n",
    "print(f\"a+b\\n {a+b}\\n\")\n",
    "print(f\"a-b\\n {a-b}\\n\")\n",
    "print(f\"a*b\\n {a*b}\\n\")\n",
    "print(f\"a/b\\n {a/b}\\n\")\n",
    "print(f\"a@b\\n {a@b}\\n\")\n",
    "print(f\"a@I2\\n {a@np.eye(2)}\\n\")\n",
    "print(f\"a@O2\\n {a@np.zeros((2,2))}\\n\")"
   ]
  },
  {
   "cell_type": "markdown",
   "metadata": {},
   "source": [
    "Notes:\n",
    "- Adunarea, scanderea se face normal\n",
    "- Se suporta inmultire si impartire element cu element\n",
    "- Daca vrem sa facem inmultire de matrice operatorul va fi: @"
   ]
  },
  {
   "cell_type": "code",
   "execution_count": null,
   "metadata": {},
   "outputs": [],
   "source": [
    "img_axes = cv2.imread('axes.jpg')\n",
    "dpi = plt.rcParams['figure.dpi']\n",
    "height, width, depth = img_axes.shape\n",
    "figsize = width / float(dpi), height / float(dpi)\n",
    "plt.figure(figsize=figsize)\n",
    "plt.imshow(img_axes)"
   ]
  },
  {
   "cell_type": "markdown",
   "metadata": {},
   "source": [
    "Notes:\n",
    "- Axa 0 sunt liniile, axa 1 sunt coloanele"
   ]
  },
  {
   "cell_type": "code",
   "execution_count": null,
   "metadata": {},
   "outputs": [],
   "source": [
    "img_sum0 = cv2.imread('sum0.jpg')\n",
    "dpi = plt.rcParams['figure.dpi']\n",
    "height, width, depth = img_sum0.shape\n",
    "figsize = width / float(dpi), height / float(dpi)\n",
    "plt.figure(figsize=figsize)\n",
    "plt.imshow(img_sum0)\n",
    "a = np.array([[1, 2, 3, 4], [5, 6, 7, 8]])\n",
    "sum = np.sum(a, axis=0)\n",
    "print(sum, sum.shape)"
   ]
  },
  {
   "cell_type": "code",
   "execution_count": null,
   "metadata": {},
   "outputs": [],
   "source": [
    "img_sum1 = cv2.imread('sum1.jpg')\n",
    "dpi = plt.rcParams['figure.dpi']\n",
    "\n",
    "height, width, depth = img_sum1.shape\n",
    "figsize = width / float(dpi), height / float(dpi)\n",
    "plt.figure(figsize=figsize)\n",
    "plt.imshow(img_sum1)\n",
    "\n",
    "\n",
    "a = np.array([[1, 2, 3, 4], [5, 6, 7, 8]])\n",
    "sum = np.sum(a, axis=1)\n",
    "print(sum, sum.shape)"
   ]
  },
  {
   "cell_type": "code",
   "execution_count": null,
   "metadata": {},
   "outputs": [],
   "source": [
    "\n",
    "matrix = np.array([[1, 2, 3], [4, 5, 6], [7, 8, 9]])\n",
    "suma_de_coloane = np.sum(matrix, axis=0)\n",
    "print(f\"suma_de_coloane:\\n {suma_de_coloane}\\n\")\n",
    "suma_de_linii = np.sum(matrix, axis=1)\n",
    "print(f\"suma_de_linii:\\n {suma_de_linii}\\n\")"
   ]
  },
  {
   "cell_type": "markdown",
   "metadata": {},
   "source": [
    "Notes:\n",
    "- Putem face suma pe axa. Daca axa specificata este 0, atunci suma se face pe dimensiunea 0. Pentru matrice asta inseamna ca se face \n",
    "suma pe coloane. Daca axa specificata este 1, atunci suma se face pe dimensiunea 1. Pentru matrice asta inseamna ca se face suma pe linii.\n",
    "Practic ordinea la linii vs coloane este exact opus ca si la shape. La shape specificam (linii, coloane). axis = 0: suma pe coloane,\n",
    "axis=1: suma pe linii."
   ]
  },
  {
   "cell_type": "code",
   "execution_count": null,
   "metadata": {},
   "outputs": [],
   "source": [
    "img_concat0 = cv2.imread('concat0.jpg')\n",
    "dpi = plt.rcParams['figure.dpi']\n",
    "\n",
    "height, width, depth = img_concat0.shape\n",
    "figsize = width / float(dpi), height / float(dpi)\n",
    "plt.figure(figsize=figsize)\n",
    "plt.imshow(img_concat0)"
   ]
  },
  {
   "cell_type": "code",
   "execution_count": null,
   "metadata": {},
   "outputs": [],
   "source": [
    "img_concat1 = cv2.imread('concat1.jpg')\n",
    "dpi = plt.rcParams['figure.dpi']\n",
    "\n",
    "height, width, depth = img_concat1.shape\n",
    "figsize = width / float(dpi), height / float(dpi)\n",
    "plt.figure(figsize=figsize)\n",
    "plt.imshow(img_concat1)"
   ]
  },
  {
   "cell_type": "code",
   "execution_count": null,
   "metadata": {},
   "outputs": [],
   "source": [
    "matrix_1 = np.array([[1, 2, 3], [4, 5, 6]])\n",
    "matrix_2 = np.array([[7, 8, 9], [10, 11, 12]])\n",
    "concatenare_in_jos = np.concatenate((matrix_1, matrix_2), axis=0)\n",
    "print(f\"concatenare_in_jos:\\n {concatenare_in_jos}\\n\")\n",
    "concatenare_in_dreapta = np.concatenate((matrix_1, matrix_2), axis=1)\n",
    "print(f\"concatenare_in_dreapta:\\n {concatenare_in_dreapta}\\n\")"
   ]
  },
  {
   "cell_type": "markdown",
   "metadata": {},
   "source": [
    "Notes:\n",
    "- np.concatenate: Lipirea a doua matrici de aceeasi dimensiune, pe orizontala sau verticala"
   ]
  },
  {
   "cell_type": "code",
   "execution_count": null,
   "metadata": {},
   "outputs": [],
   "source": [
    "a = np.array([[1, 2, 3, 4], [5, 6, 7, 8]])\n",
    "print('The sum of each column is: \\n ', np.sum(a, axis = 0))\n",
    "print('The sum of each row is: \\n ', np.sum(a, axis = 1))\n",
    "b = np.array([[1, 1, 1, 1], [2, 2, 2, 2]])\n",
    "print('Concatenate vertically: \\n', np.concatenate([a, b], axis = 0))\n",
    "print('Concatenate horizontally: \\n', np.concatenate([a, b], axis = 1))"
   ]
  },
  {
   "cell_type": "code",
   "execution_count": null,
   "metadata": {},
   "outputs": [],
   "source": [
    "a = np.array([0, 0, 0])\n",
    "b = np.array([1, 1, 1])\n",
    "print(np.concatenate([a, b], axis=0))\n",
    "a = a.reshape((1, 3))\n",
    "b = b[np.newaxis, :]\n",
    "print(np.concatenate([a, b], axis=0))"
   ]
  },
  {
   "cell_type": "code",
   "execution_count": null,
   "metadata": {},
   "outputs": [],
   "source": [
    "first_vector = np.array([1, 2, 3])\n",
    "second_vector = np.array([4, 5, 6])\n",
    "concatenated_vector = np.concatenate((first_vector, second_vector), axis=0)\n",
    "print(f\"concatenated_vector:\\n {concatenated_vector}\\n\")"
   ]
  },
  {
   "cell_type": "markdown",
   "metadata": {},
   "source": [
    "Notes:\n",
    "- In cazul vectoriilor concatenarea se face doar pe axa 0, deoarece axis <= rank"
   ]
  }
 ],
 "metadata": {
  "kernelspec": {
   "display_name": "Python 3",
   "language": "python",
   "name": "python3"
  },
  "language_info": {
   "codemirror_mode": {
    "name": "ipython",
    "version": 3
   },
   "file_extension": ".py",
   "mimetype": "text/x-python",
   "name": "python",
   "nbconvert_exporter": "python",
   "pygments_lexer": "ipython3",
   "version": "3.10.12"
  }
 },
 "nbformat": 4,
 "nbformat_minor": 2
}
