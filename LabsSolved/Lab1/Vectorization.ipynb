{
 "cells": [
  {
   "cell_type": "code",
   "execution_count": null,
   "metadata": {},
   "outputs": [],
   "source": [
    "import cv2\n",
    "import numpy as np\n",
    "import matplotlib.pyplot as plt\n",
    "import time\n",
    "%matplotlib inline"
   ]
  },
  {
   "cell_type": "code",
   "execution_count": null,
   "metadata": {},
   "outputs": [],
   "source": [
    "import numpy as np\n",
    "a1 = np.random.rand(1000000)\n",
    "a2 = np.random.rand(1000000)\n",
    "t1 = time.time()\n",
    "dp_vectorized = a1.dot(a2)\n",
    "time_vectorized = time.time() - t1\n",
    "t1 = time.time()\n",
    "dp_loops = 0\n",
    "for i in range(0, a1.shape[0]):\n",
    "    dp_loops += a1[i]*a2[i]\n",
    "time_loops = time.time() - t1\n",
    "print(dp_vectorized)\n",
    "print(dp_loops)\n",
    "print('Time to compute dot product using loops: ', time_loops, 'milliseconds')\n",
    "print('Time to compute dot product using vectorization: ', time_vectorized, 'milliseconds')\n",
    "print('Speedup ', time_loops/time_vectorized)\n",
    "arr_size = []\n",
    "arr_time_vectorized = []\n",
    "arr_time_loops = []\n",
    "for sz in range(100, 1000000, 10000):\n",
    "    t1 = time.time()\n",
    "    a1 = np.random.rand(sz)\n",
    "    a2 = np.random.rand(sz)\n",
    "    dp_vectorized = a1.dot(a2)\n",
    "    time_vectorized = time.time() - t1\n",
    "    t1 = time.time()\n",
    "    dp_loops = 0\n",
    "    for i in range(0, a1.shape[0]):\n",
    "        dp_loops += a1[i]*a2[i]\n",
    "    time_loops = time.time() - t1\n",
    "    arr_size.append(sz)\n",
    "    arr_time_vectorized.append(time_vectorized)\n",
    "    arr_time_loops.append(time_loops)\n",
    "plt.plot(arr_size, arr_time_vectorized, label='vectorized')\n",
    "plt.plot(arr_size, arr_time_loops, label='using loops')\n",
    "plt.legend()\n",
    "plt.xlabel('array size')\n",
    "plt.ylabel('execution time (ms)')\n",
    "plt.show()"
   ]
  },
  {
   "cell_type": "code",
   "execution_count": null,
   "metadata": {},
   "outputs": [],
   "source": [
    "vector_size = 1000000\n",
    "first_vector = np.random.rand(vector_size)\n",
    "second_vector = np.random.rand(vector_size)\n",
    "\n",
    "start_time_vectorized = time.time()\n",
    "sum_vectorized = np.sum(first_vector*second_vector)\n",
    "end_time_vectorized = time.time()\n",
    "\n",
    "start_time_not_vectorized = time.time()\n",
    "sum_not_vectorized = 0\n",
    "for i in range(0, first_vector.shape[0]):\n",
    "    sum_not_vectorized += first_vector[i]*second_vector[i]\n",
    "end_time_not_vectorized = time.time()\n",
    "\n",
    "print(f'Sum vectorized: {sum_vectorized}')\n",
    "print(f'Sum not vectorized: {sum_not_vectorized}')\n",
    "print(f'Time to compute sum using vectorization: {end_time_vectorized - start_time_vectorized} milliseconds')\n",
    "print(f'Time to compute sum using loops: {end_time_not_vectorized-start_time_not_vectorized} milliseconds')\n",
    "print(f'speedup: {(end_time_not_vectorized-start_time_not_vectorized)-(end_time_vectorized - start_time_vectorized)} milliseconds')"
   ]
  },
  {
   "cell_type": "markdown",
   "metadata": {},
   "source": [
    "Notes:\n",
    "- Daca folosim operatiile din numpy (inmultire, adunare, orice), vom optine timpi mut mai bini decat daca nu i-am folosi, deoarece operatiile\n",
    "din numpy sunt executate intr-un limbaj de programare low level (C/C++), care este mult mai rapid decat python."
   ]
  },
  {
   "cell_type": "code",
   "execution_count": null,
   "metadata": {},
   "outputs": [],
   "source": [
    "x1 = np.array([[1, 2, 3]])\n",
    "x2 = np.array([\n",
    "    [1],\n",
    "    [2],\n",
    "    [3]])\n",
    "print(x1+x2)"
   ]
  },
  {
   "cell_type": "code",
   "execution_count": null,
   "metadata": {},
   "outputs": [],
   "source": [
    "a = np.array([[1, 2, 3], [4, 5, 6], [7, 8, 9]])\n",
    "b = np.array([0, 1, 2])\n",
    "s = a + b\n",
    "print(s)\n",
    "print(b.shape)\n",
    "b_expanded = np.tile(b, (3, 1))\n",
    "print(b_expanded.shape)\n",
    "print(b_expanded)\n",
    "s = a + b_expanded"
   ]
  },
  {
   "cell_type": "code",
   "execution_count": null,
   "metadata": {},
   "outputs": [],
   "source": [
    "a = np.array([[1, 2, 3], [4, 5, 6]])\n",
    "b = np.array([0, 2])\n",
    "print('a.T=\\n', a.T)\n",
    "print('b.T=\\n', b.T)\n",
    "print('(a.T+b).T=\\n',(a.T+b).T)"
   ]
  },
  {
   "cell_type": "code",
   "execution_count": null,
   "metadata": {},
   "outputs": [],
   "source": [
    "a = np.array([0, 1, 2, 3])\n",
    "b = np.array([4, 5, 6])\n",
    "print(a.shape)\n",
    "print(b.shape)\n",
    "try:\n",
    "    print(a+b)\n",
    "except ValueError:\n",
    "    print('Unable to broadcast arrays with shapes ', a.shape, b.shape)\n",
    "a = a.reshape((4, 1))\n",
    "print(a.shape)\n",
    "print(b.shape)\n",
    "print(a+b)\n",
    "print((a+b).shape)"
   ]
  },
  {
   "cell_type": "code",
   "execution_count": null,
   "metadata": {},
   "outputs": [],
   "source": [
    "matrix = np.array([[1, 2, 3], [4, 5, 6]])\n",
    "vector = np.array([0, 0, 1])\n",
    "add_1_to_last_element_of_each_row = matrix + vector\n",
    "print(f\"add_1_to_last_element_of_each_row:\\n{add_1_to_last_element_of_each_row}\\n\")\n",
    "vector = np.array([[0], [1]])\n",
    "add_1_to_last_element_of_each_column = matrix + vector\n",
    "print(f\"add_1_to_last_element_of_each_column:\\n{add_1_to_last_element_of_each_column}\\n\")"
   ]
  },
  {
   "cell_type": "code",
   "execution_count": null,
   "metadata": {},
   "outputs": [],
   "source": [
    "matrix = np.array([[1, 2, 3], [4, 5, 6]])\n",
    "transposed_matrix = matrix.T\n",
    "print(f\"transposed_matrix:\\n{transposed_matrix}\\n\")\n",
    "vector = np.array([0, 1])\n",
    "transposed_vector = vector.T\n",
    "print(f\"transposed_vector:\\n{transposed_vector}\\n\")"
   ]
  },
  {
   "cell_type": "markdown",
   "metadata": {},
   "source": [
    "Notes:\n",
    "- Daca incercam sa facem operatii cu numpy arrays de dimensiuni diferite, numpy va incerca sa faca broadcasting. Asta inseamna ca se va\n",
    "incerca sa \"duplice\" fiecare array (si in stanga si in dreapta) pana cand cei doi operanzi vor avea aceasi dimensiune. Pentru ca numpy\n",
    "multiplica efectiv array-ul, inseamna ca dimensiuniile trebuie sa se imparta exact una la alta.\n",
    "\n",
    "Ex:\n",
    "\n",
    "- Daca avem o matrice de dimensiunea (2,4) nu o putem aduna cu o matrice de dimensiunea (3,4) deoarece 3 nu se imparte la 2, dar o putem aduna\n",
    "cu o matrice de dimensiunea (4,4). Duplicarea aceasta de matrice se poate intampla simultan in ambele parti: de exemplu putem aduna o matrice\n",
    "de dimensiunea (2,4) cu o matrice de dimensiunea (4,2). Rezultatul va avea dimensiunea (4,4). La prima matrice se vor duplica in ordine \n",
    "liniile, si la a doua matriice se vor duplica in ordine coloanele"
   ]
  }
 ],
 "metadata": {
  "kernelspec": {
   "display_name": "Python 3",
   "language": "python",
   "name": "python3"
  },
  "language_info": {
   "codemirror_mode": {
    "name": "ipython",
    "version": 3
   },
   "file_extension": ".py",
   "mimetype": "text/x-python",
   "name": "python",
   "nbconvert_exporter": "python",
   "pygments_lexer": "ipython3",
   "version": "3.10.12"
  }
 },
 "nbformat": 4,
 "nbformat_minor": 2
}
