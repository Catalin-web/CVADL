{
 "cells": [
  {
   "cell_type": "code",
   "execution_count": 1,
   "metadata": {},
   "outputs": [],
   "source": [
    "import os\n",
    "import sys\n",
    "import torch\n",
    "from torch import Tensor\n",
    "import torch.testing as torch_testing\n",
    "import torch.nn as nn\n",
    "import numpy as np\n",
    "import numpy.testing as npt\n",
    "from functools import reduce\n",
    "import matplotlib.pyplot as plt\n",
    "import os\n",
    "import pickle\n",
    "import cv2\n",
    "from dataclasses import dataclass\n",
    "import tqdm\n",
    "device = torch.device('cuda' if torch.cuda.is_available() else 'cpu')\n",
    "torch.set_default_device(device)"
   ]
  },
  {
   "cell_type": "markdown",
   "metadata": {},
   "source": [
    "Let's start by implementing the softmax function. This function takes as input an array of *N* arbitrary numbers and normalizes the array such that the output is a probability distribution.\n",
    "\n",
    "\n",
    "\\begin{equation}\n",
    "softmax(x)_i = \\frac{e^{x_i}}{\\sum_{j = 0}^{j = N} e^{x_j}}\n",
    "\\end{equation}\n",
    "\n",
    "In the file *activations.py* write the implementation of the softmax function.\n",
    "\n",
    "**Short discussion about softmax numerical stability.** You can also check this [post](https://ogunlao.github.io/2020/04/26/you_dont_really_know_softmax.html).\n",
    "\n",
    "This code is found in _activations.py_ ."
   ]
  },
  {
   "cell_type": "code",
   "execution_count": 2,
   "metadata": {},
   "outputs": [],
   "source": [
    "def softmax_without_temperature(input_array):\n",
    "    return np.exp(input_array)/np.sum(np.exp(input_array))\n",
    "\n",
    "def softmax_with_temperature(input_array, temperature):\n",
    "    return np.exp(input_array/temperature)/np.sum(np.exp(input_array/temperature))\n",
    "\n",
    "input_array = np.array([np.log(1), np.log(2), np.log(3), np.log(4)])\n",
    "result_without_temperature = softmax_without_temperature(input_array)\n",
    "result_with_temperature = softmax_with_temperature(input_array, 1)\n",
    "\n",
    "# My validation of both softmax\n",
    "npt.assert_almost_equal([0.1, 0.2, 0.3, 0.4], result_without_temperature)\n",
    "npt.assert_almost_equal([0.1, 0.2, 0.3, 0.4], result_with_temperature)"
   ]
  },
  {
   "cell_type": "code",
   "execution_count": 3,
   "metadata": {},
   "outputs": [],
   "source": [
    "# Validation of softmax without temperature\n",
    "arr = np.asarray([2, 4, 10, 100, 2.0])\n",
    "assert (np.allclose(torch.nn.functional.softmax(torch.from_numpy(arr), dim=0).numpy(), softmax_without_temperature(arr)))\n",
    "arr = np.asarray([0.0, 0, 0, 1, 0])\n",
    "assert (np.allclose(torch.nn.functional.softmax(torch.from_numpy(arr), dim=0).numpy(), softmax_without_temperature(arr)))\n",
    "arr = np.asarray([-750.0, 23, 9, 10, 230])\n",
    "assert (np.allclose(torch.nn.functional.softmax(torch.from_numpy(arr), dim=0).numpy(), softmax_without_temperature(arr)))\n",
    "arr = np.ones((4, ))\n",
    "assert (np.allclose(torch.nn.functional.softmax(torch.from_numpy(arr), dim=0).numpy(), softmax_without_temperature(arr)))\n",
    "arr = np.zeros((4, ))\n",
    "# Validation of softmax with temperature\n",
    "arr = np.asarray([2, 4, 10, 100, 2.0])\n",
    "assert (np.allclose(torch.nn.functional.softmax(torch.from_numpy(arr), dim=0).numpy(), softmax_with_temperature(arr, 1)))\n",
    "arr = np.asarray([0.0, 0, 0, 1, 0])\n",
    "assert (np.allclose(torch.nn.functional.softmax(torch.from_numpy(arr), dim=0).numpy(), softmax_with_temperature(arr, 1)))\n",
    "arr = np.asarray([-750.0, 23, 9, 10, 230])\n",
    "assert (np.allclose(torch.nn.functional.softmax(torch.from_numpy(arr), dim=0).numpy(), softmax_with_temperature(arr, 1)))\n",
    "arr = np.ones((4, ))\n",
    "assert (np.allclose(torch.nn.functional.softmax(torch.from_numpy(arr), dim=0).numpy(), softmax_with_temperature(arr, 1)))\n",
    "arr = np.zeros((4, ))"
   ]
  },
  {
   "cell_type": "markdown",
   "metadata": {},
   "source": [
    "*Softmax temperature* is a concept that we'll be using later in this course.\n",
    "The *softmax temperature* is a hyper-parameter (positive number) which scales the input of the softmax function to modify the output probabilities.\n",
    "\\begin{equation}\n",
    "s(x, T)_i = \\frac{e^{x_i/T}}{\\sum_{j = 0}^{j = N} e^{x_j/T}}\n",
    "\\end{equation}"
   ]
  },
  {
   "cell_type": "markdown",
   "metadata": {},
   "source": [
    "Now modify your implementation of the softmax function such that it also takes as input the softmax temperature (a positive floating point number). If this parameter is not specified, it should default to 1.\n",
    "\n",
    "Now let's visualise what is the effect of the softmax temperature.\n",
    "Given the input vector *x = [100, 2, -150, 75, 99, 3]* , plot the original vector and the softmax with temperatures $ T \\in \\{0.25, 0.75, 1, 1.5, 2, 5, 10, 20, 30\\} $.\n",
    "\n",
    "You can use a bar plot for this. The title for each plot should be the value of the softmax temperature. Also, make sure that for all the plots the range of the *y* axis is set to (0, 1).\n",
    "\n",
    "This code is found in _activations.py_ ."
   ]
  },
  {
   "cell_type": "code",
   "execution_count": 4,
   "metadata": {},
   "outputs": [
    {
     "data": {
      "text/plain": [
       "<matplotlib.legend.Legend at 0x7f2d78d72b30>"
      ]
     },
     "execution_count": 4,
     "metadata": {},
     "output_type": "execute_result"
    },
    {
     "data": {
      "text/plain": [
       "<Figure size 1440x720 with 0 Axes>"
      ]
     },
     "metadata": {},
     "output_type": "display_data"
    },
    {
     "data": {
      "image/png": "[encoded data removed]",
      "text/plain": [
       "<Figure size 432x288 with 1 Axes>"
      ]
     },
     "metadata": {
      "needs_background": "light"
     },
     "output_type": "display_data"
    }
   ],
   "source": [
    "initial_vector = np.array([100, 2, -150, 75, 99, 3])\n",
    "temperatures = [0.25, 0.75, 1, 1.5, 2, 5, 10, 20, 30]\n",
    "indices_in_initial_vector = np.arange(len(initial_vector))\n",
    "figure_width = 20\n",
    "figure_height = 10\n",
    "plt.figure(figsize=(figure_width, figure_height))\n",
    "bar_width = 0.1\n",
    "fig, ax = plt.subplots()\n",
    "\n",
    "for index, temperature in enumerate(temperatures):\n",
    "    ax.bar(indices_in_initial_vector+index*bar_width, softmax_with_temperature(initial_vector, temperature), bar_width, label=str(temperature))\n",
    "    npt.assert_almost_equal(np.sum(softmax_with_temperature(initial_vector, temperature)), 1.0)\n",
    "\n",
    "ax.set_xticks(indices_in_initial_vector + bar_width*len(temperatures) / 2)\n",
    "ax.set_xticklabels(initial_vector)\n",
    "plt.xlabel('index of array')\n",
    "plt.ylabel('probability')\n",
    "plt.legend()"
   ]
  },
  {
   "cell_type": "markdown",
   "metadata": {},
   "source": [
    "1. What happens when we use a large number for the softmax temperature?\n",
    "\n",
    "Answear: The probability distribution becomes more uniform.\n",
    "\n",
    "2. What happens when we use a small number (i.e. less than 1) for the softmax temperature?\n",
    "\n",
    "Answear: The probability distribution becomes less uniform.\n",
    "\n",
    "3. In the context of image classification, the predicted class is determined by taking the *argmax* of the softmax function. Does the softmax temperature change in any way this prediction?\n",
    "\n",
    "Answear: Nope, based on the last example"
   ]
  },
  {
   "cell_type": "markdown",
   "metadata": {},
   "source": [
    "In the script *cifar10.py* you will complete the function ``load_cifar10``, which load the data from the archive you just downloaded.\n",
    "\n",
    "The images of this dataset are are stored in a numpy array, one image per row, in the following order:\n",
    "\n",
    "\"_The first 1024 entries contain the red channel values, the next 1024 the green, and the final 1024 the blue. The image is stored in row-major order, so that the first 32 entries of the array are the red channel values of the first row of the image._\"\n",
    "\n",
    "Your task here is just to manipulate this array, such that each image has the shape (32, 32, 3) and uses RGB ordering."
   ]
  },
  {
   "cell_type": "code",
   "execution_count": 5,
   "metadata": {},
   "outputs": [],
   "source": [
    "labels = np.array(['airplane', 'automobile', 'bird', 'cat', 'deer', 'dog', 'frog', 'horse', 'ship', 'truck'])\n",
    "number_of_classes = len(labels)"
   ]
  },
  {
   "cell_type": "code",
   "execution_count": 6,
   "metadata": {},
   "outputs": [],
   "source": [
    "def load_file(file_path: str) -> (np.ndarray, np.ndarray):\n",
    "    \"\"\"\"\n",
    "    Load a single batch file.\n",
    "    This function only reshape the image from 1000 rows of 32(rows)*32(columns)*3(channels) to 1000 rows to a rgb format.\n",
    "    Basically each line should contain at the end 32 rows * 32 columns * 3 channels = 3072 values.\n",
    "    Initial shape: (10000, 3072)\n",
    "    Final shape: (10000, 32, 32, 3)\n",
    "    \"\"\"\n",
    "    with open(file_path, 'rb') as f:\n",
    "        data = pickle.load(f, encoding='latin1')\n",
    "        all_images = data['data']\n",
    "        number_of_images = all_images.shape[0]\n",
    "        y = data['labels']\n",
    "        reshaped_and_transpose_images = all_images.reshape(number_of_images, 3, 32, 32).transpose(0, 2, 3, 1)\n",
    "        return reshaped_and_transpose_images, np.asanyarray(y)\n",
    "reshaped_images, _ = load_file(\"batches/data_batch_1\")"
   ]
  },
  {
   "cell_type": "code",
   "execution_count": 7,
   "metadata": {},
   "outputs": [],
   "source": [
    "def load_directory(directory_path: str) -> (np.ndarray, np.ndarray, np.ndarray, np.ndarray):\n",
    "    \"\"\"\n",
    "    Load multiple batch files.\n",
    "    Train data start with: data_batch_[...].\n",
    "    Test data file is test_batch.\n",
    "    \"\"\"\n",
    "    #Train data\n",
    "    train_batches = [os.path.join(directory_path, 'data_batch_{}'.format(i)) for i in range(1, 6)]\n",
    "    all_images_directory = []\n",
    "    all_labels_directory = []\n",
    "    for batch in train_batches:\n",
    "        all_images_file, all_labels_file = load_file(batch)\n",
    "        all_images_directory.extend(all_images_file)\n",
    "        all_labels_directory.extend(all_labels_file)\n",
    "    all_images_directory = np.asarray(all_images_directory)\n",
    "    all_labels_directory = np.asarray(all_labels_directory)\n",
    "    # Test data\n",
    "    test_batches = os.path.join(directory_path, 'test_batch')\n",
    "    test_images, test_labels = load_file(test_batches)\n",
    "    assert(all_images_directory.shape[0] == 50000)\n",
    "    assert(all_images_directory[0].shape == (32, 32, 3))\n",
    "    assert(all_images_directory.shape[0] == all_labels_directory.shape[0])\n",
    "    assert (test_images.shape[0] == 10000)\n",
    "    assert (test_images[0].shape == (32, 32, 3))\n",
    "    assert (test_images.shape[0] == test_labels.shape[0])\n",
    "\n",
    "    return all_images_directory, all_labels_directory, test_images, test_labels\n",
    "\n",
    "def load_directory_and_apply_tricks(directory_path: str) -> (Tensor, Tensor, Tensor, Tensor):\n",
    "    X_train, Y_train, X_test, Y_test = load_directory(\"batches\")\n",
    "    \n",
    "    X_train = X_train.reshape(X_train.shape[0], -1)\n",
    "    X_train = np.hstack([X_train, np.ones((X_train.shape[0], 1))])\n",
    "    n_values = np.max(Y_train) + 1\n",
    "    Y_train = np.eye(n_values)[Y_train]\n",
    "    \n",
    "    X_test = X_test.reshape(X_test.shape[0], -1)\n",
    "    X_test = np.hstack([X_test, np.ones((X_test.shape[0], 1))])\n",
    "    n_values = np.max(Y_test) + 1\n",
    "    Y_test = np.eye(n_values)[Y_test]\n",
    "    \n",
    "    # pre-processing: subtract mean image\n",
    "    mean_image = np.mean(X_train, axis=0)\n",
    "    X_train -= mean_image\n",
    "    X_test -= mean_image\n",
    "    \n",
    "    return torch.from_numpy(X_train).to(device), torch.from_numpy(Y_train).to(device), torch.from_numpy(X_test).to(device), torch.from_numpy(Y_test).to(device)\n",
    "X_train, Y_train, X_test, Y_test = load_directory_and_apply_tricks(\"batches\")"
   ]
  },
  {
   "cell_type": "markdown",
   "metadata": {},
   "source": [
    "Now let's visualize some of the images from the CIFAR-10 dataset."
   ]
  },
  {
   "cell_type": "code",
   "execution_count": 8,
   "metadata": {},
   "outputs": [
    {
     "data": {
      "image/png": "[encoded data removed]",
      "text/plain": [
       "<Figure size 432x288 with 15 Axes>"
      ]
     },
     "metadata": {
      "needs_background": "light"
     },
     "output_type": "display_data"
    }
   ],
   "source": [
    "X_train, Y_train, X_test, Y_test = load_directory(\"batches\")\n",
    "number_of_images = 15\n",
    "number_of_displayed_rows = 3\n",
    "number_of_displayed_collumns = number_of_images // number_of_displayed_rows\n",
    "random_image_indexes = np.random.choice(len(X_test), number_of_images)\n",
    "chosed_images, chosed_labels = X_test[random_image_indexes], Y_test[random_image_indexes]\n",
    "for image_index, (test_image, test_label) in enumerate(zip(chosed_images, chosed_labels)):\n",
    "    plt.subplot(number_of_displayed_rows, number_of_displayed_collumns, image_index + 1)\n",
    "    plt.imshow(test_image)\n",
    "    plt.title(labels[test_label])\n",
    "    plt.tight_layout()\n",
    "plt.show()"
   ]
  },
  {
   "cell_type": "markdown",
   "metadata": {},
   "source": [
    "Linear classification -> Liniar function is used to map from input data to output data using the formula:\n",
    "\n",
    "\n",
    "\\begin{equation}\n",
    "f(X_i) = X_i \\cdot W + b\n",
    "\\end{equation}\n",
    "\n",
    "W -> the weights.\n",
    "\n",
    "b -> the bias.\n",
    "\n",
    "We need a loss function to know if we are close to the answer or not. We will use this loss function to better train the model.\n",
    "\n",
    "We can get rid of the bias by extending the input metric by one and the weight metric with the byas.\n",
    "\n",
    "X from [1, 2, 3] -> [1, 2, 3, 1]\n",
    "\n",
    "W= \n",
    "[\n",
    "[1, 2]\n",
    "[3, 4]\n",
    "]\n",
    "& B= [5, 6]\n",
    "=>\n",
    "W =\n",
    "[\n",
    "[1, 2]\n",
    "[3, 4]\n",
    "[5, 6]\n",
    "]\n",
    "\n",
    "NEW FORMULA:\n",
    "\n",
    "\\begin{equation}\n",
    "f(X_i) = X_i \\cdot W\n",
    "\\end{equation}\n",
    "\n",
    "<!-- ```\n",
    "X = np.hstack([X, np.ones((X.shape[0], 1))])\n",
    "``` -->\n",
    "\n",
    "\n",
    "## Implementation\n",
    "\n",
    "[Pytorch](https://pytorch.org/) -> machine learning framework\n",
    "\n",
    "[Tensors](https://pytorch.org/docs/stable/tensors.html) -> main data abstraction from pytorch\n",
    "\n",
    "`Tensor` components:\n",
    "- Data: usefull data\n",
    "- Metadata: dtype, device that the tensors lives on\n",
    "\n",
    "We can transorm a `numpy` array into/from a tensor: _from_numpy()_, _numpy()_\n",
    "\n",
    "_item()_ -> to a scalar python value\n",
    "\n",
    "`_autograd_`\n",
    "- automatic differentiation of arbitrary scalar valued functions\n",
    "- set `_requires_grad_` to true\n",
    "- We need differential equation, so we can find a maximum point of the main function we need to optimize."
   ]
  },
  {
   "cell_type": "markdown",
   "metadata": {},
   "source": [
    "`Softmax classification`\n",
    "| Method | Description |\n",
    "| ----------- | ----------- |\n",
    "| initialize() | Randomly initialize the weights |\n",
    "| fit(X_train, y_train, **kwargs) | This will be used for training. |\n",
    "|  predict(X) | Return the predicted class |\n",
    "|  predict_proba(X) | Return the classifier predictions |\n",
    "|  save(path) | Will save the weights to a file |\n",
    "|  load(load) | Load the weigths from a file |\n",
    "|  __init__ | Take the size of input image and number of output classes |"
   ]
  },
  {
   "cell_type": "markdown",
   "metadata": {},
   "source": [
    "fill in the `_initialize()_` method. You figure out the shape of the weight matrix based on the input shape and the number of classes. Initialize the weight matrix with small random variables."
   ]
  },
  {
   "cell_type": "code",
   "execution_count": 9,
   "metadata": {},
   "outputs": [],
   "source": [
    "@dataclass\n",
    "class Parameters():\n",
    "    weight: Tensor\n",
    "    number_of_classes: int\n",
    "    input_shape: np.shape\n",
    "    loss_evolution: list\n",
    "    accuracy_evolution: list\n",
    "\n",
    "X_train, Y_train, X_test, Y_test = load_directory_and_apply_tricks(\"batches\")\n",
    "\n",
    "test_input_shape = X_train[0].shape\n",
    "test_number_of_classes = Y_train.shape[1]"
   ]
  },
  {
   "cell_type": "code",
   "execution_count": 10,
   "metadata": {},
   "outputs": [],
   "source": [
    "def initialize(number_of_classes: int, input_shape):\n",
    "    weight = torch.randn(input_shape[0], number_of_classes, dtype=float) * 0.001\n",
    "    weight.requires_grad_(True)\n",
    "    return Parameters(weight, number_of_classes, input_shape, [], [])\n",
    "\n",
    "parameters = initialize(number_of_classes, test_input_shape)\n",
    "\n",
    "npt.assert_equal((test_input_shape[0], test_number_of_classes), parameters.weight.shape)\n",
    "npt.assert_equal(test_number_of_classes, parameters.number_of_classes)\n",
    "npt.assert_equal(test_input_shape, parameters.input_shape)\n",
    "npt.assert_equal(True, parameters.weight.requires_grad)\n",
    "npt.assert_equal([], parameters.loss_evolution)"
   ]
  },
  {
   "cell_type": "markdown",
   "metadata": {},
   "source": [
    "fill in the `_save_` and `_load_` functions. In these functions you should just dump and restore, respectively, the weight matrix to/from the specified file."
   ]
  },
  {
   "cell_type": "code",
   "execution_count": 11,
   "metadata": {},
   "outputs": [],
   "source": [
    "def save(parameters: Parameters, file_path: str):\n",
    "    torch.save(parameters, file_path)\n",
    "    return file_path\n",
    "def load(file_path: str) -> Parameters:\n",
    "    return torch.load(file_path)\n",
    "\n",
    "parameters = initialize(test_number_of_classes, test_input_shape)\n",
    "save(parameters, \"parameters.torch\")\n",
    "parameters_loaded = load(\"parameters.torch\")\n",
    "\n",
    "npt.assert_equal(parameters.weight.shape, parameters_loaded.weight.shape)\n",
    "npt.assert_equal(parameters.number_of_classes, parameters_loaded.number_of_classes)\n",
    "npt.assert_equal(parameters.input_shape, parameters_loaded.input_shape)"
   ]
  },
  {
   "cell_type": "markdown",
   "metadata": {},
   "source": [
    "`_predict_` - this will just return the predicted class label. So you just need to compute the dot product and take the argmax of the result."
   ]
  },
  {
   "cell_type": "code",
   "execution_count": 12,
   "metadata": {},
   "outputs": [],
   "source": [
    "def predict(parameters: Parameters, input: Tensor, dim=0) -> Tensor:\n",
    "    return torch.argmax(input @ parameters.weight, dim=dim)\n",
    "\n",
    "parameters = initialize(test_number_of_classes, test_input_shape)\n",
    "for _ in range(1000):\n",
    "    Y_pred = predict(parameters, X_train[0])\n",
    "    npt.assert_equal(True, (Y_pred < test_number_of_classes).item())\n",
    "    \n",
    "    Y_pred = predict(parameters, X_train[0:3], dim=1)\n",
    "    npt.assert_equal(True, (torch.max(Y_pred) < test_number_of_classes).item())"
   ]
  },
  {
   "cell_type": "markdown",
   "metadata": {},
   "source": [
    "`predict_proba` - this will return the class probabilities. So after computing the dot product, you also need to apply the softmax function on the result to normalize it to a probability distribution."
   ]
  },
  {
   "cell_type": "code",
   "execution_count": 13,
   "metadata": {},
   "outputs": [],
   "source": [
    "def predict_proba(parameters: Parameters, input: Tensor, dim=0) -> Tensor:\n",
    "    return torch.nn.functional.softmax(input @ parameters.weight, dim=dim)\n",
    "\n",
    "parameters = initialize(test_number_of_classes, test_input_shape)\n",
    "for _ in range(1000):\n",
    "    predicted_proba = predict_proba(parameters, X_train[0])\n",
    "    npt.assert_almost_equal(1.0, np.sum(predicted_proba.cpu().detach().numpy()), decimal=5)\n",
    "\n",
    "    predicted_proba = predict_proba(parameters, X_train[0:3], dim=1)\n",
    "    npt.assert_almost_equal(1.0, torch.sum(predicted_proba, dim=1).cpu().detach().numpy(), decimal=5)"
   ]
  },
  {
   "cell_type": "markdown",
   "metadata": {},
   "source": [
    "Example of prediction using the model:"
   ]
  },
  {
   "cell_type": "code",
   "execution_count": null,
   "metadata": {},
   "outputs": [
    {
     "name": "stdout",
     "output_type": "stream",
     "text": [
      "Predicted class  dog tensor(5, device='cuda:0')\n",
      "Probas:  tensor([1.0320e-02, 1.5892e-03, 2.9084e-02, 1.1358e-04, 9.3555e-03, 7.4163e-01,\n",
      "        3.7218e-03, 1.8934e-01, 1.4278e-02, 5.6880e-04], device='cuda:0',\n",
      "       dtype=torch.float64, grad_fn=<SoftmaxBackward0>)\n",
      "[MULTI] Predicted class  ['dog' 'truck' 'ship'] tensor([5, 9, 8], device='cuda:0')\n",
      "[MULTI] Probas:  tensor([[1.0320e-02, 1.5892e-03, 2.9084e-02, 1.1358e-04, 9.3555e-03, 7.4163e-01,\n",
      "         3.7218e-03, 1.8934e-01, 1.4278e-02, 5.6880e-04],\n",
      "        [1.3978e-01, 4.2947e-02, 4.8961e-03, 7.9375e-05, 1.8364e-02, 1.0847e-04,\n",
      "         4.4186e-03, 3.0780e-05, 1.0709e-01, 6.8228e-01],\n",
      "        [2.1010e-02, 3.8681e-04, 9.9245e-07, 3.5190e-04, 2.7881e-03, 1.0589e-06,\n",
      "         1.9910e-04, 1.6947e-05, 9.6950e-01, 5.7465e-03]], device='cuda:0',\n",
      "       dtype=torch.float64, grad_fn=<SoftmaxBackward0>)\n"
     ]
    }
   ],
   "source": [
    "parameters = initialize(test_number_of_classes, test_input_shape)\n",
    "# parameters = load(\"parameters.torch\")\n",
    "\n",
    "print('Predicted class ', labels[predict(parameters, X_test[0])], predict(parameters, X_test[0]))\n",
    "print('Probas: ', predict_proba(parameters, X_test[0]))\n",
    "print('[MULTI] Predicted class ', labels[predict(parameters, X_test[0:3], dim=1).cpu()], predict(parameters, X_test[0:3], dim=1))\n",
    "print('[MULTI] Probas: ', predict_proba(parameters, X_test[0:3], dim=1))"
   ]
  },
  {
   "cell_type": "markdown",
   "metadata": {},
   "source": [
    "`Training` - the _fit_ method\n",
    "\n",
    "Usefull for making accurate predictions.\n",
    "\n",
    "Pytorch provides a powerful feature, _autograd_: it allows for the rapid and easy computation of multiple partial derivatives (also referred to as gradients) over a complex computation. This operation is central to backpropagation-based neural network learning.\n",
    "\n",
    "You can follow [this](https://pytorch.org/tutorials/beginner/introyt/autogradyt_tutorial.html) post for more details about how autograd works.\n",
    "We'll cover autograd in more detail in the next labs.\n",
    "\n",
    "For now, we'll be using it to make your life easier when implementing gradient descent to train the softmax classifier. In gradient descent, the idea is to take repeated steps in the opposite direction of the gradient of the loss function at the current point. The backpropagation algorithm works by computing the gradient of the loss function with respect to each weight by the chain rule, computing the gradient one layer at a time, and iterating backward from the last layer to avoid redundant calculations of intermediate terms in the chain rule.\n",
    "\n",
    "To signal autograd that it should collect the gradients of a tensor, you need to pass the parameter _requires_grad=True_ when creating it or call the method _requires_grad_()_ on a tensor.\n",
    "\n",
    "To __start the backpropagation__ with autograd, you just need to call the _backward()_ function on the loss tensor (a scalar).  \n",
    "Autograd calculates and stores the gradients for each model parameter in the tensors' _grad_ field.\n",
    "\n",
    "Let's see how a custom training loop looks in pytorch:"
   ]
  },
  {
   "cell_type": "markdown",
   "metadata": {},
   "source": [
    "Loss function definition (`cross_entropy`):\n",
    "\\begin{equation}\n",
    "L_i = - \\sum_{i=1}^{C} log(\\hat{y\\_pred}_i)\\cdot y_i.\n",
    "\\end{equation}\n",
    "\n",
    "$\\hat{y\\_pred}_i$ is always a value in the interval [0, 1]\n",
    "\n",
    "close to 0 => loss is very high (infinite)\n",
    "close to 1 => loss is very low (0)"
   ]
  },
  {
   "cell_type": "code",
   "execution_count": 15,
   "metadata": {},
   "outputs": [
    {
     "name": "stdout",
     "output_type": "stream",
     "text": [
      "My loss:\n",
      "8.560637899616673\n",
      "\n",
      "Pytorch loss:\n",
      "8.560637899616673\n",
      "\n",
      "My multiple loss:\n",
      "[8.5606379  9.01909836 9.01909836]\n",
      "\n",
      "Pytorch multiple loss:\n",
      "[8.5606379  9.01909836 9.01909836]\n",
      "\n"
     ]
    }
   ],
   "source": [
    "def cross_entropy_loss(Y_pred: Tensor, Y: Tensor, dim=0, clamp_param = 1e-9) -> Tensor:\n",
    "    Y_pred = torch.clamp(Y_pred, clamp_param, 1.0-clamp_param)\n",
    "    return -torch.sum(Y * torch.log(Y_pred), dim=dim)\n",
    "\n",
    "\n",
    "pytorch_loss = torch.nn.CrossEntropyLoss()\n",
    "parameters = initialize(test_number_of_classes, test_input_shape)\n",
    "predicted_output = predict_proba(parameters, X_train[0])\n",
    "\n",
    "my_loss = cross_entropy_loss(predicted_output, Y_train[0]).cpu().detach().numpy()\n",
    "pytorch_loss = cross_entropy_loss(predicted_output, Y_train[0]).cpu().detach().numpy()\n",
    "my_multiple_loss = cross_entropy_loss(predicted_output, Y_train[0:3], dim=1).cpu().detach().numpy()\n",
    "pytorch_multiple_loss = cross_entropy_loss(predicted_output, Y_train[0:3], dim=1).cpu().detach().numpy()\n",
    "\n",
    "print(f\"My loss:\\n{my_loss}\\n\")\n",
    "print(f\"Pytorch loss:\\n{pytorch_loss}\\n\")\n",
    "print(f\"My multiple loss:\\n{my_multiple_loss}\\n\")\n",
    "print(f\"Pytorch multiple loss:\\n{pytorch_multiple_loss}\\n\")\n",
    "npt.assert_equal(my_loss, pytorch_loss)\n",
    "npt.assert_equal(my_multiple_loss, pytorch_multiple_loss)"
   ]
  },
  {
   "cell_type": "markdown",
   "metadata": {},
   "source": [
    "In the function `log_softmax` implement the following:\n",
    "\\begin{equation}\n",
    "log\\_softmax(x_i) =  log(\\frac{e^{x_i}}{\\sum_{j}e^{x_j}}) = x_i - log(\\sum_j e^x_j)\n",
    "\\end{equation}"
   ]
  },
  {
   "cell_type": "code",
   "execution_count": 16,
   "metadata": {},
   "outputs": [
    {
     "name": "stdout",
     "output_type": "stream",
     "text": [
      "My log softmax:\n",
      "[-206.95448564 -209.29988564 -204.79754564 ... -169.09404564 -177.62560564\n",
      " -135.24374564]\n",
      "\n",
      "Pytorch log softmax:\n",
      "[-206.95448564 -209.29988564 -204.79754564 ... -169.09404564 -177.62560564\n",
      " -135.24374564]\n",
      "\n"
     ]
    }
   ],
   "source": [
    "def log_softmax(input: Tensor) -> Tensor:\n",
    "    return input - torch.log(torch.sum(torch.exp(input)))\n",
    "\n",
    "pytorch_log_softmax = nn.LogSoftmax(dim=0)\n",
    "\n",
    "my_log_softmax = log_softmax(X_train[0]).cpu().detach().numpy()\n",
    "pytorch_log_softmax = pytorch_log_softmax(X_train[0]).cpu().detach().numpy()\n",
    "# my_multiple_log_softmax = log_softmax(X_train[0:3], dim=1).numpy()\n",
    "# pytorch_multiple_log_softmax = pytorch_log_softmax(X_train[0:3]).numpy()\n",
    "\n",
    "print(f\"My log softmax:\\n{my_log_softmax}\\n\")\n",
    "print(f\"Pytorch log softmax:\\n{pytorch_log_softmax}\\n\")\n",
    "# print(f\"My multiple log softmax:\\n{my_multiple_log_softmax}\\n\")\n",
    "# print(f\"Pytorch multiple log softmax:\\n{pytorch_multiple_log_softmax}\\n\")\n",
    "npt.assert_almost_equal(my_log_softmax, pytorch_log_softmax)\n",
    "# npt.assert_almost_equal(my_multiple_log_softmax, pytorch_multiple_log_softmax)"
   ]
  },
  {
   "cell_type": "markdown",
   "metadata": {},
   "source": [
    "Then, in the ``fit`` method:\n",
    "\\begin{equation}\n",
    "y\\_pred_i = f(x_i)\n",
    "\\end{equation}\n",
    "\n",
    "\\begin{equation}\n",
    "\\hat{y\\_pred_i} =  log\\_softmax(y\\_pred_i)\n",
    "\\end{equation},\n",
    "\n",
    "and take the cross entropy loss between $\\hat{y\\_pred_i}$ and $y_i$ to compute the data loss.\n",
    "\n",
    "For this we need two steps:\n",
    "1. we need to define a loss function that quantifies our\n",
    "how well is the classifier doing on the training data. The loss function that we will use is the **cross entropy loss**.\n",
    "Remember from the lecture that, in order to avoid overfitting, a regularization term is added to the loss function.\n",
    "You will implement the $L_2$ regularization, in which you also add the  sum of squares of all of the feature weights to the loss.\n",
    "\n",
    "\n",
    "2. we need an algorithm to efficiently find the\n",
    "parameters that minimize the loss function."
   ]
  },
  {
   "cell_type": "code",
   "execution_count": 17,
   "metadata": {},
   "outputs": [],
   "source": [
    "X_train, Y_train, X_test, Y_test = load_directory_and_apply_tricks(\"batches\")"
   ]
  },
  {
   "cell_type": "code",
   "execution_count": 18,
   "metadata": {},
   "outputs": [],
   "source": [
    "def compute_accuracy(parameters: Parameters, input: Tensor, reverted_Y: Tensor) -> float:\n",
    "    with torch.no_grad():\n",
    "        computed_Y = predict(parameters, input, dim=1)\n",
    "        return torch.mean((reverted_Y == computed_Y).float()).item()"
   ]
  },
  {
   "cell_type": "code",
   "execution_count": 20,
   "metadata": {},
   "outputs": [
    {
     "name": "stderr",
     "output_type": "stream",
     "text": [
      "Epochs: 100%|██████████| 50/50 [01:10<00:00,  1.42s/it]\n"
     ]
    },
    {
     "data": {
      "text/plain": [
       "'model_trained.torch'"
      ]
     },
     "execution_count": 20,
     "metadata": {},
     "output_type": "execute_result"
    }
   ],
   "source": [
    "def fit(parameters: Parameters, train_data: torch.Tensor, train_result: torch.Tensor, **kwargs) -> Parameters:\n",
    "    learning_rate = kwargs.get(\"learning_rate\", 1e-5)\n",
    "    epochs = kwargs.get(\"epochs\", 50)\n",
    "    batch_size = kwargs.get(\"batch_size\", 64)\n",
    "    regularization_strength = kwargs.get(\"regularization_strength\", 1e-5)\n",
    "    number_of_iteration_to_map_all_images = train_data.shape[0] // batch_size\n",
    "    \n",
    "    # Handle the update of weights\n",
    "    optimizer = torch.optim.SGD([parameters.weight], lr=learning_rate, weight_decay=regularization_strength)\n",
    "    pytorch_loss = torch.nn.CrossEntropyLoss()\n",
    "    \n",
    "    epochs = tqdm.tqdm(range(epochs), desc=\"Epochs\")\n",
    "    for _ in epochs:\n",
    "        sum_loss = 0\n",
    "        for current_image_index in range(number_of_iteration_to_map_all_images):\n",
    "            from_image = current_image_index * batch_size\n",
    "            to_image = from_image + batch_size\n",
    "            \n",
    "            current_image_data = train_data[from_image:to_image]\n",
    "            current_image_result = train_result[from_image:to_image]\n",
    "\n",
    "            predicted = predict_proba(parameters, current_image_data, dim=1)\n",
    "            # Cross entropy loss with mean reduction\n",
    "            # loss = cross_entropy_loss(predicted, current_image_result, dim=1).mean()\n",
    "            # loss += regularization_strength * torch.sum(parameters.weight * parameters.weight)\n",
    "            loss = pytorch_loss(predicted, current_image_result.softmax(dim=1))\n",
    "            # L2 regularization\n",
    "            loss.backward()\n",
    "            optimizer.step()\n",
    "            optimizer.zero_grad()\n",
    "            sum_loss += loss.mean().item()\n",
    "        parameters.loss_evolution.append(sum_loss)\n",
    "        parameters.accuracy_evolution.append(compute_accuracy(parameters, train_data, torch.argmax(train_result, dim=1)))\n",
    "\n",
    "# parameters = initialize(Y_train.shape[1], X_train[0].shape)\n",
    "parameters = load(\"model_trained.torch\")\n",
    "fit(parameters, X_train, Y_train)\n",
    "save(parameters, \"model_trained.torch\")"
   ]
  },
  {
   "cell_type": "code",
   "execution_count": 21,
   "metadata": {},
   "outputs": [
    {
     "name": "stdout",
     "output_type": "stream",
     "text": [
      "Train accuracy: 0.4744799733161926\n",
      "Loss evolution: [1809.5222360872706, 1800.0754480358764, 1796.3738259102417, 1794.3090682590891, 1792.9532618663718, 1791.951257482004, 1791.1640774109085, 1790.523972292891, 1789.9897985619314, 1789.5343834376235, 1789.1394440101024, 1788.7921963768092, 1788.483345681717, 1788.2059621842038, 1787.954784732888, 1787.7257497298299, 1787.515662882811, 1787.3219695089163, 1787.1425936646124, 1786.9758243394294, 1786.8202336723643, 1786.674617174439, 1786.537949064661, 1786.4093478984703, 1786.2880494500887, 1786.1733853287533, 1786.0647665628903, 1785.9616713036482, 1785.8636355193914, 1785.7702456107763, 1785.6811322198669, 1785.5959648547278, 1785.5144471630172, 1785.4363127779368, 1785.3613216846509, 1785.2892570568542, 1785.219922511189, 1785.153139728112, 1785.0887463910267, 1785.0265944004211, 1784.9665483245246, 1784.9084840523876, 1784.8522876193183, 1784.7978541784248, 1784.745087095644, 1784.6938971494544, 1784.644201819805, 1784.59592465404, 1784.5489947001038, 1784.5033459993535, 1784.4589171327818, 1784.4156508153012, 1784.37349353337, 1784.3323952214957, 1784.2923089733824, 1784.25319078377, 1784.2149993171527, 1784.1776956999945, 1784.141243333419, 1784.1056077236708, 1784.0707563281505, 1784.036658415085, 1784.0032849352926, 1783.9706084046709, 1783.9386027963267, 1783.9072434414356, 1783.8765069379372, 1783.84637106645, 1783.8168147127114, 1783.787817796029, 1783.759361203226, 1783.731426727672, 1783.7039970129294, 1783.6770555007547, 1783.6505863830228, 1783.624574557373, 1783.599005586208, 1783.5738656588326, 1783.5491415564707, 1783.524820619895, 1783.500890719476, 1783.4773402273918, 1783.454157991801, 1783.4313333128412, 1783.4088559201764, 1783.3867159520232, 1783.3649039354978, 1783.3434107681205, 1783.3222277004338, 1783.301346319583, 1783.2807585338398, 1783.2604565579586, 1783.2404328993068, 1783.2206803447652, 1783.201191948262, 1783.1819610189848, 1783.1629811101898, 1783.1442460085334, 1783.1257497239435, 1783.107486480006]\n"
     ]
    },
    {
     "data": {
      "text/plain": [
       "Text(0, 0.5, 'Loss')"
      ]
     },
     "execution_count": 21,
     "metadata": {},
     "output_type": "execute_result"
    },
    {
     "data": {
      "image/png": "[encoded data removed]",
      "text/plain": [
       "<Figure size 432x288 with 2 Axes>"
      ]
     },
     "metadata": {
      "needs_background": "light"
     },
     "output_type": "display_data"
    }
   ],
   "source": [
    "parameters = load(\"model_trained.torch\")\n",
    "reverted_Y = torch.argmax(Y_train, axis=1)\n",
    "\n",
    "train_acc = compute_accuracy(parameters, X_train, reverted_Y)\n",
    "print(f\"Train accuracy: {train_acc}\")\n",
    "print(f\"Loss evolution: {parameters.loss_evolution}\")\n",
    "plt.subplot(2, 1, 1).plot(parameters.accuracy_evolution)\n",
    "plt.ylabel('Accuracy')\n",
    "plt.subplot(2, 1, 2).plot(parameters.loss_evolution)\n",
    "plt.xlabel('Epochs')\n",
    "plt.ylabel('Loss')"
   ]
  },
  {
   "cell_type": "markdown",
   "metadata": {},
   "source": [
    "<img src=\"https://2.bp.blogspot.com/-EvSXDotTOwc/XMfeOGZ-CVI/AAAAAAAAEiE/oePFfvhfOQM11dgRn9FkPxlegCXbgOF4QCLcBGAs/s1600/confusionMatrxiUpdated.jpg\" style=\"width: 40vw;  display: block;margin-left: auto; margin-right: auto;\"/>\n",
    "\n",
    "Based on the confusion matrix, you can compute different classification metrics:\n",
    "* *accuracy*: this is simply the ratio between the correctly classified samples (either positive or negative) and the total number of samples;\n",
    "* _precisi**on**_ : this metric measures the ability of the classifier to capture **only** relevant samples;\n",
    "* _rec**all**_ : this metric measures the ability of the classifier to spot **all** positive samples.\n",
    "* harmonic mean: Mean between precision and recall \n",
    "\n",
    "\\begin{equation}\n",
    "F_1 = 2 \\cdot \\frac{precision \\cdot recall}{precision + recall}\n",
    "\\end{equation}\n"
   ]
  },
  {
   "cell_type": "code",
   "execution_count": 22,
   "metadata": {},
   "outputs": [
    {
     "name": "stdout",
     "output_type": "stream",
     "text": [
      "Precision: 0.09880826670689395\n",
      "Recall: 0.524\n",
      "Specificity: 0.46897777777777777\n",
      "Negative predictive value: 0.8986544029977858\n",
      "Accuracy: 0.47448\n",
      "Accuracy computed with function: 0.4744799733161926\n",
      "Harmonic mean of precision and recall: 0.1662647544104582\n"
     ]
    }
   ],
   "source": [
    "def get_true_positive_and_negative(parameters: Parameters, input: Tensor, reverted_Y: Tensor, label: int) -> float:\n",
    "    with torch.no_grad():\n",
    "        computed_Y = predict(parameters, input, dim=1)\n",
    "        TP = torch.sum((reverted_Y == computed_Y) & (reverted_Y == label)).item()\n",
    "        TN = torch.sum((reverted_Y == computed_Y) & (reverted_Y != label)).item()\n",
    "        FP = torch.sum((reverted_Y != computed_Y) & (reverted_Y != label)).item()\n",
    "        FN = torch.sum((reverted_Y != computed_Y) & (reverted_Y == label)).item()\n",
    "        return TP, TN, FP, FN\n",
    "\n",
    "parameters = load(\"model_trained.torch\")\n",
    "reverted_Y = torch.argmax(Y_train, axis=1)\n",
    "TP, TN, FP, FN = get_true_positive_and_negative(parameters, X_train, reverted_Y, 0)\n",
    "print(f\"Precision: {TP/(TP+FP)}\")\n",
    "print(f\"Recall: {TP/(TP+FN)}\")\n",
    "print(f\"Specificity: {TN/(TN+FP)}\")\n",
    "print(f\"Negative predictive value: {TN/(TN+FN)}\")\n",
    "print(f\"Accuracy: {(TP+TN)/(TP+TN+FP+FN)}\")\n",
    "print(f\"Accuracy computed with function: {compute_accuracy(parameters, X_train, reverted_Y)}\")\n",
    "print(f\"Harmonic mean of precision and recall: {2*(TP/(TP+FP))*(TP/(TP+FN))/((TP/(TP+FP))+(TP/(TP+FN)))}\")\n"
   ]
  }
 ],
 "metadata": {
  "kernelspec": {
   "display_name": "Python 3",
   "language": "python",
   "name": "python3"
  },
  "language_info": {
   "codemirror_mode": {
    "name": "ipython",
    "version": 3
   },
   "file_extension": ".py",
   "mimetype": "text/x-python",
   "name": "python",
   "nbconvert_exporter": "python",
   "pygments_lexer": "ipython3",
   "version": "3.10.12"
  }
 },
 "nbformat": 4,
 "nbformat_minor": 2
}
