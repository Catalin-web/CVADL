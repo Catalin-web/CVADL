{
  "cells": [
    {
      "cell_type": "markdown",
      "metadata": {
        "id": "dzr-cm4dbcDL"
      },
      "source": [
        "Apply different effects (crop it, lower the contrast, change the brightness) on the training image and see if you can \"fool\" the network.\n",
        "\n",
        "Also, upload other images from your computer and see what the network predicts"
      ]
    },
    {
      "cell_type": "code",
      "execution_count": null,
      "metadata": {
        "id": "Bw1NSd_wbcDL"
      },
      "outputs": [],
      "source": [
        "## TODO your experiments here"
      ]
    },
    {
      "cell_type": "markdown",
      "metadata": {
        "id": "nXuUsv-jbcDP"
      },
      "source": [
        "Congratulations for reaching this point! This is the end of first laboratory.\n",
        "Next time we'll build (from scratch) a simple linear classifier to recognize different objects from images."
      ]
    },
    {
      "cell_type": "code",
      "execution_count": null,
      "metadata": {
        "id": "N3fMN28kbcDP"
      },
      "outputs": [],
      "source": []
    },
    {
      "cell_type": "markdown",
      "metadata": {
        "id": "PFpvkcY2yRKl"
      },
      "source": [
        "It would be great if you could tell me what you liked (or not) about this tutorial, so I can make it better for the next iteration! [feedback form](https://docs.google.com/forms/d/1hh3qUKsbVtKnRb2SS_bY7o52jf5O8n4-N6icuBv3F1k/)\n",
        "Thank you!"
      ]
    }
  ],
  "metadata": {
    "colab": {
      "provenance": []
    },
    "kernelspec": {
      "display_name": "Python 3",
      "language": "python",
      "name": "python3"
    },
    "language_info": {
      "codemirror_mode": {
        "name": "ipython",
        "version": 3
      },
      "file_extension": ".py",
      "mimetype": "text/x-python",
      "name": "python",
      "nbconvert_exporter": "python",
      "pygments_lexer": "ipython3",
      "version": "3.10.12"
    }
  },
  "nbformat": 4,
  "nbformat_minor": 0
}
