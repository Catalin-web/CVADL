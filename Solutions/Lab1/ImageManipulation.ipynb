{
 "cells": [
  {
   "cell_type": "code",
   "execution_count": null,
   "metadata": {},
   "outputs": [],
   "source": [
    "import numpy as np\n",
    "import numpy.testing as npt\n",
    "import cv2\n",
    "import matplotlib.pyplot as plt"
   ]
  },
  {
   "cell_type": "code",
   "execution_count": null,
   "metadata": {},
   "outputs": [],
   "source": [
    "img = cv2.imread('cute_cat.jpg')\n",
    "img = cv2.cvtColor(img, cv2.COLOR_BGR2RGB)\n",
    "plt.imshow(img)"
   ]
  },
  {
   "cell_type": "code",
   "execution_count": null,
   "metadata": {},
   "outputs": [],
   "source": [
    "img_height, img_width, img_channels = img.shape[0], img.shape[1], img.shape[2]\n",
    "print('The image resolution is ', img_width, 'x', img_height)\n",
    "print('The number of channels is ', img_channels)"
   ]
  },
  {
   "cell_type": "code",
   "execution_count": null,
   "metadata": {},
   "outputs": [],
   "source": [
    "height, width, number_of_colors = img.shape\n",
    "print('The image resolution is ', width, 'x', height)\n",
    "print('The number of channels is ', number_of_colors)"
   ]
  },
  {
   "cell_type": "markdown",
   "metadata": {},
   "source": [
    "Notes:\n",
    "- O imagine are 3 dimensiuni: latime, lungime si culoare\n",
    "- Latimea si lungimea sunt date in pixeli\n",
    "- Culoarea este data de 3 valori: rosu, verde si albastru (RGB)"
   ]
  },
  {
   "cell_type": "code",
   "execution_count": null,
   "metadata": {},
   "outputs": [],
   "source": [
    "img_resize_fixed =  cv2.resize(img, (120, 400))\n",
    "print('The shape of the resize image is:', img_resize_fixed.shape)\n",
    "plt.imshow(img_resize_fixed)"
   ]
  },
  {
   "cell_type": "code",
   "execution_count": null,
   "metadata": {},
   "outputs": [],
   "source": [
    "img = cv2.imread('cute_cat.jpg')\n",
    "img = cv2.cvtColor(img, cv2.COLOR_BGR2RGB)\n",
    "img_fixed_resize = cv2.resize(img, (100, 100))\n",
    "plt.imshow(img_fixed_resize)"
   ]
  },
  {
   "cell_type": "markdown",
   "metadata": {},
   "source": [
    "Notes:\n",
    "- Putem face resize la imagine, dar nu se va mentime aspectul imaginii, se va face pur si simplu resize la imagine"
   ]
  },
  {
   "cell_type": "code",
   "execution_count": null,
   "metadata": {},
   "outputs": [],
   "source": [
    "img_resize_prop = cv2.resize(img, (0, 0), fx=0.25, fy=0.25)\n",
    "print('The shape of the resize image is:', img_resize_prop.shape)\n",
    "plt.imshow(img_resize_prop)"
   ]
  },
  {
   "cell_type": "code",
   "execution_count": null,
   "metadata": {},
   "outputs": [],
   "source": [
    "img = cv2.imread('cute_cat.jpg')\n",
    "img = cv2.cvtColor(img, cv2.COLOR_BGR2RGB)\n",
    "img_resize_prop = cv2.resize(img, (0, 0), fx=0.1, fy=0.1)\n",
    "print('The shape of the resize image is:', img_resize_prop.shape)\n",
    "plt.imshow(img_resize_prop)"
   ]
  },
  {
   "cell_type": "markdown",
   "metadata": {},
   "source": [
    "Notes:\n",
    "- Se poate face si resize pastrand raportul de aspect, specificand cat la suta din imagine vrem sa fie redimensionata"
   ]
  },
  {
   "cell_type": "code",
   "execution_count": null,
   "metadata": {},
   "outputs": [],
   "source": [
    "img_gray = 0.2126*img_resize_prop[:,:,0] + 0.7152*img_resize_prop[:,:,1] + 0.0722*img_resize_prop[:,:,2]\n",
    "img_gray = img_gray.astype(np.uint8)\n",
    "plt.imshow(img_gray, cmap='gray', vmin=0, vmax=255)"
   ]
  },
  {
   "cell_type": "code",
   "execution_count": null,
   "metadata": {},
   "outputs": [],
   "source": [
    "img_more_red = img.copy()\n",
    "img_more_red[:,:,0] = img_more_red[:,:,0] * 5\n",
    "plt.imshow(img_more_red)"
   ]
  },
  {
   "cell_type": "markdown",
   "metadata": {},
   "source": [
    "Notes:\n",
    "- Putem transforma o imagine in alb negru astfel:\n",
    "\n",
    "- Imaginea e un numpy array pentru care a treia dimensiune reprezinta canalul de culoare (RGB). Practic sunt 3 numere intre 0 si 255\n",
    "care reprezinta intensitatea fiecarei culori. Daca avem 255 la primul de ex, imaginea va fi mai rosie putem sa inmultim aspectul de rosu cu o \n",
    "constanta (sau sa il adaunam cu o constanta).\n",
    "- Pentru ca imaginea sa fie alb-negru se poate folosi urmatoarea formula: Gray = 0.2126 R + 0.7152 G + 0.0722 B.\n",
    "- O imagine alb-negru nu va mai avea 3 dimensiuni pentru culor, ci doar una, cat de neagra sa fie imaginea."
   ]
  },
  {
   "cell_type": "code",
   "execution_count": null,
   "metadata": {},
   "outputs": [],
   "source": [
    "hist, bins = np.histogram(img_gray, bins=255)# [0-255], 256\n",
    "print('The histogram is:\\n', hist)\n",
    "plt.title('histogram of the grayscale image')\n",
    "plt.bar(np.arange(255), hist, color='cornflowerblue')"
   ]
  }
 ],
 "metadata": {
  "kernelspec": {
   "display_name": "Python 3",
   "language": "python",
   "name": "python3"
  },
  "language_info": {
   "codemirror_mode": {
    "name": "ipython",
    "version": 3
   },
   "file_extension": ".py",
   "mimetype": "text/x-python",
   "name": "python",
   "nbconvert_exporter": "python",
   "pygments_lexer": "ipython3",
   "version": "3.10.12"
  }
 },
 "nbformat": 4,
 "nbformat_minor": 2
}
