{
 "cells": [
  {
   "cell_type": "code",
   "execution_count": null,
   "metadata": {},
   "outputs": [],
   "source": [
    "import numpy as np\n",
    "import matplotlib.pyplot as plt"
   ]
  },
  {
   "cell_type": "code",
   "execution_count": null,
   "metadata": {},
   "outputs": [],
   "source": [
    "x = np.arange(0, 5 * np.pi, 0.1)\n",
    "y = np.sin(x)\n",
    "plt.plot(x, y)\n",
    "plt.title('Sine function')\n",
    "plt.ylabel('sine value')\n",
    "plt.show()"
   ]
  },
  {
   "cell_type": "code",
   "execution_count": null,
   "metadata": {},
   "outputs": [],
   "source": [
    "\n",
    "x_points = np.arange(0, 100, 1) \n",
    "y_function = lambda x : 100 * x + 30\n",
    "plt.plot(x_points, y_function(x_points))\n",
    "plt.title('Linear function: 100*x + 30')\n",
    "plt.xlabel('x')\n",
    "plt.ylabel('y')\n",
    "plt.show()"
   ]
  },
  {
   "cell_type": "markdown",
   "metadata": {},
   "source": [
    "Notes:\n",
    "- The first argument is the points where the function is evaluated. The second argument is the function itself. The function can be either\n",
    "a predefined numpy function (as sin), or a lambda function"
   ]
  },
  {
   "cell_type": "code",
   "execution_count": null,
   "metadata": {},
   "outputs": [],
   "source": [
    "x = np.arange(0, 2 * np.pi, 0.1)\n",
    "y_sin = np.sin(x)\n",
    "y_cos = np.cos(x)\n",
    "plt.subplot(1, 2, 1)\n",
    "plt.plot(x, y_sin)\n",
    "plt.grid(True)\n",
    "plt.title('Sine')\n",
    "plt.subplot(1, 2, 2)\n",
    "plt.plot(x, y_cos)\n",
    "plt.title('Cosine')\n",
    "plt.subplots_adjust(wspace=0.5)\n",
    "plt.show()"
   ]
  },
  {
   "cell_type": "code",
   "execution_count": null,
   "metadata": {},
   "outputs": [],
   "source": [
    "x_points = np.arange(0, 100, 1) \n",
    "first_function = lambda x : 100 * x + 30\n",
    "second_function = lambda x : x**2 - 10 * x + 30\n",
    "third_function = lambda x: x**3 - 100 * x**2 + 30 * x + 10\n",
    "\n",
    "plt.subplot(1, 3, 1)\n",
    "plt.plot(x_points, first_function(x_points))\n",
    "plt.title('Linear function')\n",
    "\n",
    "plt.subplot(1, 3, 2)\n",
    "plt.plot(x_points, second_function(x_points))\n",
    "plt.title('Quadratic function')\n",
    "\n",
    "plt.subplot(1, 3, 3)\n",
    "plt.plot(x_points, third_function(x_points))\n",
    "plt.title('Cubic function')\n",
    "\n",
    "plt.subplots_adjust(wspace=1)\n",
    "plt.show()"
   ]
  },
  {
   "cell_type": "markdown",
   "metadata": {},
   "source": [
    "Notes:\n",
    "- We can add more plots\n",
    "- First argument is the number of rows\n",
    "- Second argument is the number of columns\n",
    "- Third argument is the index of the plot\n",
    "- We can adjust the space between plots with subplots_adjust() function"
   ]
  }
 ],
 "metadata": {
  "kernelspec": {
   "display_name": "Python 3",
   "language": "python",
   "name": "python3"
  },
  "language_info": {
   "codemirror_mode": {
    "name": "ipython",
    "version": 3
   },
   "file_extension": ".py",
   "mimetype": "text/x-python",
   "name": "python",
   "nbconvert_exporter": "python",
   "pygments_lexer": "ipython3",
   "version": "3.10.12"
  }
 },
 "nbformat": 4,
 "nbformat_minor": 2
}
