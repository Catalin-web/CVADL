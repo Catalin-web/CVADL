{
 "cells": [
  {
   "cell_type": "code",
   "execution_count": null,
   "metadata": {},
   "outputs": [],
   "source": [
    "import cv2\n",
    "import numpy as np\n",
    "import matplotlib.pyplot as plt\n",
    "%matplotlib inline"
   ]
  },
  {
   "cell_type": "code",
   "execution_count": null,
   "metadata": {},
   "outputs": [],
   "source": [
    "a = np.array([1, 2, 3])\n",
    "print('a is a numpy array ', type(a))\n",
    "print('the shape of a is ', a.shape, ' and its rank is ', len(a.shape))\n",
    "print('the type of the elements stored in a is ', a.dtype)\n",
    "print('---')"
   ]
  },
  {
   "cell_type": "code",
   "execution_count": null,
   "metadata": {},
   "outputs": [],
   "source": [
    "b = np.array([[1.0, 2, 3],[4, 5, 6]])\n",
    "print('the shape of b is ', b.shape, ' and its rank is ', len(b.shape))\n",
    "print('the type of the elements stored in b is ', b.dtype)\n",
    "print('---')"
   ]
  },
  {
   "cell_type": "code",
   "execution_count": null,
   "metadata": {},
   "outputs": [],
   "source": [
    "c = np.array([[[0]]], dtype=np.uint8)\n",
    "print('the shape of c is ', c.shape, ' and its rank is ', len(c.shape))\n",
    "print('the type of the elements stored in c is ', c.dtype)"
   ]
  },
  {
   "cell_type": "code",
   "execution_count": null,
   "metadata": {},
   "outputs": [],
   "source": [
    "d = np.array([[[1], [1]], [[1], [1]], [[1], [1]]])\n",
    "print('the shape of d is ', d.shape, ' and its rank is ', len(d.shape))\n",
    "print('the type of the elements stored in d is ', d.dtype)"
   ]
  },
  {
   "cell_type": "markdown",
   "metadata": {},
   "source": [
    "Notes:\n",
    "- shape: in ordine descrescatoare dupa dimensiune, nr de matrici, linii, elemente\n",
    "- rank: len(shape)\n",
    "- dtype: tipul elementelor"
   ]
  },
  {
   "cell_type": "code",
   "execution_count": null,
   "metadata": {},
   "outputs": [],
   "source": [
    "a = np.zeros(shape=(1, 2))\n",
    "print('zeros array {} of shape {}'.format(a, a.shape))\n",
    "b = np.ones((224, 224, 3), dtype=np.uint8)\n",
    "c = np.full((4, 4, 3), 255)\n",
    "d = np.eye(3)\n",
    "print('identity matrix of size 3x3 ', d)\n",
    "r = np.random.random(10)\n",
    "print('array of 10 random elements ', r)\n",
    "zl = np.zeros_like(r)"
   ]
  },
  {
   "cell_type": "code",
   "execution_count": null,
   "metadata": {},
   "outputs": [],
   "source": [
    "zeros_example = np.zeros((2,3))\n",
    "print(f\"zeros array: \\n{zeros_example}\\n shape: {zeros_example.shape}\\n\")\n",
    "ones_example = np.ones((2,3))\n",
    "print(f\"ones array: \\n{ones_example}\\n shape: {ones_example.shape}\\n\")\n",
    "full_example = np.full((2,3), 13)\n",
    "print(f\"full array: \\n{full_example}\\n shape: {full_example.shape}\\n\")\n",
    "eye_example = np.eye(3)\n",
    "print(f\"eye array: \\n{eye_example}\\n shape: {eye_example.shape}\\n\")\n",
    "random_example = np.random.random((2,3))\n",
    "print(f\"random array: \\n{random_example}\\n shape: {random_example.shape}\\n\")\n",
    "zeros_like_example = np.zeros_like(random_example)\n",
    "print(f\"zeros_like array: \\n{zeros_like_example}\\n shape: {zeros_like_example.shape}\\n\")"
   ]
  },
  {
   "cell_type": "markdown",
   "metadata": {},
   "source": [
    "Zeros:\n",
    "- Va crea un numpy array cu dimensiunea specificata, populata cu 0 cu toate elementele\n",
    "\n",
    "Ones:\n",
    "- Va crea un numpy array cu dimensiunea specificata, populata cu 1 cu toate elementele\n",
    "\n",
    "Full:\n",
    "- Va crea un numpy array cu dimensiunea specificata, populata cu elementul specificat ca parametru\n",
    "\n",
    "Eye:\n",
    "- Va crea un numpy array cu dimensiunea specificata, cu toate elementele 1 si 0 respectiv (matrice identitate, neutra fata de @)\n",
    "\n",
    "Random:\n",
    "- Va crea un numpy array cu dimensiunea specificata aleatoare, populata cu elementele aleatori (elemente intre 0 si 1)\n",
    "\n",
    "Zeros_like:\n",
    "- Va crea un numpy array cu dimensiunea specificata a elementului transmis ca paramentru, populata cu 0\n",
    "\n"
   ]
  },
  {
   "cell_type": "code",
   "execution_count": null,
   "metadata": {},
   "outputs": [],
   "source": [
    "\n"
   ]
  }
 ],
 "metadata": {
  "kernelspec": {
   "display_name": "Python 3",
   "language": "python",
   "name": "python3"
  },
  "language_info": {
   "codemirror_mode": {
    "name": "ipython",
    "version": 3
   },
   "file_extension": ".py",
   "mimetype": "text/x-python",
   "name": "python",
   "nbconvert_exporter": "python",
   "pygments_lexer": "ipython3",
   "version": "3.10.12"
  }
 },
 "nbformat": 4,
 "nbformat_minor": 2
}
