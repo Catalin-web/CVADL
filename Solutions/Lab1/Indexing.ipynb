{
 "cells": [
  {
   "cell_type": "code",
   "execution_count": null,
   "metadata": {},
   "outputs": [],
   "source": [
    "import cv2\n",
    "import numpy as np\n",
    "import matplotlib.pyplot as plt\n",
    "%matplotlib inline"
   ]
  },
  {
   "cell_type": "code",
   "execution_count": null,
   "metadata": {},
   "outputs": [],
   "source": [
    "a = np.array([1, 2, 3])\n",
    "print('a is ', a)\n",
    "a[2] = 4\n",
    "print('Set the 2nd element to 4')\n",
    "print('Modified a is:')\n",
    "print(a)\n",
    "print('---')\n",
    "b = np.eye(3)\n",
    "b[1, 1] = 2\n",
    "print('Modified b is')\n",
    "print(b)\n",
    "print('The first row of b is: ', b[0])\n",
    "print('The second element from the second row of b is ', b[1, 1])"
   ]
  },
  {
   "cell_type": "code",
   "execution_count": null,
   "metadata": {},
   "outputs": [],
   "source": [
    "vector = np.array([1, 2, 3, 4])\n",
    "print(f\"The first element is vector[0]: {vector[0]}\")\n",
    "matrix = np.array([[1, 2, 3], [4, 5, 6], [7, 8, 9]])\n",
    "print(f\"The second row, third column element value is matrix[1, 2]: {matrix[1, 2]}\")"
   ]
  },
  {
   "cell_type": "markdown",
   "metadata": {},
   "source": [
    "Notes:\n",
    "- Putem accesa numpy array normal. Daca dimensiunea este (number1, number2, number3) accesam (pentru citire si scriere) print \"array[index1, index2, index3]\". index1 se refera la number1, index2 se refera la number2, index3 se refera la number3."
   ]
  },
  {
   "cell_type": "code",
   "execution_count": null,
   "metadata": {},
   "outputs": [],
   "source": [
    "a = np.arange(1, 10, 1)\n",
    "[1, 2, 3, 4, ..., 9]\n",
    "print('a is \\n', a)\n",
    "print('a[3:6] is \\n', a[3:6])\n",
    "print('a[3:] is \\n', a[3:])\n",
    "print('a[:3] is \\n', a[:3])\n",
    "print('a[4:-1] is \\n', a[4:-1])"
   ]
  },
  {
   "cell_type": "code",
   "execution_count": null,
   "metadata": {},
   "outputs": [],
   "source": [
    "numere_pare_de_la_2_la_10 = np.arange(2, 11, 2)\n",
    "print(f\"numere_pare_de_la_2_la_10: {numere_pare_de_la_2_la_10}\")\n",
    "primele_3_numere_pare = numere_pare_de_la_2_la_10[:3]\n",
    "print(f\"primele_3_numere_pare: {primele_3_numere_pare}\")\n",
    "fara_primul_numar_par = numere_pare_de_la_2_la_10[1:]\n",
    "print(f\"fara_primul_numar_par: {fara_primul_numar_par}\")\n",
    "ultimele_2_numere_pare = numere_pare_de_la_2_la_10[-2:]\n",
    "print(f\"ultimele_2_numere_pare: {ultimele_2_numere_pare}\")"
   ]
  },
  {
   "cell_type": "markdown",
   "metadata": {},
   "source": [
    "Notes:\n",
    "- np.arrange - face un array ca un fel de progresie aritmetica. Ne lasa sa specificam inceputul si finalul (nu e inclus), si numarul de elemente peste care vom sari\n",
    "- [1:] -> Va lua toate elementele de la primul pana la ultimul\n",
    "- [:1] -> Va lua toate elementele pana la primul\n",
    "- [-2:] -> Va lua de la penultimul element (al doilea de la dreapta la stanga), pana la ultimul"
   ]
  },
  {
   "cell_type": "code",
   "execution_count": null,
   "metadata": {},
   "outputs": [],
   "source": [
    "a = np.array([[1,2,3,4], [5,6,7,8], [9,10,11,12]])\n",
    "print('a: ', a)\n",
    "r = a[:1,:]\n",
    "print('row1:',  r)\n",
    "print('a[0][0]: ', a[0, 0])\n",
    "print('r[0][0]: ', r[0, 0])\n",
    "print('r[0, 0] = 100')\n",
    "r[0, 0] = 100\n",
    "print('row1:',  r)\n",
    "print('a[0][0]: ', a[0, 0])\n",
    "print('r[0][0]: ', r[0, 0])"
   ]
  },
  {
   "cell_type": "code",
   "execution_count": null,
   "metadata": {},
   "outputs": [],
   "source": [
    "matrix = np.array([[1, 2, 3], [4, 5, 6], [7, 8, 9]])\n",
    "fara_prima_linie = matrix[1:, :]\n",
    "print(f\"fara_prima_linie:\\n {fara_prima_linie}\\n\")\n",
    "fara_ultima_linie = matrix[:-1, :]\n",
    "print(f\"fara_ultima_linie:\\n {fara_ultima_linie}\\n\")\n",
    "fara_prima_coloana = matrix[:, 1:]\n",
    "print(f\"fara_prima_coloana:\\n {fara_prima_coloana}\\n\")\n",
    "fara_ultima_coloana = matrix[:, :-1]\n",
    "print(f\"fara_ultima_coloana:\\n {fara_ultima_coloana}\\n\")"
   ]
  },
  {
   "cell_type": "markdown",
   "metadata": {},
   "source": [
    "Notes:\n",
    "- Slice-ul de la punctul anterior se poate aplica pe fiecare dimensiune, rezultatul va avea alta dimensiune"
   ]
  },
  {
   "cell_type": "code",
   "execution_count": null,
   "metadata": {},
   "outputs": [],
   "source": [
    "a = np.array(np.arange(0, 6, 1))\n",
    "indices = [0, 2, 4]\n",
    "b = a[indices]\n",
    "print('original array: \\n', a)\n",
    "print('The elements in a from the indices', indices, 'are: \\n', b)"
   ]
  },
  {
   "cell_type": "code",
   "execution_count": null,
   "metadata": {},
   "outputs": [],
   "source": [
    "vector = np.array([1, 2, 3, 4, 5, 6])\n",
    "indices = [0, 1, 3]\n",
    "print (f\"vector{indices}: {vector[indices]}\")"
   ]
  },
  {
   "cell_type": "markdown",
   "metadata": {},
   "source": [
    "Notes:\n",
    "- Putem accesa subsiruri al unui array prin indici: vector[0, 1] va lua primul si al doilea element din sir"
   ]
  },
  {
   "cell_type": "code",
   "execution_count": null,
   "metadata": {},
   "outputs": [],
   "source": [
    "a = np.array([[1,2,3,4], [5,6,7,8], [9,10,11,12]])\n",
    "indices = [[0, 1, 2], [2, 1, 0]]\n",
    "b = a[tuple(indices)]\n",
    "print('original array: \\n', a)\n",
    "print('The elements in the array at indices', indices, 'are: \\n', b)\n",
    "print('---')\n",
    "print(b)\n",
    "b[0] = 100\n",
    "print('b[0] = 100')\n",
    "print('a = ', a)\n",
    "print('b = ', b)"
   ]
  },
  {
   "cell_type": "code",
   "execution_count": null,
   "metadata": {},
   "outputs": [],
   "source": [
    "matrix = np.array([[1, 2, 3], [4, 5, 6], [7, 8, 9]])\n",
    "linii_selectate = [0, 1, 2]\n",
    "coloane_selectate = [0, 1, 2]\n",
    "indici_diagonala = tuple([linii_selectate, coloane_selectate])\n",
    "print(f\"matrix[indici_diagonala]:\\n {matrix[indici_diagonala]}\")\n",
    "linii_selectate = [0, 0, 0]\n",
    "coloane_selectate = [0, 1, 2]\n",
    "indici_prima_linie = tuple([linii_selectate, coloane_selectate])\n",
    "print(f\"matrix[indici_prima_linie]:\\n {matrix[indici_prima_linie]}\")\n",
    "linii_selectate = [0, 1, 2]\n",
    "coloane_selectate = [0, 0, 0]\n",
    "indici_prima_coloana = tuple([linii_selectate, coloane_selectate])\n",
    "print(f\"matrix[indici_prima_coloana]:\\n {matrix[indici_prima_coloana]}\")"
   ]
  },
  {
   "cell_type": "markdown",
   "metadata": {},
   "source": [
    "Notes:\n",
    "- Asta e partea extinsa e sectiunii trecute, unde am vazut cum putem sa selectam niste elemente intr-un vector. Pentru mai multe dimensiuni\n",
    "de exemplu 2, primul array va insemna cum selectam liniile corespunzator, si al doilea array, cum selectam coloanele corespunzator. Elementele\n",
    "corespunzatoare vor fi alese astfel: [[linie1, linie2, linie3], [coloana1, coloana2, coloana3]]: [[linie1, coloana1], [linie2, coloana2], [linie3, coloana3]]"
   ]
  },
  {
   "cell_type": "code",
   "execution_count": null,
   "metadata": {},
   "outputs": [],
   "source": [
    "\n",
    "print('More array indexing examples: ')\n",
    "b = a[[0, 0], [1, 1]]\n",
    "print('b = a[[0, 0], [1, 1]] =', b)\n",
    "b = [a[0, 1], a[0, 1]]\n",
    "print('b = [a[0, 1], a[0, 1]] =', b)\n",
    "print('---')\n",
    "print('Using array indexing to modify an element from each row in a matrix: ')\n",
    "ind = np.array([1, 0, 1])\n",
    "a[np.arange(3), ind] = -100\n",
    "print(a)"
   ]
  },
  {
   "cell_type": "code",
   "execution_count": null,
   "metadata": {},
   "outputs": [],
   "source": [
    "matrix = np.array([[1, 2, 3], [4, 5, 6], [7, 8, 9]])\n",
    "linii_selectate = [0, 1, 2]\n",
    "coloane_selectate = [0, 1, 2]\n",
    "indici_diagonala = tuple([linii_selectate, coloane_selectate])\n",
    "matrix[indici_diagonala] = 100\n",
    "print(f\"matrix[indici_diagonala] = 100:\\n {matrix}\")"
   ]
  },
  {
   "cell_type": "markdown",
   "metadata": {},
   "source": [
    "Notes:\n",
    "- Putem folosii noi vectori pentru a atribui valori unor elemente dintr-un array."
   ]
  },
  {
   "cell_type": "code",
   "execution_count": null,
   "metadata": {},
   "outputs": [],
   "source": [
    "a = np.array([[1,2,3,4], [5,6,7,8], [9,10,11,12]])\n",
    "last_row_indexing = a[-1, :]\n",
    "last_row_slicing = a[2:3, :]\n",
    "print('Last row obtained with array indexing:\\n',\n",
    "      last_row_indexing, 'has shape:', last_row_indexing.shape)\n",
    "print('Last row obtained with array slicing:\\n',\n",
    "      last_row_slicing, 'has shape:', last_row_slicing.shape)"
   ]
  },
  {
   "cell_type": "code",
   "execution_count": null,
   "metadata": {},
   "outputs": [],
   "source": [
    "matrix = np.array([[1, 2, 3], [4, 5, 6], [7, 8, 9]])\n",
    "primele_2_elemente_din_matrice = matrix[:1, [0, 1]]\n",
    "print(f\"primele_doua_elemente_din_matrice:\\n {primele_2_elemente_din_matrice}\\n\")\n",
    "primul_si_ultimul_element_de_pe_randul_din_mijloc = matrix[1, [0, 2]]\n",
    "print(f\"primul_si_ultimul_element_de_pe_randul_din_mijloc:\\n {primul_si_ultimul_element_de_pe_randul_din_mijloc}\\n\")"
   ]
  },
  {
   "cell_type": "markdown",
   "metadata": {},
   "source": [
    "Notes:\n",
    "- Putem combina indicii cu slicing (ex: 1)"
   ]
  },
  {
   "cell_type": "code",
   "execution_count": null,
   "metadata": {},
   "outputs": [],
   "source": [
    "a = np.array([11, 12, 13, 14])\n",
    "indices = (a > 12)\n",
    "print('a>12:\\n', indices)\n",
    "print('The numbers larger than 12 in a are:\\n', a[indices])"
   ]
  },
  {
   "cell_type": "code",
   "execution_count": null,
   "metadata": {},
   "outputs": [],
   "source": [
    "vector = np.array([1, 2, 3, 4, 5, 6])\n",
    "toate_elementele_mai_mici_decat_3 = vector[vector < 3]\n",
    "print(f\"toate_elementele_mai_mici_decat_3:\\n {toate_elementele_mai_mici_decat_3}\\n\")\n",
    "toate_elementele_mai_mari_sau_egale_cu_3 = vector[vector >= 3]\n",
    "print(f\"toate_elementele_mai_mari_sau_egale_cu_3:\\n {toate_elementele_mai_mari_sau_egale_cu_3}\\n\")"
   ]
  },
  {
   "cell_type": "code",
   "execution_count": null,
   "metadata": {},
   "outputs": [],
   "source": [
    "matrix = np.array([[1, 2, 3], [4, 5, 6], [7, 8, 9]])\n",
    "toate_elementele_mai_mici_decat_6 = matrix[matrix < 6]\n",
    "print(f\"toate_elementele_mai_mici_decat_6:\\n {toate_elementele_mai_mici_decat_6}\\n\")"
   ]
  },
  {
   "cell_type": "markdown",
   "metadata": {},
   "source": [
    "Notes:\n",
    "- array[conditie] va returna elementele care respecta conditia dintre paranteze"
   ]
  }
 ],
 "metadata": {
  "kernelspec": {
   "display_name": "Python 3",
   "language": "python",
   "name": "python3"
  },
  "language_info": {
   "codemirror_mode": {
    "name": "ipython",
    "version": 3
   },
   "file_extension": ".py",
   "mimetype": "text/x-python",
   "name": "python",
   "nbconvert_exporter": "python",
   "pygments_lexer": "ipython3",
   "version": "3.10.12"
  }
 },
 "nbformat": 4,
 "nbformat_minor": 2
}
