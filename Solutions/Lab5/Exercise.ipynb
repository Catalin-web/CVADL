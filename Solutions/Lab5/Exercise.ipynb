{
 "cells": [
  {
   "cell_type": "code",
   "execution_count": 1,
   "metadata": {},
   "outputs": [],
   "source": [
    "import os\n",
    "import sys\n",
    "import cv2\n",
    "import wget\n",
    "import glob\n",
    "import wandb\n",
    "import shutil\n",
    "import numpy as np\n",
    "import numpy.testing as npt\n",
    "import torch\n",
    "import torchvision\n",
    "import matplotlib.pyplot as plt\n",
    "from torchvision.transforms import v2\n",
    "from torchvision.datasets import VisionDataset\n",
    "from torch.utils.data import Subset, DataLoader\n",
    "from torchvision.datasets.utils import check_integrity, download_and_extract_archive, download_url, verify_str_arg\n",
    "from typing import Any, Callable, Dict, List, Optional, Tuple, Union\n",
    "import shutil\n",
    "from PIL import Image,ImageFile\n",
    "import glob\n",
    "import os\n",
    "import sys\n",
    "import torch\n",
    "from torch import Tensor\n",
    "import torch.testing as torch_testing\n",
    "from torch.utils.data import Subset, DataLoader\n",
    "from torch.utils.data.sampler import SubsetRandomSampler\n",
    "import torch.nn as nn\n",
    "import torch.nn.functional as F\n",
    "import torchvision.transforms.functional as TF\n",
    "import torchvision\n",
    "import torchvision.transforms as transforms\n",
    "import numpy as np\n",
    "import numpy.testing as npt\n",
    "from functools import reduce\n",
    "import matplotlib.pyplot as plt\n",
    "import os\n",
    "import pickle\n",
    "import cv2\n",
    "from dataclasses import dataclass\n",
    "import tqdm\n",
    "from sklearn.model_selection import train_test_split\n",
    "from torch.utils.data.dataloader import default_collate\n",
    "import pprofile\n",
    "from torchvision.models import resnet18, ResNet18_Weights\n",
    "from sklearn.metrics import confusion_matrix\n",
    "import seaborn as sn\n",
    "import pandas as pd\n",
    "import torchmetrics\n",
    "import wandb"
   ]
  },
  {
   "cell_type": "code",
   "execution_count": 2,
   "metadata": {},
   "outputs": [],
   "source": [
    "# torch.multiprocessing.set_start_method('spawn')\n",
    "device = torch.device('cuda' if torch.cuda.is_available() else 'cpu')\n",
    "device = torch.device('cpu')"
   ]
  },
  {
   "cell_type": "markdown",
   "metadata": {},
   "source": [
    "`segmentation mini-project` CNN architecture, training loop, perform hyperparameter search and evaluate the best segmentation module. Inspired by the [U-Net](https://arxiv.org/abs/1505.04597) architecture."
   ]
  },
  {
   "cell_type": "code",
   "execution_count": 3,
   "metadata": {},
   "outputs": [
    {
     "name": "stdout",
     "output_type": "stream",
     "text": [
      "in shape:  torch.Size([32, 32, 128, 128])  upsample with filter size  4 ; stride  2  -> out shape  torch.Size([32, 16, 258, 258])\n",
      "in shape:  torch.Size([32, 32, 128, 128])  upsample with filter size  4 ; stride  4  -> out shape  torch.Size([32, 16, 512, 512])\n",
      "in shape:  torch.Size([32, 32, 128, 128])  upsample with filter size  4 ; stride  8  -> out shape  torch.Size([32, 16, 1020, 1020])\n"
     ]
    }
   ],
   "source": [
    "def upsample_block(x, number_of_filters, filter_size, stride = 2):\n",
    "    output_channels = x.shape[1] // 2\n",
    "    x = torch.nn.ConvTranspose2d(in_channels=x.shape[1], out_channels=output_channels, kernel_size=filter_size, stride=stride)(x)\n",
    "    x = torch.nn.BatchNorm2d(x.shape[1])(x)\n",
    "    x = torch.nn.ReLU()(x)\n",
    "    return x\n",
    "\n",
    "in_layer = torch.rand((32, 32, 128, 128))\n",
    "\n",
    "filter_size = 4\n",
    "number_of_filters = 16\n",
    "\n",
    "expected_shapes = [\n",
    "    (32, 16, 258, 258),\n",
    "    (32, 16, 512, 512),\n",
    "    (32, 16, 1020, 1020)\n",
    "]\n",
    "strides = [2, 4, 8]\n",
    "\n",
    "for expected_shape, stride in zip(expected_shapes, strides):\n",
    "    x = upsample_block(in_layer, number_of_filters, filter_size, stride)\n",
    "    print('in shape: ', in_layer.shape, ' upsample with filter size ', filter_size, '; stride ', stride, ' -> out shape ', x.shape)\n",
    "    npt.assert_array_equal(x.shape, expected_shape)"
   ]
  },
  {
   "cell_type": "markdown",
   "metadata": {},
   "source": [
    "`down-sampling` class Encoder. Each block: 2 convolution layers with 3 filter_size and a non liniar ReLu. Blocks separated by max pooling with size of 2 and stride of 2.\n",
    "\n",
    "Parameters:\n",
    "`channel_numbers`: list of integers, the number of channels used for each encoder block.\n",
    "\n",
    "`retrun`: list of tensors, the output of each encoder block.\n",
    "\n",
    "Diagram used in tests:\n",
    "<img src=\"https://miro.medium.com/max/1400/1*J3t2b65ufsl1x6caf6GiBA.png\" style=\"width:40vw; margin-left:20vw\"/>"
   ]
  },
  {
   "cell_type": "code",
   "execution_count": 4,
   "metadata": {},
   "outputs": [
    {
     "name": "stdout",
     "output_type": "stream",
     "text": [
      "in shape:  torch.Size([1, 64, 512, 512])  out shape  torch.Size([1, 64, 512, 512])\n"
     ]
    }
   ],
   "source": [
    "class DoubleConvolution(nn.Module):\n",
    "    def __init__(self, in_channels: int, out_channels: int):\n",
    "        super(DoubleConvolution, self).__init__()\n",
    "        self.conv = nn.Sequential(\n",
    "            nn.Conv2d(in_channels, out_channels, kernel_size=3, padding=1, bias=False),\n",
    "            nn.BatchNorm2d(out_channels),\n",
    "            nn.ReLU(inplace=True),\n",
    "            nn.Conv2d(out_channels, out_channels, kernel_size=3, padding=1, bias=False),\n",
    "            nn.BatchNorm2d(out_channels),\n",
    "            nn.ReLU(inplace=True)\n",
    "        )\n",
    "    \n",
    "    def forward(self, x: Tensor) -> Tensor:\n",
    "        return self.conv(x)\n",
    "\n",
    "in_layer = torch.rand((1, 1, 512, 512)) # 1 number of images, 1 channel, 572x572 pixels\n",
    "expected_shape = (1, 64, 512, 512)\n",
    "model = DoubleConvolution(1, 64)\n",
    "in_layer = model(in_layer)\n",
    "print('in shape: ', in_layer.shape, ' out shape ', in_layer.shape)\n",
    "npt.assert_array_equal(in_layer.shape, expected_shape)"
   ]
  },
  {
   "cell_type": "code",
   "execution_count": 5,
   "metadata": {},
   "outputs": [
    {
     "name": "stdout",
     "output_type": "stream",
     "text": [
      "in shape:  torch.Size([1, 1, 512, 512])  out shape  torch.Size([1, 512, 64, 64])\n"
     ]
    }
   ],
   "source": [
    "class DownSamplingNeuralNetwork(nn.Module): # Encoder\n",
    "    def __init__(self, in_channels=1, features=[64,128,256,512]):\n",
    "        super(DownSamplingNeuralNetwork, self).__init__()\n",
    "        self.downs = nn.ModuleList()\n",
    "        self.pool = nn.MaxPool2d(kernel_size=2, stride=2)\n",
    "        for feature in features:\n",
    "            self.downs.append(DoubleConvolution(in_channels, feature))\n",
    "            in_channels = feature\n",
    "\n",
    "    def forward(self, x):\n",
    "        skips = []\n",
    "        for down in self.downs:\n",
    "            x = down(x)\n",
    "            skips.append(x)\n",
    "            x = self.pool(x)\n",
    "        return skips, x\n",
    "\n",
    "# Test the down sampling network\n",
    "in_layer = torch.rand((1, 1, 512, 512)) # 1 number of images, 1 channel, 572x572 pixels\n",
    "expected_shape = (1, 512, 64, 64)\n",
    "model = DownSamplingNeuralNetwork(in_channels=1,features=[64,128,256,512])\n",
    "skips, _ = model(in_layer)\n",
    "print('in shape: ', in_layer.shape, ' out shape ', skips[-1].shape)\n",
    "npt.assert_equal(skips[-1].shape, expected_shape)"
   ]
  },
  {
   "cell_type": "markdown",
   "metadata": {},
   "source": [
    "`up-sapling` class Decoder.\n",
    "\n",
    "Constructor parameters:`depth`: the depth of each decoder module\n",
    "\n",
    "Forward parameters:\n",
    "\n",
    "`x`: the input feature map\n",
    "`encoder_activations`: a list of activations from the encoder (for the skip connections)\n",
    "\n",
    "`Forward function`:\n",
    "\n",
    "1. up-sampling operation normalization and ReLU\n",
    "2. crop the activation map (use `CenterCrop`): to be the same size as the decoder block\n",
    "3. concatenate these two activation maps (on the channel dimension, 1)\n",
    "4. apply an encoder block on the result\n",
    "5. pass the result to the next decoder block"
   ]
  },
  {
   "cell_type": "code",
   "execution_count": 6,
   "metadata": {},
   "outputs": [
    {
     "name": "stderr",
     "output_type": "stream",
     "text": [
      "/usr/local/lib/python3.10/dist-packages/torchvision/transforms/functional.py:1603: UserWarning: The default value of the antialias parameter of all the resizing transforms (Resize(), RandomResizedCrop(), etc.) will change from None to True in v0.17, in order to be consistent across the PIL and Tensor backends. To suppress this warning, directly pass antialias=True (recommended, future default), antialias=None (current default, which means False for Tensors and True for PIL), or antialias=False (only works on Tensors - PIL will still use antialiasing). This also applies if you are using the inference transforms from the models weights: update the call to weights.transforms(antialias=True).\n",
      "  warnings.warn(\n"
     ]
    },
    {
     "name": "stdout",
     "output_type": "stream",
     "text": [
      "in shape:  torch.Size([1, 512, 64, 64])  out shape  torch.Size([1, 1, 512, 512])\n"
     ]
    }
   ],
   "source": [
    "class UpSamplingNeuralNetwork(nn.Module):\n",
    "    def __init__(self, out_channels=1, features=[64,128,256,512]):\n",
    "        super(UpSamplingNeuralNetwork, self).__init__()\n",
    "        self.ups = nn.ModuleList()\n",
    "        self.pool = nn.MaxPool2d(kernel_size=2, stride=2)\n",
    "        \n",
    "        # Up part of UNET\n",
    "        for feature in reversed(features):\n",
    "            self.ups.append(\n",
    "                nn.ConvTranspose2d(feature*2, feature, kernel_size=2, stride=2)\n",
    "            )\n",
    "            self.ups.append(DoubleConvolution(feature*2, feature))\n",
    "        \n",
    "        self.bottleneck = DoubleConvolution(features[-1], features[-1]*2)\n",
    "        self.final_conv = nn.Conv2d(features[0], out_channels, kernel_size=1)\n",
    "        self.softmax = nn.Softmax(dim=1)\n",
    "    \n",
    "    def forward(self, x: Tensor, skip_connections) -> Tensor:\n",
    "        # x = self.pool(x)\n",
    "        x = self.bottleneck(x)\n",
    "        skip_connections = skip_connections[::-1]\n",
    "        for idx in range(0, len(self.ups), 2):\n",
    "            x = self.ups[idx](x)\n",
    "            skip_connection = skip_connections[idx//2]\n",
    "            if x.shape != skip_connection.shape:\n",
    "                x = TF.resize(x, size=skip_connection.shape[2:])\n",
    "                # Use CenterCrop\n",
    "                # x = TF.center_crop(x, output_size=skip_connection.shape[2:])\n",
    "                \n",
    "            concat_skip = torch.cat((skip_connection, x), dim=1)\n",
    "            x = self.ups[idx+1](concat_skip)\n",
    "        return self.softmax(self.final_conv(x))\n",
    "\n",
    "in_layer = torch.rand((1, 512, 64, 64))\n",
    "expected_shape = (1, 1, 512, 512)\n",
    "model = UpSamplingNeuralNetwork()\n",
    "output = model(in_layer, skips)\n",
    "print('in shape: ', in_layer.shape, ' out shape ', output.shape)\n",
    "npt.assert_equal(output.shape, expected_shape)"
   ]
  },
  {
   "cell_type": "code",
   "execution_count": 7,
   "metadata": {},
   "outputs": [
    {
     "name": "stdout",
     "output_type": "stream",
     "text": [
      "torch.Size([1, 1, 512, 512])\n",
      "torch.Size([1, 1, 512, 512])\n"
     ]
    }
   ],
   "source": [
    "class UNET_BY_UP_AND_DOWN(nn.Module):\n",
    "    def __init__(self, in_channels=1, out_channels=1, features=[64,128,256,512]):\n",
    "        super(UNET_BY_UP_AND_DOWN, self).__init__()\n",
    "        self.downs = DownSamplingNeuralNetwork(in_channels, features)\n",
    "        self.ups = UpSamplingNeuralNetwork(out_channels, features)\n",
    "    \n",
    "    def forward(self, x):\n",
    "        skips, x = self.downs(x)\n",
    "        return self.ups(x, skips)\n",
    "\n",
    "in_layer = torch.rand((1, 1, 512, 512))\n",
    "model = UNET_BY_UP_AND_DOWN(in_channels=1, out_channels=1)\n",
    "output = model(in_layer)\n",
    "print(output.shape)\n",
    "print(in_layer.shape)\n",
    "assert output.shape == in_layer.shape"
   ]
  },
  {
   "cell_type": "markdown",
   "metadata": {},
   "source": [
    "`UNET` single class - simpler approach"
   ]
  },
  {
   "cell_type": "code",
   "execution_count": 8,
   "metadata": {},
   "outputs": [
    {
     "name": "stdout",
     "output_type": "stream",
     "text": [
      "torch.Size([1, 3, 128, 128])\n",
      "torch.Size([1, 3, 128, 128])\n"
     ]
    }
   ],
   "source": [
    "class UNET(nn.Module):\n",
    "    def __init__(self, in_channels=1, out_channels=1, features=[64,128,256,512]):\n",
    "        super(UNET, self).__init__()\n",
    "        self.downs = nn.ModuleList()\n",
    "        self.ups = nn.ModuleList()\n",
    "        self.pool = nn.MaxPool2d(kernel_size=2, stride=2)\n",
    "        \n",
    "        # Down part of UNET\n",
    "        for feature in features:\n",
    "            self.downs.append(DoubleConvolution(in_channels, feature))\n",
    "            in_channels = feature\n",
    "        \n",
    "        # Up part of UNET\n",
    "        for feature in reversed(features):\n",
    "            self.ups.append(\n",
    "                nn.ConvTranspose2d(feature*2, feature, kernel_size=2, stride=2)\n",
    "            )\n",
    "            self.ups.append(DoubleConvolution(feature*2, feature))\n",
    "        \n",
    "        self.bottleneck = DoubleConvolution(features[-1], features[-1]*2)\n",
    "        self.final_conv = nn.Conv2d(features[0], out_channels, kernel_size=1)\n",
    "    \n",
    "    def forward(self, x: Tensor) -> Tensor:\n",
    "        skip_connections = []\n",
    "        \n",
    "        for down in self.downs:\n",
    "            x = down(x)\n",
    "            skip_connections.append(x)\n",
    "            x = self.pool(x)\n",
    "        \n",
    "        x = self.bottleneck(x)\n",
    "        skip_connections = skip_connections[::-1]\n",
    "        \n",
    "        for idx in range(0, len(self.ups), 2):\n",
    "            x = self.ups[idx](x)\n",
    "            skip_connection = skip_connections[idx//2]\n",
    "\n",
    "            if x.shape != skip_connection.shape:\n",
    "                x = TF.resize(x, size=skip_connection.shape[2:])\n",
    "                # Use CenterCrop\n",
    "                # x = TF.center_crop(x, output_size=skip_connection.shape[2:])\n",
    "\n",
    "            concat_skip = torch.cat((skip_connection, x), dim=1)\n",
    "            x = self.ups[idx+1](concat_skip)\n",
    "        \n",
    "        return self.final_conv(x)\n",
    "\n",
    "in_layer = torch.rand((1, 3, 128, 128))\n",
    "model = UNET(in_channels=3, out_channels=3)\n",
    "output = model(in_layer)\n",
    "print(output.shape)\n",
    "print(in_layer.shape)\n",
    "assert output.shape == in_layer.shape"
   ]
  },
  {
   "cell_type": "markdown",
   "metadata": {},
   "source": [
    "`pre-trained` model: pre-trained weights on `ImageNet` and \"freeze these weights during the training process (set `required_grad=False` for those tensors).\n",
    "\n",
    "`Problem`: We neet to create the skip connections required by the U-Net architecture we need access to the feature maps of some intermediate layers in the network and these are not accessible by default."
   ]
  },
  {
   "cell_type": "markdown",
   "metadata": {},
   "source": [
    "Finally, to have matching shapes between the network output (segmentation map) and the ground truth data, resize the segmentation map using ``torch.nn.functional.interpolate``: Not necessary, as we have the same size of the input and output."
   ]
  },
  {
   "cell_type": "markdown",
   "metadata": {},
   "source": [
    "`Training`\n",
    "\n",
    "- Get a batch of training data from the DataLoader\n",
    "- Zero out the optimizer’s gradients\n",
    "- Perform the forward pass\n",
    "- Calculate and store the loss and the accuracy based on the predictions and the labels from the dataset\n",
    "- Tell the optimizer to perform one learning step - that is, adjust the model’s learning weights based on the observed gradients for this batch, according to the optimization algorithm we chose\n",
    "- Evaluate the model on the validation/test set. Store the loss and the accuracy on the validation/test set."
   ]
  },
  {
   "cell_type": "markdown",
   "metadata": {},
   "source": [
    "`Dataset`: We need a train and a test DataLoader and you must first define the loss function cross entropy and select an optimizer."
   ]
  },
  {
   "cell_type": "code",
   "execution_count": 9,
   "metadata": {},
   "outputs": [],
   "source": [
    "# Class arhchitecture inspired by https://pytorch.org/vision/main/_modules/torchvision/datasets/oxford_iiit_pet.html\n",
    "\n",
    "class _LFW(torch.utils.data.Dataset):\n",
    "    files = {\n",
    "        \"people_funneled\": (\"http://vis-www.cs.umass.edu/lfw/lfw-funneled.tgz\", \"images.tgz\", \"1b42dfed7d15c9b2dd63d5e5840c86ad\"),\n",
    "        \"segmentation_mask\": (\"https://vis-www.cs.umass.edu/lfw/part_labels/parts_lfw_funneled_gt_images.tgz\", \"segmentations.tgz\", \"3e7e26e801c3081d651c8c2ef3c45cfc\"),\n",
    "        \"train\": (\"https://vis-www.cs.umass.edu/lfw/part_labels/parts_train.txt\", \"train.txt\", None),\n",
    "        \"test\": (\"https://vis-www.cs.umass.edu/lfw/part_labels/parts_test.txt\", \"test.txt\", None),\n",
    "    }\n",
    "    \n",
    "    def __init__(self, base_folder: str, transform, target_transforms, download: bool=True):\n",
    "        super().__init__()\n",
    "        self._base_folder = base_folder\n",
    "        self.transform = transform\n",
    "        self.target_transforms = target_transforms\n",
    "        self.data: List[Any] = []\n",
    "        self.split = None\n",
    "        self.images_dir = os.path.join(self._base_folder, \"lfw_funneled\")\n",
    "        self.segmentations_dir = os.path.join(self._base_folder, \"parts_lfw_funneled_gt_images\")\n",
    "        \n",
    "        if download:\n",
    "            self._download()\n",
    "        if not self._check_integrity(): # Optional, just checking if everything is ok with the data\n",
    "            raise RuntimeError(\"Data not found or corrupted.\")\n",
    "    \n",
    "    def _load_image(self, path: str):\n",
    "        with Image.open(path) as image:\n",
    "            return image.convert(\"RGB\")\n",
    "\n",
    "    def _load_segmentation(self, path: str):\n",
    "        with Image.open(rf\"{path}\") as image:\n",
    "            return image.convert(\"RGB\")\n",
    "    \n",
    "    def __len__(self) -> int:\n",
    "        return len(self.data)\n",
    "\n",
    "    def __getitem__(self, index: int) -> Tuple[Any, Any]:\n",
    "        image = self._load_image(self.data[index][0])\n",
    "        segmentation = self._load_segmentation(self.data[index][1])\n",
    "        if self.transform is not None:\n",
    "            image = self.transform(image)\n",
    "        if self.target_transforms is not None:\n",
    "            segmentation = self.target_transforms(segmentation)\n",
    "        return image, segmentation\n",
    "    \n",
    "    def _check_integrity(self) -> bool:\n",
    "        ok = True\n",
    "        for file in self.files.values():\n",
    "            if file[2] == None:\n",
    "                ok&= os.path.exists(os.path.join(self._base_folder, file[1]))\n",
    "                continue\n",
    "            ok &= check_integrity(os.path.join(self._base_folder, file[1]), file[2])\n",
    "        if not ok:\n",
    "            return False\n",
    "        return True\n",
    "    \n",
    "    def _download(self):\n",
    "        if self._check_integrity():\n",
    "            print(\"Dataset already downloaded and verified\")\n",
    "            return\n",
    "\n",
    "        for url, filename, md5 in self.files.values():\n",
    "            if md5 == None:\n",
    "                download_url(url, root=self._base_folder, filename=filename, md5=md5)\n",
    "                continue\n",
    "            if not check_integrity(os.path.join(self._base_folder, filename), md5):\n",
    "                download_and_extract_archive(url, download_root=self._base_folder, filename=filename, md5=md5)\n",
    "\n",
    "class LFWDataset(_LFW):\n",
    "    def __init__(self, base_folder: str, transform, target_transforms, download: bool=True, split=\"train\"):\n",
    "        super().__init__(base_folder, transform, target_transforms, download)\n",
    "        self._image_plus_segmentation_path = os.path.join(self._base_folder, f\"{split}.txt\")\n",
    "        self._load_data()\n",
    "        self.transforms = transform\n",
    "    \n",
    "    def _load_data(self):\n",
    "        self.data = [] # These are just the paths to the images and segmentations\n",
    "        with open(self._image_plus_segmentation_path, \"r\") as f:\n",
    "            for line in f.readlines():\n",
    "                name, index = line.strip().split(\" \")\n",
    "                if len(index) != 4:\n",
    "                    index = \"0\"*(4-len(index)) + index\n",
    "                name_image = os.path.join(self.images_dir, name, f\"{name}_{index}.jpg\")\n",
    "                segmentation_image = os.path.join(self.segmentations_dir, f\"{name}_{index}.ppm\")\n",
    "                if os.path.exists(name_image) and os.path.exists(segmentation_image):\n",
    "                    self.data.append((name_image, segmentation_image))"
   ]
  },
  {
   "cell_type": "code",
   "execution_count": 10,
   "metadata": {},
   "outputs": [
    {
     "name": "stderr",
     "output_type": "stream",
     "text": [
      "/usr/local/lib/python3.10/dist-packages/torchvision/transforms/v2/_deprecated.py:43: UserWarning: The transform `ToTensor()` is deprecated and will be removed in a future release. Instead, please use `v2.Compose([v2.ToImage(), v2.ToDtype(torch.float32, scale=True)])`.\n",
      "  warnings.warn(\n"
     ]
    },
    {
     "name": "stdout",
     "output_type": "stream",
     "text": [
      "Dataset already downloaded and verified\n",
      "Dataset already downloaded and verified\n"
     ]
    }
   ],
   "source": [
    "transforms = v2.Compose([v2.Resize(128), v2.ToTensor()])\n",
    "target_transforms = v2.Compose([v2.Resize(128), v2.ToTensor(), v2.Lambda(lambda x: x.argmax(dim=0))]) # , v2.Lambda(lambda x: x.bool())\n",
    "train_dataset = LFWDataset(base_folder='./data', split=\"train\", download=True, transform=transforms, target_transforms=target_transforms)\n",
    "validation_dataset = LFWDataset(base_folder='./data', split=\"test\", download=True, transform=transforms, target_transforms=target_transforms)"
   ]
  },
  {
   "cell_type": "markdown",
   "metadata": {},
   "source": [
    "`RamDataset`"
   ]
  },
  {
   "cell_type": "code",
   "execution_count": 11,
   "metadata": {},
   "outputs": [],
   "source": [
    "# code /root/.jupyter/jupyter_notebook_config.py\n",
    "# c.NotebookApp.max_buffer_size = 20000000000\n",
    "# 9GB RAM, Issue on github PPM takes lot of ram\n",
    "# Performance improvement, should be used only with small datasets, delete cell if you don't have enough RAM, should work OOTB\n",
    "class RamDataset(torch.utils.data.Dataset):\n",
    "    def __init__(self, dataset: LFWDataset):\n",
    "        data_loader = DataLoader(dataset, batch_size=len(dataset))\n",
    "        self._images, self._segmentations = next(iter(data_loader))\n",
    "    def __getitem__(self, index):\n",
    "        return self._images[index], self._segmentations[index]\n",
    "    def __len__(self):\n",
    "        return self._images.shape[0]\n",
    "\n",
    "train_dataset = RamDataset(train_dataset)\n",
    "validation_dataset = RamDataset(validation_dataset)"
   ]
  },
  {
   "cell_type": "code",
   "execution_count": 12,
   "metadata": {},
   "outputs": [
    {
     "name": "stdout",
     "output_type": "stream",
     "text": [
      "Number of samples in the train_dataset:  1500\n",
      "Shape of the first image: torch.Size([3, 128, 128]), dtype=torch.float32\n",
      "Shape of the segmentation of first image: torch.Size([128, 128]), dtype=torch.int64\n"
     ]
    },
    {
     "data": {
      "text/plain": [
       "Text(0.5, 1.0, 'Segmentation')"
      ]
     },
     "execution_count": 12,
     "metadata": {},
     "output_type": "execute_result"
    },
    {
     "data": {
      "image/png": "[encoded data removed]",
      "text/plain": [
       "<Figure size 432x288 with 2 Axes>"
      ]
     },
     "metadata": {
      "needs_background": "light"
     },
     "output_type": "display_data"
    }
   ],
   "source": [
    "# Simple validation to see that everything is alwright\n",
    "print(\"Number of samples in the train_dataset: \", len(train_dataset))\n",
    "print(f\"Shape of the first image: {train_dataset[0][0].shape}, dtype={train_dataset[0][0].dtype}\")\n",
    "print(f\"Shape of the segmentation of first image: {train_dataset[0][1].shape}, dtype={train_dataset[0][1].dtype}\")\n",
    "first_image = train_dataset[0][0].cpu().numpy().transpose(1, 2, 0)\n",
    "first_image_segmentation = F.one_hot(train_dataset[0][1]).float().cpu().numpy()\n",
    "plt.subplot(1, 2, 1).imshow(first_image)\n",
    "plt.title(f\"Original\")\n",
    "plt.subplot(1, 2, 2).imshow(first_image_segmentation)\n",
    "plt.title(f\"Segmentation\")"
   ]
  },
  {
   "cell_type": "markdown",
   "metadata": {},
   "source": [
    "`Dataloader`"
   ]
  },
  {
   "cell_type": "code",
   "execution_count": 13,
   "metadata": {},
   "outputs": [],
   "source": [
    "learning_rate = 1e-4 * 2\n",
    "weight_decay = 1e-4\n",
    "batch_size = 12\n",
    "number_of_epochs = 20"
   ]
  },
  {
   "cell_type": "code",
   "execution_count": 14,
   "metadata": {},
   "outputs": [],
   "source": [
    "training_loader, validation_loader = DataLoader(train_dataset, batch_size=batch_size, shuffle=False, pin_memory=True), DataLoader(validation_dataset, batch_size=batch_size, shuffle=False, pin_memory=True)"
   ]
  },
  {
   "cell_type": "markdown",
   "metadata": {},
   "source": [
    "`Actual training`: We will use the simpler implementation of the U-Net."
   ]
  },
  {
   "cell_type": "code",
   "execution_count": 15,
   "metadata": {},
   "outputs": [],
   "source": [
    "def train_one_epoch(loader, model, optimizer, loss_function, scheduler): # 1 epoch\n",
    "    for data, targets in tqdm.tqdm(loader):\n",
    "        data, targets = data.to(device), targets.to(device)\n",
    "        predictions = model(data)\n",
    "        loss = loss_function(predictions, targets)\n",
    "        \n",
    "        # backward\n",
    "        optimizer.zero_grad()\n",
    "        loss.backward()\n",
    "        optimizer.step()\n",
    "        \n",
    "        wandb.log({\"loss\": loss.item()})\n",
    "        # update tqdm loop\n",
    "    scheduler.step()"
   ]
  },
  {
   "cell_type": "markdown",
   "metadata": {},
   "source": [
    "`Saving & Loading` to resume training"
   ]
  },
  {
   "cell_type": "code",
   "execution_count": 16,
   "metadata": {},
   "outputs": [],
   "source": [
    "@dataclass\n",
    "class InputParameters:\n",
    "    model: nn.Module\n",
    "    optimizer: torch.optim.Optimizer\n",
    "    scheduler: torch.optim.lr_scheduler._LRScheduler\n",
    "\n",
    "def save_checkpoint(model, optimizer, scheduler, filename):\n",
    "    print(\"=> Saving checkpoint\")\n",
    "    input_parameters = InputParameters(model, optimizer, scheduler)\n",
    "    torch.save(input_parameters, filename)\n",
    "\n",
    "def load_checkpoint(filename):\n",
    "    print(\"=> Loading checkpoint\")\n",
    "    input_parameters = torch.load(filename)\n",
    "    return input_parameters.model, input_parameters.optimizer, input_parameters.scheduler\n",
    "\n",
    "class ModelCheckpoint:\n",
    "    def __init__(self):\n",
    "        self.best_model = None\n",
    "        self.best_metric = 0\n",
    "        self.best_epoch = 0\n",
    "\n",
    "    def __call__(self, model, optimizer,scheduler, epoch, metric_value):\n",
    "        if metric_value > self.best_metric:\n",
    "            self.best_metric = metric_value\n",
    "            self.best_model = model\n",
    "            self.best_epoch = epoch\n",
    "            #Save:\n",
    "            save_checkpoint(model, optimizer, scheduler, f\"./checkpoints/iou_{metric_value}.pth\")\n",
    "            print(f\"Saved checkpoint with iou={metric_value}\")\n",
    "        else:\n",
    "            print(f\"Did not save checkpoint with iou={metric_value}\")\n",
    "    \n",
    "    def write_artifact(self, path, model_path, metric_val):\n",
    "        artifact = wandb.Artifact(path, type='model', metadata={'metric': metric_val})\n",
    "        artifact.add_file(model_path)\n",
    "        wandb.run.log_artifact(artifact)"
   ]
  },
  {
   "cell_type": "markdown",
   "metadata": {},
   "source": [
    "- $n_{ij}$ - the total number of pixels classified to class\n",
    "j but actually belonging to class i; $i, j \\in 1, .., C$;\n",
    "- $t_i = \\sum_{j = 1}^{C} n_{ij}$ - the total number of pixels belonging to class $i$ (in the ground truth segmentation mask);\n",
    "- $C$ - the total number of classes in the segmentation problem.\n",
    "\n",
    "`Mean pixel accuracy`: is not that relevant for class imbalanced problems\n",
    "\\begin{equation}\n",
    "p_a = \\frac{1}{C} \\frac{\\sum_{i}^{C} n_{ii}}{\\sum_{i}^{C} t_i}\n",
    "\\end{equation}\n",
    "\n",
    "`Intersection over Union (IoU)`: The ideal value for this metric is 1; usually values lower than 0.6 indicate a very bad performance.\n",
    "\n",
    "\\begin{equation}\n",
    "mIoU = \\frac{1}{C} \\sum_{i = 1}^{C} \\frac{n_{ii}}{t_i - n_{ii} + \\sum_{j = 1}^{C} n_{ji}}\n",
    "\\end{equation}\n",
    "\n",
    "`Frequency Weighted Intersection over Union`: The frequency weighted over union metric is similar to mean IoU, but the values are weighted with the adequate frequencies of the pixels. The values of this metric lie in the interval [0, 1], and the ideal value for this metric is 1.\n",
    "\n",
    "\\begin{equation}\n",
    "fIou = (\\sum_{i = 1}^{k} t_i)^{-1}   \\sum_{i = 1}^{C} t_i \\cdot \\frac{n_{ii}}{t_i - n_{ii} + \\sum_{j = 1}^{C} n_{ji}}\n",
    "\\end{equation}"
   ]
  },
  {
   "cell_type": "code",
   "execution_count": 17,
   "metadata": {},
   "outputs": [],
   "source": [
    "def get_accuracy(real_target, predicted_target):\n",
    "    real_target, predicted_target = real_target.argmax(dim=1), predicted_target.argmax(dim=1)\n",
    "    return ((real_target == predicted_target).sum() / real_target.numel()).item()\n",
    "\n",
    "def intersection_over_union(real_target, predicted_target):\n",
    "    real_target = real_target.bool()\n",
    "    predicted_target = predicted_target.bool()\n",
    "    intersection = (real_target & predicted_target).sum()\n",
    "    union = (real_target | predicted_target).sum()\n",
    "    return intersection / union\n",
    "\n",
    "def intersection_over_union_weighted(real_target, predicted_target):\n",
    "    real_target = real_target.bool()\n",
    "    predicted_target = predicted_target.bool()\n",
    "    intersection = (real_target & predicted_target).sum(dim=(0, 2, 3))\n",
    "    union = (real_target | predicted_target).sum(dim=(0, 2, 3))\n",
    "    return (intersection / union).sum() / intersection.sum()\n",
    "\n",
    "def check_metrics(loader, model):\n",
    "    model.eval()\n",
    "\n",
    "    with torch.no_grad():\n",
    "        all_predicted_targets = torch.tensor([]).to(device)\n",
    "        all_real_targets = torch.tensor([]).to(device)\n",
    "        ok=True\n",
    "        for x,y in loader:\n",
    "            x,real_target = x.to(device), F.one_hot(y.to(device))\n",
    "            predicted_target= F.one_hot(model(x).to(device).argmax(dim=1), num_classes=3)\n",
    "            all_predicted_targets = torch.cat((all_predicted_targets, predicted_target))\n",
    "            all_real_targets = torch.cat((all_real_targets, real_target))\n",
    "            if ok is True:\n",
    "                ok=False\n",
    "                predicted_mask = predicted_target[0].float().cpu().numpy()\n",
    "                real_mask = real_target[0].float().cpu().numpy()\n",
    "                image = x[0].cpu().numpy().transpose(1, 2, 0)\n",
    "                plt.imsave(\"predicted.jpg\", predicted_mask)\n",
    "                plt.imsave(\"real.jpg\", real_mask)\n",
    "                plt.imsave(\"image.jpg\", image)\n",
    "                columns = [\"Real image\", \"Ground truth\", \"Predicted segmentation\"]\n",
    "                table = wandb.Table(columns=columns, data=[[wandb.Image(\"image.jpg\"), wandb.Image(\"real.jpg\"), wandb.Image(\"predicted.jpg\")]])\n",
    "                wandb.log({\"Predictions\": table})\n",
    "        accuracy = get_accuracy(all_real_targets, all_predicted_targets)\n",
    "        jacard_index = intersection_over_union(all_real_targets, all_predicted_targets)\n",
    "        frequency_weighted_iou = intersection_over_union_weighted(all_real_targets, all_predicted_targets)\n",
    "    model.train()\n",
    "    return accuracy, (jacard_index*100).int(), frequency_weighted_iou"
   ]
  },
  {
   "cell_type": "code",
   "execution_count": 18,
   "metadata": {},
   "outputs": [
    {
     "name": "stderr",
     "output_type": "stream",
     "text": [
      "Failed to detect the name of this notebook, you can set it manually with the WANDB_NOTEBOOK_NAME environment variable to enable code saving.\n"
     ]
    },
    {
     "name": "stdout",
     "output_type": "stream",
     "text": [
      "Create sweep with ID: qtbs8fec\n",
      "Sweep URL: https://wandb.ai/catalin-ai/school-project/sweeps/qtbs8fec\n"
     ]
    }
   ],
   "source": [
    "sweep_config: dict = {\n",
    "    \"project\": \"school-project\",\n",
    "    \"metric\":\n",
    "        {\"name\": \"loss\",\"goal\": \"minimize\"}\n",
    "    ,\n",
    "    \"method\": \"grid\", # grid/random\n",
    "    \"parameters\": None,\n",
    "}\n",
    "parameters: dict = {\n",
    "    \"learning_rate\": {\n",
    "        \"values\": [1e-4, 1e-5, 1e-6]\n",
    "    },\n",
    "    \"number_of_epochs\": {\n",
    "        \"values\": [8,9,10]\n",
    "    },\n",
    "    \"features\":\n",
    "    {\n",
    "        \"values\":\n",
    "        [\n",
    "            [64,128,256],\n",
    "            [64,128,256,512]\n",
    "        ]\n",
    "    }\n",
    "}\n",
    "sweep_config[\"parameters\"] = parameters\n",
    "sweep_id = wandb.sweep(sweep_config) # https://wandb.ai/catalin-ai/school-project/sweeps/e0tzl5sq\n",
    "# https://wandb.ai/catalin-ai/school-project/sweeps/2rxfxvn8\n",
    "# GRID SEARCH: https://wandb.ai/catalin-ai/school-project/runs/nsaah8vf"
   ]
  },
  {
   "cell_type": "code",
   "execution_count": 19,
   "metadata": {},
   "outputs": [],
   "source": [
    "device = torch.device(\"cpu\")\n",
    "loss_function = nn.CrossEntropyLoss()\n",
    "# iou = 88\n",
    "# model,optimizer, scheduler = load_checkpoint(f\"./checkpoints/iou_{iou}.pth\")\n",
    "\n",
    "def agent_function():\n",
    "    run = wandb.init(config=sweep_config)\n",
    "    learning_rate = wandb.config.learning_rate\n",
    "    number_of_epochs = wandb.config.number_of_epochs\n",
    "    features = wandb.config.features\n",
    "    wandb.log({\"learning_rate\": learning_rate, \"number_of_epochs\": number_of_epochs, \"features\": len(features)})\n",
    "    model = UNET(in_channels=3, out_channels=3, features=features).to(device)\n",
    "    optimizer = torch.optim.Adam(model.parameters(), lr=learning_rate)\n",
    "    scheduler = torch.optim.lr_scheduler.ExponentialLR(optimizer, gamma=0.8)\n",
    "    for epoch in range(number_of_epochs):\n",
    "        train_one_epoch(training_loader, model, optimizer, loss_function, scheduler)\n",
    "        accuracy, iou, _ = check_metrics(validation_loader, model)\n",
    "        wandb.log({\"accuracy\": accuracy, \"iou\": iou})\n",
    "        save_checkpoint(model, optimizer, scheduler, f\"./checkpoints/iou_{iou}_{len(features)}_features.pth\")\n",
    "    run.finish()\n",
    "\n",
    "# wandb.agent(sweep_id, function=agent_function, count=2)"
   ]
  },
  {
   "cell_type": "code",
   "execution_count": 20,
   "metadata": {},
   "outputs": [],
   "source": [
    "class ModelCheckpoint:\n",
    "    def __init__(self):\n",
    "        self.best_metric = None\n",
    "        self.artifact = wandb.Artifact(name=\"model_parameters\", type=\"model\")\n",
    "    \n",
    "    def save(self, file_path, metric):\n",
    "        if self.best_metric is None or metric > self.best_metric:\n",
    "            self.best_metric = metric\n",
    "            self.artifact.add_file(file_path)"
   ]
  },
  {
   "cell_type": "code",
   "execution_count": 21,
   "metadata": {},
   "outputs": [
    {
     "data": {
      "text/html": [
       "Changes to your `wandb` environment variables will be ignored because your `wandb` session has already started. For more information on how to modify your settings with `wandb.init()` arguments, please refer to <a href='https://wandb.me/wandb-init' target=\"_blank\">the W&B docs</a>."
      ],
      "text/plain": [
       "<IPython.core.display.HTML object>"
      ]
     },
     "metadata": {},
     "output_type": "display_data"
    },
    {
     "name": "stderr",
     "output_type": "stream",
     "text": [
      "\u001b[34m\u001b[1mwandb\u001b[0m: Currently logged in as: \u001b[33mcatalinbgnr\u001b[0m (\u001b[33mcatalin-ai\u001b[0m). Use \u001b[1m`wandb login --relogin`\u001b[0m to force relogin\n"
     ]
    },
    {
     "data": {
      "text/html": [
       "Tracking run with wandb version 0.16.1"
      ],
      "text/plain": [
       "<IPython.core.display.HTML object>"
      ]
     },
     "metadata": {},
     "output_type": "display_data"
    },
    {
     "data": {
      "text/html": [
       "Run data is saved locally in <code>/mnt/c/Programe/Facultate/CVADL/LabsSolved/Lab5/wandb/run-20240105_164155-8o0h7yo0</code>"
      ],
      "text/plain": [
       "<IPython.core.display.HTML object>"
      ]
     },
     "metadata": {},
     "output_type": "display_data"
    },
    {
     "data": {
      "text/html": [
       "Syncing run <strong><a href='https://wandb.ai/catalin-ai/school-project/runs/8o0h7yo0' target=\"_blank\">ethereal-voice-57</a></strong> to <a href='https://wandb.ai/catalin-ai/school-project' target=\"_blank\">Weights & Biases</a> (<a href='https://wandb.me/run' target=\"_blank\">docs</a>)<br/>"
      ],
      "text/plain": [
       "<IPython.core.display.HTML object>"
      ]
     },
     "metadata": {},
     "output_type": "display_data"
    },
    {
     "data": {
      "text/html": [
       " View project at <a href='https://wandb.ai/catalin-ai/school-project' target=\"_blank\">https://wandb.ai/catalin-ai/school-project</a>"
      ],
      "text/plain": [
       "<IPython.core.display.HTML object>"
      ]
     },
     "metadata": {},
     "output_type": "display_data"
    },
    {
     "data": {
      "text/html": [
       " View run at <a href='https://wandb.ai/catalin-ai/school-project/runs/8o0h7yo0' target=\"_blank\">https://wandb.ai/catalin-ai/school-project/runs/8o0h7yo0</a>"
      ],
      "text/plain": [
       "<IPython.core.display.HTML object>"
      ]
     },
     "metadata": {},
     "output_type": "display_data"
    },
    {
     "data": {
      "application/vnd.jupyter.widget-view+json": {
       "model_id": "3ba141187b9c4d4f9fa654b32e15b52c",
       "version_major": 2,
       "version_minor": 0
      },
      "text/plain": [
       "VBox(children=(Label(value='0.003 MB of 0.013 MB uploaded\\r'), FloatProgress(value=0.25009050756643253, max=1.…"
      ]
     },
     "metadata": {},
     "output_type": "display_data"
    },
    {
     "data": {
      "text/html": [
       " View run <strong style=\"color:#cdcd00\">ethereal-voice-57</strong> at: <a href='https://wandb.ai/catalin-ai/school-project/runs/8o0h7yo0' target=\"_blank\">https://wandb.ai/catalin-ai/school-project/runs/8o0h7yo0</a><br/>Synced 4 W&B file(s), 0 media file(s), 0 artifact file(s) and 0 other file(s)"
      ],
      "text/plain": [
       "<IPython.core.display.HTML object>"
      ]
     },
     "metadata": {},
     "output_type": "display_data"
    },
    {
     "data": {
      "text/html": [
       "Find logs at: <code>./wandb/run-20240105_164155-8o0h7yo0/logs</code>"
      ],
      "text/plain": [
       "<IPython.core.display.HTML object>"
      ]
     },
     "metadata": {},
     "output_type": "display_data"
    }
   ],
   "source": [
    "model_checkpoint = ModelCheckpoint()\n",
    "device = torch.device(\"cuda\")\n",
    "features = [64, 128, 256]\n",
    "n_features = 3\n",
    "number_of_epochs = 50\n",
    "run = wandb.init(config=sweep_config)\n",
    "\n",
    "# model, optimizer, scheduler =  load_checkpoint(f\"./checkpoints/iou_{iou}_{len(features)}_features.pth\")\n",
    "model = UNET(in_channels=3, out_channels=3, features=features).to(device)\n",
    "optimizer = torch.optim.Adam(model.parameters(), lr=learning_rate, weight_decay=weight_decay)\n",
    "scheduler = torch.optim.lr_scheduler.ExponentialLR(optimizer, gamma=0.8)\n",
    "for epoch in range(0):\n",
    "    train_one_epoch(training_loader, model, optimizer, loss_function, scheduler)\n",
    "    accuracy, iou, _ = check_metrics(validation_loader, model)\n",
    "    save_checkpoint(model, optimizer, scheduler, f\"./checkpoints/iou_{iou}_{n_features}_features.pth\")\n",
    "    # model_checkpoint.save(f\"./checkpoints/iou_{iou}_{n_features}_features.pth\", iou)\n",
    "    wandb.log({\"accuracy\": accuracy, \"iou\": iou})\n",
    "run.finish()"
   ]
  },
  {
   "cell_type": "code",
   "execution_count": 33,
   "metadata": {},
   "outputs": [
    {
     "name": "stdout",
     "output_type": "stream",
     "text": [
      "=> Loading checkpoint\n"
     ]
    },
    {
     "data": {
      "image/png": "[encoded data removed]",
      "text/plain": [
       "<Figure size 432x288 with 2 Axes>"
      ]
     },
     "metadata": {
      "needs_background": "light"
     },
     "output_type": "display_data"
    },
    {
     "data": {
      "image/png": "[encoded data removed]",
      "text/plain": [
       "<Figure size 432x288 with 2 Axes>"
      ]
     },
     "metadata": {
      "needs_background": "light"
     },
     "output_type": "display_data"
    },
    {
     "data": {
      "image/png": "[encoded data removed]",
      "text/plain": [
       "<Figure size 432x288 with 2 Axes>"
      ]
     },
     "metadata": {
      "needs_background": "light"
     },
     "output_type": "display_data"
    },
    {
     "data": {
      "image/png": "[encoded data removed]",
      "text/plain": [
       "<Figure size 432x288 with 2 Axes>"
      ]
     },
     "metadata": {
      "needs_background": "light"
     },
     "output_type": "display_data"
    },
    {
     "data": {
      "image/png": "[encoded data removed]",
      "text/plain": [
       "<Figure size 432x288 with 2 Axes>"
      ]
     },
     "metadata": {
      "needs_background": "light"
     },
     "output_type": "display_data"
    },
    {
     "data": {
      "image/png": "[encoded data removed]",
      "text/plain": [
       "<Figure size 432x288 with 2 Axes>"
      ]
     },
     "metadata": {
      "needs_background": "light"
     },
     "output_type": "display_data"
    }
   ],
   "source": [
    "device = torch.device(\"cuda\")\n",
    "# Generate predictions\n",
    "model_iou = 91\n",
    "n_fetures = 3\n",
    "model,_,_ = load_checkpoint(f\"./checkpoints/iou_{model_iou}_{n_features}_features.pth\")\n",
    "with torch.no_grad():\n",
    "    i=0\n",
    "    for x,y in validation_loader:\n",
    "        x,y = x.to(device), y.to(device)\n",
    "        preds= model(x).argmax(dim=1)\n",
    "        real_segmentation = F.one_hot(y[0]).float().cpu().numpy()\n",
    "        computed_segmentation = F.one_hot(preds[0]).float().cpu().numpy()\n",
    "        plt.figure(i)\n",
    "        plt.subplot(1, 2, 1).imshow(real_segmentation)\n",
    "        plt.title(\"Real segmentation\")\n",
    "        plt.subplot(1, 2, 2).imshow(computed_segmentation)\n",
    "        plt.title(\"Computed segmentation\")\n",
    "        i+=1\n",
    "        if i==6: # Number of pairs displayed\n",
    "            break"
   ]
  },
  {
   "cell_type": "code",
   "execution_count": null,
   "metadata": {},
   "outputs": [],
   "source": []
  }
 ],
 "metadata": {
  "kernelspec": {
   "display_name": "Python 3",
   "language": "python",
   "name": "python3"
  },
  "language_info": {
   "codemirror_mode": {
    "name": "ipython",
    "version": 3
   },
   "file_extension": ".py",
   "mimetype": "text/x-python",
   "name": "python",
   "nbconvert_exporter": "python",
   "pygments_lexer": "ipython3",
   "version": "3.10.12"
  }
 },
 "nbformat": 4,
 "nbformat_minor": 2
}
